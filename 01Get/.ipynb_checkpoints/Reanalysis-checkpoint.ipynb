{
 "cells": [
  {
   "cell_type": "markdown",
   "metadata": {},
   "source": [
    "Read in reanalysis data from NCEP-NCAR Reanalysis I data set."
   ]
  },
  {
   "cell_type": "code",
   "execution_count": 1,
   "metadata": {
    "collapsed": true
   },
   "outputs": [],
   "source": [
    "import numpy as np\n",
    "import xarray as xr\n",
    "import os\n",
    "from paraguayfloodspy.pars  import GetPars\n",
    "from windspharm.xarray import VectorWind"
   ]
  },
  {
   "cell_type": "markdown",
   "metadata": {},
   "source": [
    "Define the boundaries of the data to retrieve in space and time.\n",
    "Note that in order to calculate the streamfunction, which we will plot later, we need to have a global domain.\n",
    "See [package `windspharm` documentation](http://ajdawson.github.io/windspharm/userguide/) for more details."
   ]
  },
  {
   "cell_type": "code",
   "execution_count": 2,
   "metadata": {
    "collapsed": true
   },
   "outputs": [],
   "source": [
    "time_pars = GetPars('time')\n",
    "syear,eyear = time_pars['syear'], time_pars['eyear']"
   ]
  },
  {
   "cell_type": "markdown",
   "metadata": {},
   "source": [
    "Define the levels we want"
   ]
  },
  {
   "cell_type": "code",
   "execution_count": 3,
   "metadata": {
    "collapsed": true
   },
   "outputs": [],
   "source": [
    "levels = [200, 850]\n",
    "years = np.arange(syear, eyear+1)\n",
    "overwrite = False # overwrite existing data?"
   ]
  },
  {
   "cell_type": "markdown",
   "metadata": {},
   "source": [
    "The approach to data management here is to try to minimize the number of times data needs to be re-downloaded (trial and error is a tough teacher...).\n",
    "Consequently, we first download a relatively complete data set (all years in our range, and all levels in our range).\n",
    "That is implemented in this notebook.\n",
    "Later, we calculate anomalies and climatologies for a subset of the data -- this is very quick and if we change our spatial or temporal domain, we don't need to re-download anything.\n",
    "\n",
    "Now, for each level, we will run through each year from `syear` to `eyear`.\n",
    "Then, for each year, we will:\n",
    "\n",
    "1. Download the six-hour zonal ($u$) wind for that level and year and save to file\n",
    "2. Download the six-hour meridional ($v$) wind for that level ande year and save to file\n",
    "3. Calculate the six-hour streamfunction ($\\psi$) for that year and save to file\n",
    "\n",
    "The `overwrite` parameter specified above determines whether the data is downloaded even if the file is already on disk -- this can be useful for downloading a bit at a time."
   ]
  },
  {
   "cell_type": "code",
   "execution_count": 4,
   "metadata": {
    "scrolled": false
   },
   "outputs": [
    {
     "name": "stdout",
     "output_type": "stream",
     "text": [
      "Now working on 200hPa data\n",
      "\tData for 1979 already exists -- not re-downloading\n",
      "\tData for 1980 already exists -- not re-downloading\n",
      "\tData for 1981 already exists -- not re-downloading\n",
      "\tData for 1982 already exists -- not re-downloading\n",
      "\tData for 1983 already exists -- not re-downloading\n",
      "\tData for 1984 already exists -- not re-downloading\n",
      "\tData for 1985 already exists -- not re-downloading\n",
      "\tData for 1986 already exists -- not re-downloading\n",
      "\tData for 1987 already exists -- not re-downloading\n",
      "\tData for 1988 already exists -- not re-downloading\n",
      "\tData for 1989 already exists -- not re-downloading\n",
      "\tData for 1990 already exists -- not re-downloading\n",
      "\tData for 1991 already exists -- not re-downloading\n",
      "\tData for 1992 already exists -- not re-downloading\n",
      "\tData for 1993 already exists -- not re-downloading\n",
      "\tData for 1994 already exists -- not re-downloading\n",
      "\tData for 1995 already exists -- not re-downloading\n",
      "\tData for 1996 already exists -- not re-downloading\n",
      "\tData for 1997 already exists -- not re-downloading\n",
      "\tData for 1998 already exists -- not re-downloading\n",
      "\tData for 1999 already exists -- not re-downloading\n",
      "\tData for 2000 already exists -- not re-downloading\n",
      "\tData for 2001 already exists -- not re-downloading\n",
      "\tData for 2002 already exists -- not re-downloading\n",
      "\tData for 2003 already exists -- not re-downloading\n",
      "\tData for 2004 already exists -- not re-downloading\n",
      "\tData for 2005 already exists -- not re-downloading\n",
      "\tData for 2006 already exists -- not re-downloading\n",
      "\tData for 2007 already exists -- not re-downloading\n",
      "\tData for 2008 already exists -- not re-downloading\n",
      "\tData for 2009 already exists -- not re-downloading\n",
      "\tData for 2010 already exists -- not re-downloading\n",
      "\tData for 2011 already exists -- not re-downloading\n",
      "\tData for 2012 already exists -- not re-downloading\n",
      "\tData for 2013 already exists -- not re-downloading\n",
      "\tData for 2014 already exists -- not re-downloading\n",
      "\tData for 2015 already exists -- not re-downloading\n",
      "\tData for 2016 already exists -- not re-downloading\n",
      "Now working on 850hPa data\n",
      "\tData for 1979 already exists -- not re-downloading\n",
      "\tData for 1980 already exists -- not re-downloading\n",
      "\tData for 1981 already exists -- not re-downloading\n",
      "\tData for 1982 already exists -- not re-downloading\n",
      "\tData for 1983 already exists -- not re-downloading\n",
      "\tData for 1984 already exists -- not re-downloading\n",
      "\tData for 1985 already exists -- not re-downloading\n",
      "\tData for 1986 already exists -- not re-downloading\n",
      "\tData for 1987 already exists -- not re-downloading\n",
      "\tData for 1988 already exists -- not re-downloading\n",
      "\tData for 1989 already exists -- not re-downloading\n",
      "\tData for 1990 already exists -- not re-downloading\n",
      "\tData for 1991 already exists -- not re-downloading\n",
      "\tData for 1992 already exists -- not re-downloading\n",
      "\tData for 1993 already exists -- not re-downloading\n",
      "\tData for 1994 already exists -- not re-downloading\n",
      "\tData for 1995 already exists -- not re-downloading\n",
      "\tData for 1996 already exists -- not re-downloading\n",
      "\tData for 1997 already exists -- not re-downloading\n",
      "\tData for 1998 already exists -- not re-downloading\n",
      "\tData for 1999 already exists -- not re-downloading\n",
      "\tData for 2000 already exists -- not re-downloading\n",
      "\tData for 2001 already exists -- not re-downloading\n",
      "\tData for 2002 already exists -- not re-downloading\n",
      "\tData for 2003 already exists -- not re-downloading\n",
      "\tData for 2004 already exists -- not re-downloading\n",
      "\tData for 2005 already exists -- not re-downloading\n",
      "\tData for 2006 already exists -- not re-downloading\n",
      "\tData for 2007 already exists -- not re-downloading\n",
      "\tData for 2008 already exists -- not re-downloading\n",
      "\tData for 2009 already exists -- not re-downloading\n",
      "\tData for 2010 already exists -- not re-downloading\n",
      "\tData for 2011 already exists -- not re-downloading\n",
      "\tData for 2012 already exists -- not re-downloading\n",
      "\tData for 2013 already exists -- not re-downloading\n",
      "\tData for 2014 already exists -- not re-downloading\n",
      "\tData for 2015 already exists -- not re-downloading\n",
      "\tData for 2016 already exists -- not re-downloading\n"
     ]
    }
   ],
   "source": [
    "for level_i in levels:\n",
    "    print(\"Now working on {}hPa data\".format(level_i))\n",
    "    for year_i in years:\n",
    "        # Define URL and Output File Names\n",
    "        url_u = 'https://www.esrl.noaa.gov/psd/thredds/dodsC/Datasets/ncep.reanalysis/pressure/uwnd.{}.nc'.format(year_i)\n",
    "        url_v = 'https://www.esrl.noaa.gov/psd/thredds/dodsC/Datasets/ncep.reanalysis/pressure/vwnd.{}.nc'.format(year_i)\n",
    "        fname_u = '../_data/reanalysis/raw/uwnd_{}_{}.nc'.format(level_i, year_i)\n",
    "        fname_v = '../_data/reanalysis/raw/vwnd_{}_{}.nc'.format(level_i, year_i)\n",
    "        fname_streamfunc = '../_data/reanalysis/raw/streamfunc_{}_{}.nc'.format(level_i, year_i)\n",
    "        if (os.path.isfile(fname_u) and os.path.isfile(fname_v) and os.path.isfile(fname_streamfunc)) and not overwrite:\n",
    "            print(\"\\tData for {} already exists -- not re-downloading\".format(year_i))\n",
    "        else:\n",
    "            print(\"\\tDownloading data for {}\".format(year_i))\n",
    "            # Get the raw wind\n",
    "            U = xr.open_dataarray(url_u).sel(level=level_i).load()\n",
    "            V = xr.open_dataarray(url_v).sel(level=level_i).load()\n",
    "            # Get streamfunction\n",
    "            W = VectorWind(U, V)\n",
    "            streamfunc = W.streamfunction()\n",
    "            # Save to file\n",
    "            U.to_netcdf(fname_u)\n",
    "            V.to_netcdf(fname_v)\n",
    "            streamfunc.to_netcdf(fname_streamfunc)"
   ]
  }
 ],
 "metadata": {
  "kernelspec": {
   "display_name": "Python 3",
   "language": "python",
   "name": "python3"
  },
  "language_info": {
   "codemirror_mode": {
    "name": "ipython",
    "version": 3
   },
   "file_extension": ".py",
   "mimetype": "text/x-python",
   "name": "python",
   "nbconvert_exporter": "python",
   "pygments_lexer": "ipython3",
   "version": "3.6.2"
  }
 },
 "nbformat": 4,
 "nbformat_minor": 2
}
