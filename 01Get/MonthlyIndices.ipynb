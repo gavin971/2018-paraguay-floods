{
 "cells": [
  {
   "cell_type": "markdown",
   "metadata": {},
   "source": [
    "Read time series of _daily_ climate indices"
   ]
  },
  {
   "cell_type": "code",
   "execution_count": 1,
   "metadata": {
    "collapsed": true
   },
   "outputs": [],
   "source": [
    "import pandas as pd\n",
    "import datetime\n",
    "import numpy as np\n",
    "from paraguayfloodspy.pars  import GetPars"
   ]
  },
  {
   "cell_type": "markdown",
   "metadata": {},
   "source": [
    "Model Parameters"
   ]
  },
  {
   "cell_type": "code",
   "execution_count": 2,
   "metadata": {
    "collapsed": true
   },
   "outputs": [],
   "source": [
    "time_pars = GetPars('time')\n",
    "syear,eyear = time_pars['syear'], time_pars['eyear']\n",
    "outfile = \"../_data/indices/monthly_indices.csv\""
   ]
  },
  {
   "cell_type": "raw",
   "metadata": {},
   "source": [
    "pdo <- fread(, skip=1)\n",
    "names(pdo) <- c('time', 'pdo')\n",
    "pdo[, time := ymd('1960-01-01') + months(floor(time))]\n",
    "pdo[, ':='(year = data.table::year(time), month = data.table::month(time))]\n",
    "pdo <- pdo[, .(year, month, pdo)]\n",
    "\n",
    "# NINO 3.4\n",
    "nino34 <- fread('http://iridl.ldeo.columbia.edu/SOURCES/.Indices/.nino/.EXTENDED/.NINO34/gridtable.tsv', skip=1)\n",
    "names(nino34) <- c('time', 'nino_34')\n",
    "nino34[, time := ymd('1960-01-01') + months(floor(time))]\n",
    "nino34[, ':='(year = data.table::year(time), month = data.table::month(time))]\n",
    "nino34 <- nino34[, .(year, month, nino_34)]\n",
    "\n",
    "# MERGE\n",
    "mrg <- merge(nino34, pdo, by = c('year', 'month'))\n",
    "\n",
    "# SAVE\n",
    "fwrite(mrg, opt$outfile)\n"
   ]
  },
  {
   "cell_type": "markdown",
   "metadata": {},
   "source": [
    "## Read in Raw\n",
    "\n",
    "First define a function"
   ]
  },
  {
   "cell_type": "code",
   "execution_count": 3,
   "metadata": {
    "collapsed": true
   },
   "outputs": [],
   "source": [
    "def read_indices(raw_url, col_name):\n",
    "    df = pd.read_table(raw_url, delim_whitespace=True,index_col=None, skiprows=2, names=['time', '{}'.format(col_name)])\n",
    "    df['time'] = np.int_(np.floor(df['time']))\n",
    "    df['year'] = 1960 + df['time'] // 12\n",
    "    df['month'] = 1 + df['time'] % 12\n",
    "    df['day'] = 1\n",
    "    df['time'] = pd.to_datetime(df[['year', 'month', 'day']])\n",
    "    df.index = df['time']\n",
    "    df = df[['{}'.format(col_name)]]\n",
    "    return(df)"
   ]
  },
  {
   "cell_type": "markdown",
   "metadata": {},
   "source": [
    "Now read in the data"
   ]
  },
  {
   "cell_type": "code",
   "execution_count": 4,
   "metadata": {
    "collapsed": true
   },
   "outputs": [],
   "source": [
    "pdo = read_indices(\n",
    "    raw_url = 'http://iridl.ldeo.columbia.edu/SOURCES/.Indices/.PDO/.pdo/gridtable.tsv', \n",
    "    col_name = 'pdo'\n",
    ")\n",
    "enso = read_indices(\n",
    "    raw_url = 'http://iridl.ldeo.columbia.edu/SOURCES/.Indices/.nino/.EXTENDED/.NINO34/gridtable.tsv',\n",
    "    col_name = 'nino_34'\n",
    ")"
   ]
  },
  {
   "cell_type": "markdown",
   "metadata": {},
   "source": [
    "## Merge"
   ]
  },
  {
   "cell_type": "markdown",
   "metadata": {},
   "source": [
    "Subset only from the start year to end year"
   ]
  },
  {
   "cell_type": "code",
   "execution_count": 5,
   "metadata": {
    "collapsed": true
   },
   "outputs": [],
   "source": [
    "df = pdo.join(enso,  how='outer')\n",
    "df = df['{}'.format(syear):'{}'.format(eyear)]"
   ]
  },
  {
   "cell_type": "markdown",
   "metadata": {},
   "source": [
    "Preview the data here to make sure it's what we want"
   ]
  },
  {
   "cell_type": "code",
   "execution_count": 6,
   "metadata": {},
   "outputs": [
    {
     "data": {
      "text/html": [
       "<div>\n",
       "<style>\n",
       "    .dataframe thead tr:only-child th {\n",
       "        text-align: right;\n",
       "    }\n",
       "\n",
       "    .dataframe thead th {\n",
       "        text-align: left;\n",
       "    }\n",
       "\n",
       "    .dataframe tbody tr th {\n",
       "        vertical-align: top;\n",
       "    }\n",
       "</style>\n",
       "<table border=\"1\" class=\"dataframe\">\n",
       "  <thead>\n",
       "    <tr style=\"text-align: right;\">\n",
       "      <th></th>\n",
       "      <th>pdo</th>\n",
       "      <th>nino_34</th>\n",
       "    </tr>\n",
       "    <tr>\n",
       "      <th>time</th>\n",
       "      <th></th>\n",
       "      <th></th>\n",
       "    </tr>\n",
       "  </thead>\n",
       "  <tbody>\n",
       "    <tr>\n",
       "      <th>2016-03-01</th>\n",
       "      <td>2.40</td>\n",
       "      <td>1.711209</td>\n",
       "    </tr>\n",
       "    <tr>\n",
       "      <th>2016-04-01</th>\n",
       "      <td>2.62</td>\n",
       "      <td>1.384699</td>\n",
       "    </tr>\n",
       "    <tr>\n",
       "      <th>2016-05-01</th>\n",
       "      <td>2.35</td>\n",
       "      <td>0.798263</td>\n",
       "    </tr>\n",
       "    <tr>\n",
       "      <th>2016-06-01</th>\n",
       "      <td>2.03</td>\n",
       "      <td>0.322799</td>\n",
       "    </tr>\n",
       "    <tr>\n",
       "      <th>2016-07-01</th>\n",
       "      <td>1.25</td>\n",
       "      <td>-0.105840</td>\n",
       "    </tr>\n",
       "    <tr>\n",
       "      <th>2016-08-01</th>\n",
       "      <td>0.52</td>\n",
       "      <td>-0.242217</td>\n",
       "    </tr>\n",
       "    <tr>\n",
       "      <th>2016-09-01</th>\n",
       "      <td>0.45</td>\n",
       "      <td>-0.130281</td>\n",
       "    </tr>\n",
       "    <tr>\n",
       "      <th>2016-10-01</th>\n",
       "      <td>NaN</td>\n",
       "      <td>-0.539678</td>\n",
       "    </tr>\n",
       "    <tr>\n",
       "      <th>2016-11-01</th>\n",
       "      <td>NaN</td>\n",
       "      <td>-0.298363</td>\n",
       "    </tr>\n",
       "    <tr>\n",
       "      <th>2016-12-01</th>\n",
       "      <td>NaN</td>\n",
       "      <td>-0.231083</td>\n",
       "    </tr>\n",
       "  </tbody>\n",
       "</table>\n",
       "</div>"
      ],
      "text/plain": [
       "             pdo   nino_34\n",
       "time                      \n",
       "2016-03-01  2.40  1.711209\n",
       "2016-04-01  2.62  1.384699\n",
       "2016-05-01  2.35  0.798263\n",
       "2016-06-01  2.03  0.322799\n",
       "2016-07-01  1.25 -0.105840\n",
       "2016-08-01  0.52 -0.242217\n",
       "2016-09-01  0.45 -0.130281\n",
       "2016-10-01   NaN -0.539678\n",
       "2016-11-01   NaN -0.298363\n",
       "2016-12-01   NaN -0.231083"
      ]
     },
     "execution_count": 6,
     "metadata": {},
     "output_type": "execute_result"
    }
   ],
   "source": [
    "df.head()\n",
    "df.tail(10)"
   ]
  },
  {
   "cell_type": "markdown",
   "metadata": {},
   "source": [
    "Save to file"
   ]
  },
  {
   "cell_type": "code",
   "execution_count": 7,
   "metadata": {
    "collapsed": true
   },
   "outputs": [],
   "source": [
    "df.to_csv(outfile)"
   ]
  }
 ],
 "metadata": {
  "kernelspec": {
   "display_name": "Python 3",
   "language": "python",
   "name": "python3"
  },
  "language_info": {
   "codemirror_mode": {
    "name": "ipython",
    "version": 3
   },
   "file_extension": ".py",
   "mimetype": "text/x-python",
   "name": "python",
   "nbconvert_exporter": "python",
   "pygments_lexer": "ipython3",
   "version": "3.6.2"
  }
 },
 "nbformat": 4,
 "nbformat_minor": 2
}
