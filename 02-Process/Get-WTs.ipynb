{
 "cells": [
  {
   "cell_type": "markdown",
   "metadata": {},
   "source": [
    "# Creating Weather Types\n",
    "\n",
    "In this notebook we will start by computing weather types.\n",
    "Then, we will look at composite anomalies and sequences of weather types that result from the calculation."
   ]
  },
  {
   "cell_type": "code",
   "execution_count": 1,
   "metadata": {
    "collapsed": true
   },
   "outputs": [],
   "source": [
    "import xarray as xr\n",
    "import pandas as pd\n",
    "import numpy as np\n",
    "import matplotlib.pyplot as plt\n",
    "from paraguayfloodspy.weather_type import XrEofCluster\n",
    "from paraguayfloodspy.pars import GetPars"
   ]
  },
  {
   "cell_type": "code",
   "execution_count": 2,
   "metadata": {
    "collapsed": true
   },
   "outputs": [],
   "source": [
    "%matplotlib inline"
   ]
  },
  {
   "cell_type": "markdown",
   "metadata": {},
   "source": [
    "Load in the raw data -- in this case the streamfunction.\n",
    "Note that it is *important* that you don't use anomalies taken against monthly climatology for the weather typing.\n",
    "Otherwise, it would be possible (for example) to get a different weather type on December 31 and Jan 1st, even if the circulation was identical, because the corresponding climatologies were different.\n",
    "Instead, subtract the mean after loading the data in"
   ]
  },
  {
   "cell_type": "code",
   "execution_count": 3,
   "metadata": {
    "collapsed": true
   },
   "outputs": [],
   "source": [
    "pars = GetPars('all')\n",
    "ds = xr.open_dataset(\"../_data/reanalysis/subset/streamfunc_850_raw.nc\")\n",
    "ds = ds.sel(lat = slice(pars['wt_rgn']['latmax'], pars['wt_rgn']['latmin']), \n",
    "            lon = slice(pars['wt_rgn']['lonmin'], pars['wt_rgn']['lonmax']), \n",
    "            time = slice('{}-11-01'.format(pars['time']['syear']), '{}-02-29'.format(pars['time']['eyear'])))\n",
    "ds = ds.sel(time = np.in1d(ds['time.month'], [11, 12, 1, 2]))\n",
    "ds = ds - ds.mean(dim = 'time')"
   ]
  },
  {
   "cell_type": "markdown",
   "metadata": {},
   "source": [
    "## How Many Weather Types?\n",
    "\n",
    "The weather typing algorithm is performed using the `XrEofCluster` algorithm.\n",
    "Our first step is to explore several reasonable values for the number of weather types and then to explore the Classifiability Index associated with each."
   ]
  },
  {
   "cell_type": "code",
   "execution_count": 4,
   "metadata": {},
   "outputs": [
    {
     "name": "stderr",
     "output_type": "stream",
     "text": [
      "/usr/local/miniconda3/envs/pyfloods/lib/python3.6/site-packages/eofs/xarray.py:413: FutureWarning: Coordinate has been deprecated. Use IndexVariable instead.\n",
      "  attrs={'long_name': 'eof_mode_number'})\n",
      "/usr/local/miniconda3/envs/pyfloods/lib/python3.6/site-packages/eofs/xarray.py:178: FutureWarning: Coordinate has been deprecated. Use IndexVariable instead.\n",
      "  attrs={'long_name': 'eof_mode_number'})\n"
     ]
    },
    {
     "name": "stdout",
     "output_type": "stream",
     "text": [
      "Number of EOFs retained is 4\n",
      "Number of EOFs retained is 4\n",
      "Number of EOFs retained is 4\n",
      "Number of EOFs retained is 4\n",
      "Number of EOFs retained is 4\n",
      "Number of EOFs retained is 4\n"
     ]
    }
   ],
   "source": [
    "n_clusters = np.arange(2,10)\n",
    "class_index = np.zeros(n_clusters.shape)\n",
    "for i,nc in enumerate(n_clusters):\n",
    "    _, _, ci = XrEofCluster(\n",
    "        ds, \n",
    "        n_clusters=nc, # How many weather types to create?\n",
    "        prop=0.95, # What proportion of variance should be retained?\n",
    "        nsim=100, # How many random initializations to compute?\n",
    "        variable='streamfunction',\n",
    "        verbose = False # get useful info from the algorithm\n",
    "    )\n",
    "    class_index[i] = ci"
   ]
  },
  {
   "cell_type": "markdown",
   "metadata": {},
   "source": [
    "Let's see how these possibilities compare:"
   ]
  },
  {
   "cell_type": "code",
   "execution_count": 5,
   "metadata": {},
   "outputs": [
    {
     "data": {
      "image/png": "[encoded data removed]",
      "text/plain": [
       "<matplotlib.figure.Figure at 0x11ada4278>"
      ]
     },
     "metadata": {},
     "output_type": "display_data"
    }
   ],
   "source": [
    "plt.figure(figsize=(7, 4))\n",
    "plt.plot(n_clusters, class_index)\n",
    "plt.xlabel(\"Number of Weather Types\")\n",
    "plt.ylabel(\"Classifiability Index\")\n",
    "plt.grid()"
   ]
  },
  {
   "cell_type": "markdown",
   "metadata": {},
   "source": [
    "So, while 50 simulations is obviously less than ideal to see what the optimal classifiability index is, we see that anything in the range 4-7 is reasonable.\n",
    "Although 4 provides the most stable estimates of the weather types, we choose $k=6$ because of the interpretability of the resulting weather types; this is a somewhat subjective choice but we feel a reasonable one."
   ]
  },
  {
   "cell_type": "markdown",
   "metadata": {},
   "source": [
    "## Weather Typing\n",
    "\n",
    "Now we calculate the sequences of weather types"
   ]
  },
  {
   "cell_type": "code",
   "execution_count": 6,
   "metadata": {},
   "outputs": [
    {
     "name": "stdout",
     "output_type": "stream",
     "text": [
      "xarray-based classifiability for 6 clusters\n",
      "Performing EOF decomposition of data for dimension reduction...\n",
      "Number of EOFs retained is 4\n",
      "Carrying out 250 k-means simulations...\n"
     ]
    },
    {
     "name": "stderr",
     "output_type": "stream",
     "text": [
      "/usr/local/miniconda3/envs/pyfloods/lib/python3.6/site-packages/eofs/xarray.py:413: FutureWarning: Coordinate has been deprecated. Use IndexVariable instead.\n",
      "  attrs={'long_name': 'eof_mode_number'})\n",
      "/usr/local/miniconda3/envs/pyfloods/lib/python3.6/site-packages/eofs/xarray.py:178: FutureWarning: Coordinate has been deprecated. Use IndexVariable instead.\n",
      "  attrs={'long_name': 'eof_mode_number'})\n"
     ]
    },
    {
     "name": "stdout",
     "output_type": "stream",
     "text": [
      "Computing classifiability index for each pair of simulations...\n"
     ]
    }
   ],
   "source": [
    "best_centroid, best_ts, classifiability = XrEofCluster(\n",
    "    ds, \n",
    "    n_clusters=6, # How many weather types to create?\n",
    "    prop=0.95, # What proportion of variance should be retained?\n",
    "    nsim=250, # How many random initializations to compute?\n",
    "    variable='streamfunction',\n",
    "    verbose = True # get useful info from the algorithm\n",
    ")"
   ]
  },
  {
   "cell_type": "markdown",
   "metadata": {},
   "source": [
    "What is our Classifiability Index?"
   ]
  },
  {
   "cell_type": "code",
   "execution_count": 7,
   "metadata": {},
   "outputs": [
    {
     "name": "stdout",
     "output_type": "stream",
     "text": [
      "Classifiability Index: 0.7686919803027027\n"
     ]
    }
   ],
   "source": [
    "print(\"Classifiability Index: {}\".format(classifiability))"
   ]
  },
  {
   "cell_type": "markdown",
   "metadata": {},
   "source": [
    "Now get the data in a useful format"
   ]
  },
  {
   "cell_type": "code",
   "execution_count": 8,
   "metadata": {},
   "outputs": [
    {
     "data": {
      "text/html": [
       "<div>\n",
       "<style>\n",
       "    .dataframe thead tr:only-child th {\n",
       "        text-align: right;\n",
       "    }\n",
       "\n",
       "    .dataframe thead th {\n",
       "        text-align: left;\n",
       "    }\n",
       "\n",
       "    .dataframe tbody tr th {\n",
       "        vertical-align: top;\n",
       "    }\n",
       "</style>\n",
       "<table border=\"1\" class=\"dataframe\">\n",
       "  <thead>\n",
       "    <tr style=\"text-align: right;\">\n",
       "      <th></th>\n",
       "      <th>wtype</th>\n",
       "    </tr>\n",
       "    <tr>\n",
       "      <th>time</th>\n",
       "      <th></th>\n",
       "    </tr>\n",
       "  </thead>\n",
       "  <tbody>\n",
       "    <tr>\n",
       "      <th>1979-11-01</th>\n",
       "      <td>1</td>\n",
       "    </tr>\n",
       "    <tr>\n",
       "      <th>1979-11-02</th>\n",
       "      <td>3</td>\n",
       "    </tr>\n",
       "    <tr>\n",
       "      <th>1979-11-03</th>\n",
       "      <td>6</td>\n",
       "    </tr>\n",
       "    <tr>\n",
       "      <th>1979-11-04</th>\n",
       "      <td>2</td>\n",
       "    </tr>\n",
       "    <tr>\n",
       "      <th>1979-11-05</th>\n",
       "      <td>2</td>\n",
       "    </tr>\n",
       "  </tbody>\n",
       "</table>\n",
       "</div>"
      ],
      "text/plain": [
       "            wtype\n",
       "time             \n",
       "1979-11-01      1\n",
       "1979-11-02      3\n",
       "1979-11-03      6\n",
       "1979-11-04      2\n",
       "1979-11-05      2"
      ]
     },
     "execution_count": 8,
     "metadata": {},
     "output_type": "execute_result"
    }
   ],
   "source": [
    "df = pd.DataFrame({'wtype': pd.Series(np.int_(best_ts), index=ds.time)})\n",
    "df.head()"
   ]
  },
  {
   "cell_type": "markdown",
   "metadata": {},
   "source": [
    "Save to file"
   ]
  },
  {
   "cell_type": "code",
   "execution_count": 9,
   "metadata": {
    "collapsed": true
   },
   "outputs": [],
   "source": [
    "df.to_csv(\"../_data/derived/WeatherTypes.csv\")"
   ]
  }
 ],
 "metadata": {
  "kernelspec": {
   "display_name": "Python 3",
   "language": "python",
   "name": "python3"
  },
  "language_info": {
   "codemirror_mode": {
    "name": "ipython",
    "version": 3
   },
   "file_extension": ".py",
   "mimetype": "text/x-python",
   "name": "python",
   "nbconvert_exporter": "python",
   "pygments_lexer": "ipython3",
   "version": "3.6.2"
  }
 },
 "nbformat": 4,
 "nbformat_minor": 2
}
