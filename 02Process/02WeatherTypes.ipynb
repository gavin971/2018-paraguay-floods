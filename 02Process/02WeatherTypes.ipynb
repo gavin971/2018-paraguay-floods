{
 "cells": [
  {
   "cell_type": "markdown",
   "metadata": {},
   "source": [
    "Here we will compute weather types for NDJF"
   ]
  },
  {
   "cell_type": "code",
   "execution_count": 1,
   "metadata": {
    "collapsed": true
   },
   "outputs": [],
   "source": [
    "import xarray as xr\n",
    "import pandas as pd\n",
    "import numpy as np\n",
    "from paraguayfloodspy.weather_type import XrEofCluster"
   ]
  },
  {
   "cell_type": "markdown",
   "metadata": {},
   "source": [
    "Load in the raw data -- in this case, anomalies of streamfunction"
   ]
  },
  {
   "cell_type": "code",
   "execution_count": 2,
   "metadata": {},
   "outputs": [
    {
     "name": "stdout",
     "output_type": "stream",
     "text": [
      "<xarray.Dataset>\n",
      "Dimensions:         (lat: 7, lon: 9, time: 4487)\n",
      "Coordinates:\n",
      "  * lat             (lat) float32 -15.0 -17.5 -20.0 -22.5 -25.0 -27.5 -30.0\n",
      "  * lon             (lon) float32 295.0 297.5 300.0 302.5 305.0 307.5 310.0 ...\n",
      "  * time            (time) datetime64[ns] 1979-11-01 1979-11-02 1979-11-03 ...\n",
      "    month           (time) int64 11 11 11 11 11 11 11 11 11 11 11 11 11 11 ...\n",
      "Data variables:\n",
      "    streamfunction  (time, lat, lon) float32 1.16365e+06 673118.0 195866.0 ...\n"
     ]
    }
   ],
   "source": [
    "ds = xr.open_dataset(\"../_data/reanalysis/subset/streamfunc_850_anom.nc\")\n",
    "ds = ds.sel(lat = slice(-15, -30), lon = slice(295, 315), time = slice('1979-11-01', '2016-02-29'))\n",
    "print(ds)"
   ]
  },
  {
   "cell_type": "markdown",
   "metadata": {},
   "source": [
    "The weather typing algorithm is performed using the `XrEofCluster` algorithm.\n",
    "Relevant parameters are entered here!\n",
    "Note that this function is a little picky and it is necessary that it be a `xarray.Dataset` with the `variable` name passed as a parameter."
   ]
  },
  {
   "cell_type": "code",
   "execution_count": 3,
   "metadata": {},
   "outputs": [
    {
     "name": "stdout",
     "output_type": "stream",
     "text": [
      "xarray-based classifiability for 6 clusters\n",
      "Performing EOF decomposition of data for dimension reduction...\n",
      "Number of EOFs retained is 4\n",
      "Carrying out 250 k-means simulations...\n"
     ]
    },
    {
     "name": "stderr",
     "output_type": "stream",
     "text": [
      "/usr/local/miniconda3/envs/pyfloods/lib/python3.6/site-packages/eofs/xarray.py:413: FutureWarning: Coordinate has been deprecated. Use IndexVariable instead.\n",
      "  attrs={'long_name': 'eof_mode_number'})\n",
      "/usr/local/miniconda3/envs/pyfloods/lib/python3.6/site-packages/eofs/xarray.py:178: FutureWarning: Coordinate has been deprecated. Use IndexVariable instead.\n",
      "  attrs={'long_name': 'eof_mode_number'})\n"
     ]
    },
    {
     "name": "stdout",
     "output_type": "stream",
     "text": [
      "Computing classifiability index for each pair of simulations...\n"
     ]
    }
   ],
   "source": [
    "best_centroid, best_ts, classifiability = XrEofCluster(\n",
    "    ds, \n",
    "    n_clusters=6, # How many weather types to create?\n",
    "    prop=0.95, # What proportion of variance should be retained?\n",
    "    nsim=250, # How many random initializations to compute?\n",
    "    variable='streamfunction',\n",
    "    verbose = True # get useful info from the algorithm\n",
    ")"
   ]
  },
  {
   "cell_type": "markdown",
   "metadata": {},
   "source": [
    "What is our Classifiability Index?"
   ]
  },
  {
   "cell_type": "code",
   "execution_count": 4,
   "metadata": {},
   "outputs": [
    {
     "name": "stdout",
     "output_type": "stream",
     "text": [
      "Classifiability Index: 0.9743113994020977\n"
     ]
    }
   ],
   "source": [
    "print(\"Classifiability Index: {}\".format(classifiability))"
   ]
  },
  {
   "cell_type": "markdown",
   "metadata": {},
   "source": [
    "Now get the data in a useful format"
   ]
  },
  {
   "cell_type": "code",
   "execution_count": 5,
   "metadata": {},
   "outputs": [
    {
     "data": {
      "text/html": [
       "<div>\n",
       "<style>\n",
       "    .dataframe thead tr:only-child th {\n",
       "        text-align: right;\n",
       "    }\n",
       "\n",
       "    .dataframe thead th {\n",
       "        text-align: left;\n",
       "    }\n",
       "\n",
       "    .dataframe tbody tr th {\n",
       "        vertical-align: top;\n",
       "    }\n",
       "</style>\n",
       "<table border=\"1\" class=\"dataframe\">\n",
       "  <thead>\n",
       "    <tr style=\"text-align: right;\">\n",
       "      <th></th>\n",
       "      <th>wtype</th>\n",
       "    </tr>\n",
       "    <tr>\n",
       "      <th>time</th>\n",
       "      <th></th>\n",
       "    </tr>\n",
       "  </thead>\n",
       "  <tbody>\n",
       "    <tr>\n",
       "      <th>1979-11-01</th>\n",
       "      <td>4</td>\n",
       "    </tr>\n",
       "    <tr>\n",
       "      <th>1979-11-02</th>\n",
       "      <td>2</td>\n",
       "    </tr>\n",
       "    <tr>\n",
       "      <th>1979-11-03</th>\n",
       "      <td>4</td>\n",
       "    </tr>\n",
       "    <tr>\n",
       "      <th>1979-11-04</th>\n",
       "      <td>2</td>\n",
       "    </tr>\n",
       "    <tr>\n",
       "      <th>1979-11-05</th>\n",
       "      <td>3</td>\n",
       "    </tr>\n",
       "  </tbody>\n",
       "</table>\n",
       "</div>"
      ],
      "text/plain": [
       "            wtype\n",
       "time             \n",
       "1979-11-01      4\n",
       "1979-11-02      2\n",
       "1979-11-03      4\n",
       "1979-11-04      2\n",
       "1979-11-05      3"
      ]
     },
     "execution_count": 5,
     "metadata": {},
     "output_type": "execute_result"
    }
   ],
   "source": [
    "df = pd.DataFrame({'wtype': pd.Series(np.int_(best_ts), index=ds.time)})\n",
    "df.head()"
   ]
  },
  {
   "cell_type": "markdown",
   "metadata": {},
   "source": [
    "Save to file"
   ]
  },
  {
   "cell_type": "code",
   "execution_count": 6,
   "metadata": {
    "collapsed": true
   },
   "outputs": [],
   "source": [
    "df.to_csv(\"../_data/derived/WeatherTypes.csv\")"
   ]
  }
 ],
 "metadata": {
  "kernelspec": {
   "display_name": "Python 3",
   "language": "python",
   "name": "python3"
  },
  "language_info": {
   "codemirror_mode": {
    "name": "ipython",
    "version": 3
   },
   "file_extension": ".py",
   "mimetype": "text/x-python",
   "name": "python",
   "nbconvert_exporter": "python",
   "pygments_lexer": "ipython3",
   "version": "3.6.2"
  }
 },
 "nbformat": 4,
 "nbformat_minor": 2
}
