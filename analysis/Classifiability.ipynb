{
 "cells": [
  {
   "cell_type": "markdown",
   "metadata": {},
   "source": [
    "# Classifiability\n",
    "\n",
    "How many weather types should there be?"
   ]
  },
  {
   "cell_type": "code",
   "execution_count": null,
   "metadata": {},
   "outputs": [],
   "source": [
    "import xarray as xr\n",
    "import matplotlib.pyplot as plt\n",
    "import numpy as np\n",
    "from paraguayfloodspy.weather_type import XrEofCluster"
   ]
  },
  {
   "cell_type": "code",
   "execution_count": null,
   "metadata": {},
   "outputs": [],
   "source": [
    "%matplotlib inline\n",
    "savefigs = True"
   ]
  },
  {
   "cell_type": "markdown",
   "metadata": {},
   "source": [
    "Parameters"
   ]
  },
  {
   "cell_type": "code",
   "execution_count": null,
   "metadata": {},
   "outputs": [],
   "source": [
    "%run ../config/WeatherTypes.mk\n",
    "print(WTEAST, WTWEST, WTSOUTH, WTNORTH)\n",
    "print(WT_PROP, PC_SCALE)"
   ]
  },
  {
   "cell_type": "markdown",
   "metadata": {},
   "source": [
    "Load in the raw data"
   ]
  },
  {
   "cell_type": "code",
   "execution_count": null,
   "metadata": {},
   "outputs": [],
   "source": [
    "psi850 = xr.open_dataset(\"../data/derived/psi_850.nc\")\n",
    "psi850 = psi850.sel(lon = slice(WTWEST, WTEAST), lat = slice(WTNORTH, WTSOUTH))"
   ]
  },
  {
   "cell_type": "code",
   "execution_count": null,
   "metadata": {},
   "outputs": [],
   "source": [
    "n_clusters = np.arange(2,10)\n",
    "class_index = np.zeros(n_clusters.shape)\n",
    "for i,nc in enumerate(n_clusters):\n",
    "    _, _, ci = XrEofCluster(\n",
    "        psi850, \n",
    "        n_clusters=nc, # How many weather types to create?\n",
    "        prop=WT_PROP, # What proportion of variance should be retained?\n",
    "        nsim=50, # How many random initializations to compute?\n",
    "        variable='anomaly',\n",
    "        pcscaling=PC_SCALE,\n",
    "        verbose = False # get useful info from the algorithm\n",
    "    )\n",
    "    class_index[i] = ci"
   ]
  },
  {
   "cell_type": "code",
   "execution_count": null,
   "metadata": {},
   "outputs": [],
   "source": [
    "plt.figure(figsize=(7, 4))\n",
    "plt.plot(n_clusters, class_index)\n",
    "plt.xlabel(\"Number of Weather Types\")\n",
    "plt.ylabel(\"Classifiability Index\")\n",
    "plt.grid()\n",
    "if savefigs:\n",
    "    plt.savefig(\"../figs/WT_Classifiability.pdf\", bbox_inches='tight')"
   ]
  }
 ],
 "metadata": {
  "kernelspec": {
   "display_name": "Python 3",
   "language": "python",
   "name": "python3"
  },
  "language_info": {
   "codemirror_mode": {
    "name": "ipython",
    "version": 3
   },
   "file_extension": ".py",
   "mimetype": "text/x-python",
   "name": "python",
   "nbconvert_exporter": "python",
   "pygments_lexer": "ipython3",
   "version": "3.6.2"
  }
 },
 "nbformat": 4,
 "nbformat_minor": 2
}
