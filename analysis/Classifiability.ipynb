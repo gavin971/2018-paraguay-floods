{
 "cells": [
  {
   "cell_type": "markdown",
   "metadata": {},
   "source": [
    "# Classifiability\n",
    "\n",
    "How many weather types should there be?"
   ]
  },
  {
   "cell_type": "code",
   "execution_count": 9,
   "metadata": {
    "collapsed": true
   },
   "outputs": [],
   "source": [
    "import xarray as xr\n",
    "import matplotlib.pyplot as plt\n",
    "import numpy as np\n",
    "from paraguayfloodspy.weather_type import XrEofCluster"
   ]
  },
  {
   "cell_type": "code",
   "execution_count": 20,
   "metadata": {
    "collapsed": true
   },
   "outputs": [],
   "source": [
    "%matplotlib inline\n",
    "savefigs = True"
   ]
  },
  {
   "cell_type": "markdown",
   "metadata": {},
   "source": [
    "Parameters"
   ]
  },
  {
   "cell_type": "code",
   "execution_count": 19,
   "metadata": {},
   "outputs": [
    {
     "name": "stdout",
     "output_type": "stream",
     "text": [
      "315 295 -30 -15\n",
      "0.9 1\n"
     ]
    }
   ],
   "source": [
    "%run ../config/WeatherTypes.mk\n",
    "print(WTEAST, WTWEST, WTSOUTH, WTNORTH)\n",
    "print(WT_PROP, PC_SCALE)"
   ]
  },
  {
   "cell_type": "markdown",
   "metadata": {},
   "source": [
    "Load in the raw data"
   ]
  },
  {
   "cell_type": "code",
   "execution_count": 15,
   "metadata": {},
   "outputs": [],
   "source": [
    "psi = xr.open_dataset(\"../data/derived/psi_850.nc\")\n",
    "psi = psi.sel(lon = slice(WTWEST, WTEAST), lat = slice(WTNORTH, WTSOUTH))"
   ]
  },
  {
   "cell_type": "code",
   "execution_count": 16,
   "metadata": {},
   "outputs": [
    {
     "name": "stderr",
     "output_type": "stream",
     "text": [
      "/usr/local/miniconda3/envs/pyfloods/lib/python3.6/site-packages/eofs/xarray.py:413: FutureWarning: Coordinate has been deprecated. Use IndexVariable instead.\n",
      "  attrs={'long_name': 'eof_mode_number'})\n",
      "/usr/local/miniconda3/envs/pyfloods/lib/python3.6/site-packages/eofs/xarray.py:178: FutureWarning: Coordinate has been deprecated. Use IndexVariable instead.\n",
      "  attrs={'long_name': 'eof_mode_number'})\n"
     ]
    },
    {
     "name": "stdout",
     "output_type": "stream",
     "text": [
      "Number of EOFs retained is 3\n",
      "Number of EOFs retained is 3\n",
      "Number of EOFs retained is 3\n",
      "Number of EOFs retained is 3\n",
      "Number of EOFs retained is 3\n",
      "Number of EOFs retained is 3\n",
      "Number of EOFs retained is 3\n",
      "Number of EOFs retained is 3\n"
     ]
    }
   ],
   "source": [
    "n_clusters = np.arange(2,10)\n",
    "class_index = np.zeros(n_clusters.shape)\n",
    "for i,nc in enumerate(n_clusters):\n",
    "    _, _, ci = XrEofCluster(\n",
    "        psi, \n",
    "        n_clusters=nc, # How many weather types to create?\n",
    "        prop=WT_PROP, # What proportion of variance should be retained?\n",
    "        nsim=50, # How many random initializations to compute?\n",
    "        variable='anomaly',\n",
    "        pcscaling=PC_SCALE,\n",
    "        verbose = False # get useful info from the algorithm\n",
    "    )\n",
    "    class_index[i] = ci"
   ]
  },
  {
   "cell_type": "code",
   "execution_count": 21,
   "metadata": {},
   "outputs": [
    {
     "data": {
      "image/png": "[encoded data removed]",
      "text/plain": [
       "<matplotlib.figure.Figure at 0x11bff11d0>"
      ]
     },
     "metadata": {},
     "output_type": "display_data"
    }
   ],
   "source": [
    "plt.figure(figsize=(7, 4))\n",
    "plt.plot(n_clusters, class_index)\n",
    "plt.xlabel(\"Number of Weather Types\")\n",
    "plt.ylabel(\"Classifiability Index\")\n",
    "plt.grid()\n",
    "if savefigs:\n",
    "    plt.savefig(\"../figs/WT_Classifiability.pdf\", bbox_inches='tight')"
   ]
  }
 ],
 "metadata": {
  "kernelspec": {
   "display_name": "Python 3",
   "language": "python",
   "name": "python3"
  },
  "language_info": {
   "codemirror_mode": {
    "name": "ipython",
    "version": 3
   },
   "file_extension": ".py",
   "mimetype": "text/x-python",
   "name": "python",
   "nbconvert_exporter": "python",
   "pygments_lexer": "ipython3",
   "version": "3.6.2"
  }
 },
 "nbformat": 4,
 "nbformat_minor": 2
}
