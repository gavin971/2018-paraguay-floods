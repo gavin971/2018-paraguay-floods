{
 "cells": [
  {
   "cell_type": "markdown",
   "metadata": {},
   "source": [
    "# Jet Extension\n",
    "\n",
    "\n",
    "The purpose of this notebook is to explore the leading EOFs of the 850 hPa circulation, expressed through the streamfunction $\\psi$.\n",
    "This should provide insight as to the behavior of the SALLJ and hopefully may help us understand why the 2015-16 rainfall over the Lower Paraguay River Basin was so intense."
   ]
  },
  {
   "cell_type": "code",
   "execution_count": 1,
   "metadata": {
    "collapsed": true
   },
   "outputs": [],
   "source": [
    "import numpy as np\n",
    "import pandas as pd\n",
    "import xarray as xr\n",
    "import matplotlib.pyplot as plt\n",
    "import cartopy.crs as ccrs\n",
    "from eofs.xarray import Eof\n",
    "from scipy.stats import spearmanr, pearsonr\n",
    "import seaborn as sns\n",
    "from sklearn.neighbors import KNeighborsRegressor\n",
    "import cartopy.feature\n",
    "from paraguayfloodspy.xrutil import *\n",
    "import paraguayfloodspy.visualize as viz\n",
    "from IPython.display import Image\n",
    "from IPython.core.display import HTML \n",
    "%matplotlib inline"
   ]
  },
  {
   "cell_type": "markdown",
   "metadata": {},
   "source": [
    "## Setup\n",
    "\n",
    "Load the parameters of the data"
   ]
  },
  {
   "cell_type": "code",
   "execution_count": 2,
   "metadata": {},
   "outputs": [
    {
     "name": "stdout",
     "output_type": "stream",
     "text": [
      "304.75 301.25 -26.75 -22.75\n",
      "315 295 -30 -15\n",
      "1979 2016\n"
     ]
    }
   ],
   "source": [
    "%run ../config/RioParaguay.mk\n",
    "%run ../config/WeatherTypes.mk\n",
    "%run ../config/Time.mk\n",
    "print(RPEAST, RPWEST, RPSOUTH, RPNORTH)\n",
    "print(WTEAST, WTWEST, WTSOUTH, WTNORTH)\n",
    "print(SYEAR, EYEAR)"
   ]
  },
  {
   "cell_type": "code",
   "execution_count": 3,
   "metadata": {
    "collapsed": true
   },
   "outputs": [],
   "source": [
    "savefigs = True"
   ]
  },
  {
   "cell_type": "markdown",
   "metadata": {},
   "source": [
    "Read in the raw data.\n",
    "This data is the 850 hPa streamflow function $\\psi$ which has been filtered to take the anomalies against the monthly 1980-2010 climatologies."
   ]
  },
  {
   "cell_type": "code",
   "execution_count": 4,
   "metadata": {
    "collapsed": true
   },
   "outputs": [],
   "source": [
    "psi = SelectData(xr.open_dataset('../data/derived/psi_850.nc'),\n",
    "                    extent=[WTWEST, WTEAST, WTSOUTH, WTNORTH], y_low_high=True)\n",
    "prcp = xr.open_dataset('../data/derived/precip.nc')"
   ]
  },
  {
   "cell_type": "markdown",
   "metadata": {},
   "source": [
    "## EOFs\n",
    "\n",
    "The next step of our analysis is to take the leading EOFs of the streamfunction.\n",
    "We'll take out seasonality."
   ]
  },
  {
   "cell_type": "code",
   "execution_count": 5,
   "metadata": {
    "collapsed": true
   },
   "outputs": [],
   "source": [
    "solver = Eof(psi['anomaly'], center=True)"
   ]
  },
  {
   "cell_type": "markdown",
   "metadata": {},
   "source": [
    "Let's look at the variance explained.\n",
    "Note that the python indexing of the EOFs begins at zero but most people are used to seeing them begin at 1."
   ]
  },
  {
   "cell_type": "code",
   "execution_count": 14,
   "metadata": {},
   "outputs": [
    {
     "name": "stdout",
     "output_type": "stream",
     "text": [
      "4\n"
     ]
    },
    {
     "name": "stderr",
     "output_type": "stream",
     "text": [
      "/usr/local/miniconda3/envs/pyfloods/lib/python3.6/site-packages/eofs/xarray.py:413: FutureWarning: Coordinate has been deprecated. Use IndexVariable instead.\n",
      "  attrs={'long_name': 'eof_mode_number'})\n"
     ]
    }
   ],
   "source": [
    "%run ../config/WeatherTypes.mk\n",
    "var_xpl = solver.varianceFraction(neigs=8).values\n",
    "neof = np.min(np.where(np.cumsum(var_xpl) >= WT_PROP)) + 1\n",
    "print(neof)"
   ]
  },
  {
   "cell_type": "code",
   "execution_count": 17,
   "metadata": {
    "scrolled": false
   },
   "outputs": [
    {
     "data": {
      "image/png": "[encoded data removed]",
      "text/plain": [
       "<matplotlib.figure.Figure at 0x12108cc18>"
      ]
     },
     "metadata": {},
     "output_type": "display_data"
    }
   ],
   "source": [
    "plt.figure(figsize=(12,4))\n",
    "plt.subplot(1,2,1)\n",
    "plt.xlabel(\"EOF Index\")\n",
    "plt.ylabel(\"Total Variance Explained\")\n",
    "plt.plot(np.arange(var_xpl.size) + 1, var_xpl)\n",
    "plt.scatter(np.arange(var_xpl.size) + 1, var_xpl)\n",
    "plt.title(\"EOF Variance\")\n",
    "plt.axvline(neof, color = 'black')\n",
    "plt.grid(True)\n",
    "plt.subplot(1,2,2)\n",
    "plt.xlabel(\"EOF Index\")\n",
    "plt.ylabel(\"Cumulative Variance Explained\")\n",
    "plt.title(\"Cumulative Variance\")\n",
    "plt.plot(np.arange(var_xpl.size) + 1, np.cumsum(var_xpl))\n",
    "plt.scatter(np.arange(var_xpl.size) + 1, np.cumsum(var_xpl))\n",
    "plt.grid(True)\n",
    "plt.axvline(neof, color = 'black')\n",
    "if savefigs:\n",
    "    plt.savefig(\"../figs/PSI_Var_Explained.pdf\", bbox_inches='tight')"
   ]
  },
  {
   "cell_type": "code",
   "execution_count": null,
   "metadata": {},
   "outputs": [],
   "source": [
    "loading = solver.eofs(neofs=neof)\n",
    "loading['mode'] += 1"
   ]
  },
  {
   "cell_type": "markdown",
   "metadata": {},
   "source": [
    "Let's also visualize the loadings"
   ]
  },
  {
   "cell_type": "code",
   "execution_count": null,
   "metadata": {},
   "outputs": [],
   "source": [
    "fig, axes = viz.SetupAxes(nax=neof, ncol=neof, proj=ccrs.PlateCarree(), figsize=(16, 3.5))\n",
    "fig.subplots_adjust(right=0.95)\n",
    "cbar_ax = fig.add_axes([0.97, 0.175, 0.0125, 0.65])\n",
    "for i,m in enumerate(loading['mode'].values):\n",
    "    ax = viz.GetRowCol(i, axes)\n",
    "    ax.set_title(\"EOF {}\".format(m))\n",
    "    sub = loading.sel(mode = m)\n",
    "    X, Y = np.meshgrid(sub.lon, sub.lat)\n",
    "    C = ax.contourf(X, Y, sub, transform = ccrs.PlateCarree(), \n",
    "                     cmap = \"PuOr\", levels=np.linspace(-0.3, 0.3, 13))\n",
    "\n",
    "cb = plt.colorbar(C, cax=cbar_ax)\n",
    "cb.set_label(\"EOF Loading\", rotation=270)\n",
    "cb.ax.get_yaxis().labelpad = 15\n",
    "viz.FormatAxes(axes, coast=True, grid=False, border=True, extent=[WTWEST, WTEAST, WTSOUTH, WTNORTH])\n",
    "if savefigs:\n",
    "    plt.savefig(\"../figs/PSI_EOF_Loadings.pdf\", bbox_inches='tight')    "
   ]
  },
  {
   "cell_type": "markdown",
   "metadata": {},
   "source": [
    "Looking a this, we see that EOF 2 represents a SALLJ extension event, but that EOF 3 modulates whether it is a \"Chaco Jet Event\" \n",
    "or \"No Chaco Jet Event\""
   ]
  },
  {
   "cell_type": "code",
   "execution_count": null,
   "metadata": {},
   "outputs": [],
   "source": [
    "print(\"Chaco Jet Event\")\n",
    "Image(url= \"http://www.eumetrain.org/satmanu/CMs/Sallj/media/images/CJEk.png\", height=150)"
   ]
  },
  {
   "cell_type": "code",
   "execution_count": null,
   "metadata": {},
   "outputs": [],
   "source": [
    "print(\"No Chaco Jet Event\")\n",
    "Image(url= \"http://www.eumetrain.org/satmanu/CMs/Sallj/media/images/CM_SALLJ_NCJEk.png\", height=150)"
   ]
  },
  {
   "cell_type": "markdown",
   "metadata": {},
   "source": [
    "## PC Time Series\n",
    "\n",
    "Now let's look at the time series of these two key PCs (2 and 3) and compare them to the rainfall field to see if it really matches our expectations."
   ]
  },
  {
   "cell_type": "code",
   "execution_count": null,
   "metadata": {
    "scrolled": false
   },
   "outputs": [],
   "source": [
    "pcs = solver.pcs(npcs=neof, pcscaling=1)\n",
    "pcs['mode'] += 1\n",
    "pcs = pcs.to_pandas()"
   ]
  },
  {
   "cell_type": "markdown",
   "metadata": {},
   "source": [
    "Now let's also create two time series of rainfall -- one over our Paragauy River Basin, and the other over the Chaco Jet Event region."
   ]
  },
  {
   "cell_type": "code",
   "execution_count": null,
   "metadata": {
    "collapsed": true
   },
   "outputs": [],
   "source": [
    "prcp_rpy = pd.read_csv(\"../data/derived/rainfall_rpy.csv\", index_col='time')['raw']\n",
    "prcp_rpy = pd.DataFrame(prcp_rpy.rename('prcp_rpy'))"
   ]
  },
  {
   "cell_type": "code",
   "execution_count": null,
   "metadata": {
    "collapsed": true
   },
   "outputs": [],
   "source": [
    "cje_rgn = {'lonmin': 299.25, 'lonmax': 302.75, 'latmin': -34.75, 'latmax': -30.75}\n",
    "prcp_cje = prcp['raw'].sel(lon = slice(cje_rgn['lonmin'], cje_rgn['lonmax']), \n",
    "                    lat = slice(cje_rgn['latmin'], cje_rgn['latmax'])).mean(dim=['lon', 'lat'])\n",
    "prcp_cje = prcp_cje.to_pandas()\n",
    "prcp_cje = pd.DataFrame({'prcp_cje': prcp_cje})"
   ]
  },
  {
   "cell_type": "code",
   "execution_count": null,
   "metadata": {
    "scrolled": true
   },
   "outputs": [],
   "source": [
    "pc_rain = pcs.join(prcp_rpy).join(prcp_cje)\n",
    "pc_rain = pc_rain.dropna()\n",
    "pc_rain.head()"
   ]
  },
  {
   "cell_type": "markdown",
   "metadata": {
    "collapsed": true
   },
   "source": [
    "Correlation is obviously a limited tool, but let's see how the EOFs are correlated (daily time step) with the rainfall data"
   ]
  },
  {
   "cell_type": "code",
   "execution_count": null,
   "metadata": {
    "scrolled": false
   },
   "outputs": [],
   "source": [
    "print('Spearman rank correlation between URU and RPY Data: {:4f}'.format(spearmanr(pc_rain[['prcp_cje']], pc_rain[['prcp_rpy']])[0]))\n",
    "print('Pearson correlation between URU and RPY Data: {:4f}'.format(pearsonr(pc_rain[['prcp_cje']], pc_rain[['prcp_rpy']])[0][0]))\n",
    "for i in range(neof):\n",
    "    print('Spearman rank correlation between EOF {} and RPY Data: {:3f}'.format(i+1, spearmanr(pc_rain[[i+1]], pc_rain[['prcp_rpy']])[0]))\n",
    "    print('Pearson correlation between EOF {} and RPY Rainfall: {:3f}'.format(i+1, pearsonr(pc_rain[[i+1]], pc_rain[['prcp_rpy']])[0][0]))\n",
    "    print('Spearman rank correlation between EOF {} and CJE Data: {:3f}'.format(i+1, spearmanr(pc_rain[[i+1]], pc_rain[['prcp_cje']])[0]))\n",
    "    print('Pearson correlation between EOF {} and CJE Rainfall: {:3f}'.format(i+1, pearsonr(pc_rain[[i+1]], pc_rain[['prcp_cje']])[0][0]))"
   ]
  },
  {
   "cell_type": "markdown",
   "metadata": {},
   "source": [
    "This correlation analysis supports our conjecture (based on looking at the EOF loadings) that EOF 2 and EOF 3 strongly modulate rainfall over the Paraguay River Basin."
   ]
  },
  {
   "cell_type": "markdown",
   "metadata": {},
   "source": [
    "## KNN\n",
    "\n",
    "Let's focus on these two EOFs to get a bit better sense of how strongly they modulate intense rainfall."
   ]
  },
  {
   "cell_type": "code",
   "execution_count": null,
   "metadata": {},
   "outputs": [],
   "source": [
    "plt.figure(figsize=(11,8))\n",
    "S = plt.scatter(pc_rain[[2]], pc_rain[[3]], s=5*pc_rain[['prcp_rpy']], c=pc_rain[['prcp_rpy']], alpha=0.4)\n",
    "plt.xlabel(\"EOF 2\")\n",
    "plt.ylabel(\"EOF 3\")\n",
    "plt.title(\"Modulation of Rainfall by EOFs 2 and 3\")\n",
    "cb = plt.colorbar()\n",
    "cb.set_label(\"Daily Rainfall [mm/day]\")"
   ]
  },
  {
   "cell_type": "markdown",
   "metadata": {},
   "source": [
    "It definitely looks like the top-left quadrant leads to higher probability of intense rainfall, but the plot is a bit crowded.\n",
    "To get around this, let's do a nearest-neighbors regression -- this is essentially taking the expected rainfall given EOF 2 and EOF 3 -- at a grid of points.\n",
    "Start by defining this grid and the fit to use:"
   ]
  },
  {
   "cell_type": "code",
   "execution_count": null,
   "metadata": {
    "collapsed": true
   },
   "outputs": [],
   "source": [
    "X = pc_rain[[2, 3]].values\n",
    "neigh = KNeighborsRegressor(n_neighbors=100)\n",
    "x = np.arange(-2.5, 2.5, .1)\n",
    "x,y = np.meshgrid(x,x)\n",
    "Xnew = np.array([np.hstack(x), np.hstack(y)]).transpose()\n",
    "X1new = np.reshape(Xnew[:,0], x.shape)\n",
    "X2new = np.reshape(Xnew[:,1], x.shape)\n",
    "y = pc_rain[['prcp_rpy']].values\n",
    "knnfit = neigh.fit(X,y)"
   ]
  },
  {
   "cell_type": "markdown",
   "metadata": {},
   "source": [
    "Then create the plots"
   ]
  },
  {
   "cell_type": "code",
   "execution_count": null,
   "metadata": {},
   "outputs": [],
   "source": [
    "fig, axes = plt.subplots(nrows=1, ncols=2, figsize=(12, 5))\n",
    "fig.subplots_adjust(right=0.95)\n",
    "cbar_ax = fig.add_axes([0.97, 0.175, 0.02, 0.65])\n",
    "# Left Plot\n",
    "ax = axes[0]\n",
    "y = pc_rain[['prcp_rpy']].values\n",
    "knnfit = neigh.fit(X,y)\n",
    "ynew = knnfit.predict(Xnew)\n",
    "ynew = np.reshape(ynew, x.shape)\n",
    "C = ax.pcolormesh(X1new, X2new, ynew, vmin=0, vmax=14)\n",
    "ax.set_xlabel(\"EOF 2\")\n",
    "ax.set_ylabel(\"EOF 3\")\n",
    "ax.set_title(\"Lower Paraguay River Basin\")\n",
    "ax = axes[1]\n",
    "y = pc_rain[['prcp_cje']].values\n",
    "knnfit = neigh.fit(X,y)\n",
    "ynew = knnfit.predict(Xnew)\n",
    "ynew = np.reshape(ynew, x.shape)\n",
    "C = ax.pcolormesh(X1new, X2new, ynew, vmin=0, vmax=14)\n",
    "ax.set_xlabel(\"EOF 2\")\n",
    "ax.set_ylabel(\"EOF 3\")\n",
    "cb = plt.colorbar(C, cax=cbar_ax)\n",
    "cb.set_label(\"Rainfall [mm/d]\")\n",
    "ax.set_title(\"Chaco Jet Extension Region\")\n",
    "if savefigs:\n",
    "    plt.savefig(\"../figs/knn_rainfall_EOF.pdf\", bbox_inches='tight')"
   ]
  },
  {
   "cell_type": "markdown",
   "metadata": {},
   "source": [
    "So we can see that in this limited-dimension space, EOF 2 controls the potential for rainfall but EOF 3 controls whether it is a Chaco Jet Event or No Chaco Jet Event.\n",
    "This is exactly what we thought above!\n",
    "When EOF1 is positive (no jet), there is no rainfall in either region and when EOF1 is negative (jet) there is rainfall somewhere.\n",
    "However, when EOF2 is negative the jet extends far to the South and the rainfall occurs over Uruguay; when EOF2 is positive the jet doesn't penetrate and the intense rainfall occurs in Paraguay.\n",
    "Just to make sure we're not tricking ourselves, let's composite rainfall for four cases:\n",
    "1. EOF1 > 1, EOF2 > 1; \n",
    "2. EOF1 < -1, EOF2 > 1;\n",
    "3. EOF1 > 1, EOF2 < -1;\n",
    "4. EOF1 < -1, EOF2 < -1."
   ]
  },
  {
   "cell_type": "code",
   "execution_count": null,
   "metadata": {
    "collapsed": true
   },
   "outputs": [],
   "source": [
    "case_1 = np.logical_and(pc_rain[2] > 1, pc_rain[3] > 1)\n",
    "case_1 = pc_rain.loc[case_1].index\n",
    "case_2 = np.logical_and(pc_rain[2] < -1, pc_rain[3] > 1)\n",
    "case_2 = pc_rain.loc[case_2].index\n",
    "case_3 = np.logical_and(pc_rain[2] > 1, pc_rain[3] < -1)\n",
    "case_3 = pc_rain.loc[case_3].index\n",
    "case_4 = np.logical_and(pc_rain[2] < -1, pc_rain[3] < -1)\n",
    "case_4 = pc_rain.loc[case_4].index"
   ]
  },
  {
   "cell_type": "code",
   "execution_count": null,
   "metadata": {},
   "outputs": [],
   "source": [
    "fig, axes = viz.SetupAxes(nax=4, ncol=4, proj=ccrs.PlateCarree(), figsize=(16, 4.5))\n",
    "fig.subplots_adjust(right=0.95)\n",
    "cbar_ax = fig.add_axes([0.97, 0.1, 0.015, 0.8])\n",
    "for i,case in enumerate([case_1, case_2, case_3, case_4]):\n",
    "    selector = lambda ds: ds.sel(lon = slice(285, 315), lat = slice(-40, -5)).sel(time = case).mean(dim= 'time')\n",
    "    ax = viz.GetRowCol(i, axes)\n",
    "    ax.set_title(\"Case {}\".format(i+1))\n",
    "    sub = selector(prcp['raw'])\n",
    "    Xp, Yp = np.meshgrid(sub.lon, sub.lat)\n",
    "    sub = np.ma.masked_invalid(sub)\n",
    "    C = ax.contourf(Xp, Yp, sub, transform = ccrs.PlateCarree(), \n",
    "                    levels=np.linspace(0,12,7), extend='max', cmap=\"Greens\")\n",
    "cb = plt.colorbar(C, cax=cbar_ax)\n",
    "cb.set_label(\"Rainfall [mm/d]\")\n",
    "for ax in axes.flat:\n",
    "    ax.coastlines()\n",
    "    ax.set_extent((285, 315, -40, -5))\n",
    "    ax.add_feature(cartopy.feature.BORDERS)"
   ]
  },
  {
   "cell_type": "markdown",
   "metadata": {},
   "source": [
    "So looking at this, we can see that for Case 1 and Case 3 (no strong jet event) the Amazon basin experiences strong rainfall and SESA experiences very little rainfall.\n",
    "However, during Case 2 and Case 4, during strong SALLJ occurrences, rainfall over the Amazon is reduced and rainfall below 20S is enhanced.\n",
    "For case 2, this rainfall occurs over the Paraguay River Basin and for case 4 it occurs further South, over NE Argentina and Uruguay."
   ]
  },
  {
   "cell_type": "markdown",
   "metadata": {},
   "source": [
    "Just to check ourselves again, let's calculate the correlation of EOF 3 and the difference between the RPY rainfall box and CJE box."
   ]
  },
  {
   "cell_type": "code",
   "execution_count": null,
   "metadata": {},
   "outputs": [],
   "source": [
    "raindiff = pd.DataFrame({'prcp_diff': pc_rain['prcp_rpy'] - pc_rain['prcp_cje']}).join(pc_rain[[3]])\n",
    "raindiff = raindiff.dropna()\n",
    "rho, p = spearmanr(raindiff[['prcp_diff']], raindiff[[3]])\n",
    "print(\"Spearman rank correlation between this difference and EOF 3 is {:3f}, p-value {}\".format(rho, p))"
   ]
  },
  {
   "cell_type": "code",
   "execution_count": null,
   "metadata": {},
   "outputs": [],
   "source": [
    "plt.figure(figsize=(8,8))\n",
    "plt.scatter(raindiff[[3]], raindiff[['prcp_diff']], alpha=0.3)\n",
    "plt.xlabel(\"EOF 3\")\n",
    "plt.ylabel(\"Rainfall Difference [mm/d]\")"
   ]
  },
  {
   "cell_type": "markdown",
   "metadata": {},
   "source": [
    "## S2S Controls\n",
    "\n",
    "The results above suggest that, to a reasonable degree of approximation, differences in rainfall location (Paraguay River Basin or NE Argentina/Uruguay) are linked (in agreement with the literature) to different types of jet events.\n",
    "Using the chosen domain, this corresponds to EOFs 2 and 3 of the NDJF streamfunction field (which is for all intents and purposes quite close to the geopotential height field).\n",
    "To understand the 2015-16 event, we will explore: the time evolution of these two EOFs, their association with the observed rainfall, and seasonal (ENSO) and sub-seasonal (ENSO) control of their evolution.\n",
    "To do that we'll have to resample the PC time series to monthly resolution."
   ]
  },
  {
   "cell_type": "code",
   "execution_count": null,
   "metadata": {
    "collapsed": true
   },
   "outputs": [],
   "source": [
    "ensoraw = pd.read_csv(\"../data/accessed/indices/monthly_indices.csv\", index_col='time', parse_dates=True)\n",
    "enso = ensoraw[['nino_34']]\n",
    "enso['year'] = enso.index.year\n",
    "enso['month'] = enso.index.month\n",
    "enso = enso.loc[np.in1d(enso['month'], [11, 12, 1, 2])]\n",
    "enso = enso.groupby(['year', 'month']).mean()"
   ]
  },
  {
   "cell_type": "code",
   "execution_count": null,
   "metadata": {
    "collapsed": true
   },
   "outputs": [],
   "source": [
    "ensopc = pcs[[2,3]].copy()\n",
    "ensopc['year'] = ensopc.index.year\n",
    "ensopc['month'] = ensopc.index.month\n",
    "ensopc = ensopc.groupby(['year', 'month']).mean()\n",
    "ensopc.head()\n",
    "ensopc = ensopc.join(enso)"
   ]
  },
  {
   "cell_type": "code",
   "execution_count": null,
   "metadata": {},
   "outputs": [],
   "source": [
    "sns.pairplot(ensopc, kind='reg')"
   ]
  },
  {
   "cell_type": "markdown",
   "metadata": {},
   "source": [
    "So from this we can see that El Niño events are associated with enhanced monthly-mean SALLJ activity (EOF 2)  but that the association with EOF 3 is weak."
   ]
  },
  {
   "cell_type": "code",
   "execution_count": null,
   "metadata": {},
   "outputs": [],
   "source": [
    "spearmanr(ensopc[[2]], ensopc[['nino_34']])"
   ]
  },
  {
   "cell_type": "code",
   "execution_count": null,
   "metadata": {
    "collapsed": true
   },
   "outputs": [],
   "source": [
    "mjo = pd.read_csv(\"../data/accessed/indices/daily_indices.csv\",parse_dates=True, index_col='time')\n",
    "mjo = mjo.join(pcs[[2,3]]).dropna()"
   ]
  },
  {
   "cell_type": "code",
   "execution_count": null,
   "metadata": {},
   "outputs": [],
   "source": [
    "sns.pairplot(mjo[['RMM1', 'RMM2', 2, 3]], kind='reg', diag_kind=\"kde\", plot_kws={'marker': '.'})"
   ]
  },
  {
   "cell_type": "markdown",
   "metadata": {},
   "source": [
    "This suggests that at daily time scales, the strongest modulation is of RMM1 on EOF 3 (CJE/NCJE)."
   ]
  },
  {
   "cell_type": "code",
   "execution_count": null,
   "metadata": {},
   "outputs": [],
   "source": [
    "spearmanr(mjo[[3]], mjo.RMM1)"
   ]
  },
  {
   "cell_type": "markdown",
   "metadata": {},
   "source": [
    "## NDJF 2015-16\n",
    "\n",
    "Finally we ask whether, given these findings as to the climatological relationship between EOF 2 and 3, and the MJO and ENSO, they are likely drivers of the observed anomalies.\n",
    "We'll filter out synoptic variances by taking the 7-day rolling averages of the MJO and EOFs (lines) but also will plot the unfiltered values (dots)."
   ]
  },
  {
   "cell_type": "code",
   "execution_count": null,
   "metadata": {
    "scrolled": false
   },
   "outputs": [],
   "source": [
    "subr = mjo.rolling(7, center=True).mean()['2015-11-01':'2016-02-29']\n",
    "sub = mjo['2015-11-01':'2016-02-29']\n",
    "esub = ensoraw['2015-11-01':'2016-03-01']\n",
    "rsub = pc_rain['2015-11-01':'2016-02-29']\n",
    "fig, axes = plt.subplots(ncols=1, nrows=3, figsize=(16,12))\n",
    "ax = axes[0]\n",
    "ax.plot(subr.index, subr.RMM1, label=\"MJO RMM1\", linewidth=3)\n",
    "ax.scatter(sub.index, sub.RMM1, label=\"MJO RMM1\", s=6)\n",
    "ax.plot(esub.index, esub['nino_34'], label=\"NINO 3.4\", linewidth=3)\n",
    "ax.set_title(\"Selected S2S Predictors\")\n",
    "ax.legend()\n",
    "ax.grid(True)\n",
    "ax.axhline(0, c='black')\n",
    "ax = axes[1]\n",
    "ax.plot(subr.index, subr[[2]], label=\"EOF 2\", linewidth=3)\n",
    "ax.scatter(sub.index, sub[[2]], label=\"EOF 2\", s=6)\n",
    "ax.plot(subr.index, subr[[3]], label=\"EOF 3\", linewidth=3)\n",
    "ax.scatter(sub.index, sub[[3]], label=\"EOF 3\", s=6)\n",
    "ax.axhline(0, c='black')\n",
    "ax.set_title(\"Leading EOFs of Domain Streamfunction\")\n",
    "ax.legend()\n",
    "ax.grid(True)\n",
    "ax = axes[2]\n",
    "ax.plot(rsub.index, rsub[['prcp_rpy']], label=\"RPY\", linewidth=2)\n",
    "ax.plot(rsub.index, rsub[['prcp_cje']], label=\"CJE\", linewidth=2)\n",
    "ax.axhline(0, c='black')\n",
    "ax.set_title(\"Rainfall\")\n",
    "ax.legend()\n",
    "ax.grid(True)\n",
    "if savefigs:\n",
    "    plt.savefig(\"../figs/ENSO_MJO_EOF_PRCP_Time_Series.pdf\", bbox_inches='tight')"
   ]
  },
  {
   "cell_type": "markdown",
   "metadata": {},
   "source": [
    "Looking at this, we can see that the expected relationships held:\n",
    "\n",
    "- The strong El Niño led to a generally strongly negative EOF 2 (red) during NDJF 2015-16, leading to strong and repeated jet activity.\n",
    "- MJO RMM1 was positive during much of the season, leading to a positive EOF 3 (favoring no-chaco jet extension and rainfall over Paraguay) but dipped during early January with a corresponding shift in EOF3.\n",
    "- The effect of MJO RMM1 on EOF2 probably has a lag and correlation could be increased by addressing this lag\n",
    "- The negative turn in MJO RMM1 led, after a short pause, to a negative turn in EOF2; there was also positive spell of EOF2 which may be unrelated."
   ]
  }
 ],
 "metadata": {
  "kernelspec": {
   "display_name": "Python 3",
   "language": "python",
   "name": "python3"
  },
  "language_info": {
   "codemirror_mode": {
    "name": "ipython",
    "version": 3
   },
   "file_extension": ".py",
   "mimetype": "text/x-python",
   "name": "python",
   "nbconvert_exporter": "python",
   "pygments_lexer": "ipython3",
   "version": "3.6.2"
  }
 },
 "nbformat": 4,
 "nbformat_minor": 2
}
