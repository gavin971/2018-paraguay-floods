{
 "cells": [
  {
   "cell_type": "markdown",
   "metadata": {},
   "source": [
    "# Lagged Rain\n",
    "\n",
    "Let's plot the time evolution of the atmosphere up to and following intense rainfall days"
   ]
  },
  {
   "cell_type": "code",
   "execution_count": null,
   "metadata": {},
   "outputs": [],
   "source": [
    "import xarray as xr\n",
    "import numpy as np\n",
    "import matplotlib.pyplot as plt\n",
    "import cartopy.crs as ccrs\n",
    "import cartopy.feature\n",
    "from cartopy.io import shapereader\n",
    "import pandas as pd\n",
    "import datetime\n",
    "import matplotlib.patches as patches\n",
    "import paraguayfloodspy.visualize as viz"
   ]
  },
  {
   "cell_type": "markdown",
   "metadata": {},
   "source": [
    "Get some parameters and define others"
   ]
  },
  {
   "cell_type": "code",
   "execution_count": null,
   "metadata": {},
   "outputs": [],
   "source": [
    "%matplotlib inline\n",
    "savefigs = True"
   ]
  },
  {
   "cell_type": "code",
   "execution_count": null,
   "metadata": {},
   "outputs": [],
   "source": [
    "days_back = [-2, -1, 0, 1]\n",
    "%run ../config/PlotParameters.py\n",
    "print(extent)\n",
    "print(cmap)"
   ]
  },
  {
   "cell_type": "code",
   "execution_count": null,
   "metadata": {},
   "outputs": [],
   "source": [
    "%run ../config/RioParaguay.mk\n",
    "print(RPEAST, RPWEST, RPSOUTH, RPNORTH)"
   ]
  },
  {
   "cell_type": "markdown",
   "metadata": {},
   "source": [
    "Get data: rainfall and streamfunction"
   ]
  },
  {
   "cell_type": "code",
   "execution_count": null,
   "metadata": {},
   "outputs": [],
   "source": [
    "psi850 = xr.open_dataset(\"../data/derived/psi_850.nc\")\n",
    "psi200 = xr.open_dataset(\"../data/derived/psi_200.nc\")\n",
    "prcp = xr.open_dataset('../data/derived/precip.nc')"
   ]
  },
  {
   "cell_type": "markdown",
   "metadata": {},
   "source": [
    "Get the area-averaged rainfall data in order to define rainy days as 95th percentile exceedances (can vary this parameter)"
   ]
  },
  {
   "cell_type": "code",
   "execution_count": null,
   "metadata": {},
   "outputs": [],
   "source": [
    "prcp_rpy = pd.read_csv(\"../data/derived/rainfall_rpy.csv\", index_col='time')['raw']\n",
    "rainy_days = prcp_rpy.loc[prcp_rpy > np.nanpercentile(prcp_rpy, 95)].index\n",
    "rainy_days = pd.to_datetime(rainy_days)"
   ]
  },
  {
   "cell_type": "markdown",
   "metadata": {},
   "source": [
    "Define some required fields for plotting"
   ]
  },
  {
   "cell_type": "code",
   "execution_count": null,
   "metadata": {},
   "outputs": [],
   "source": [
    "X,Y =  np.meshgrid(psi850.lon, psi850.lat)\n",
    "Xp,Yp =  np.meshgrid(prcp.lon, prcp.lat)\n",
    "ncols = len(days_back)"
   ]
  },
  {
   "cell_type": "markdown",
   "metadata": {},
   "source": [
    "Specify how to draw a bounding box of the area over which rainfall is averaged to create the area-averaged rainfall!"
   ]
  },
  {
   "cell_type": "code",
   "execution_count": null,
   "metadata": {},
   "outputs": [],
   "source": [
    "def rpy_rgn():\n",
    "    rec = patches.Rectangle(\n",
    "        (RPWEST-360, RPSOUTH),\n",
    "        RPEAST - RPWEST,\n",
    "        RPNORTH - RPSOUTH,\n",
    "        color = 'black', label = 'Lower PY River Basin',\n",
    "        fill = None, linewidth=2, transform = ccrs.PlateCarree()\n",
    "        )\n",
    "    return(rec)"
   ]
  },
  {
   "cell_type": "markdown",
   "metadata": {},
   "source": [
    "Now make the plot"
   ]
  },
  {
   "cell_type": "code",
   "execution_count": null,
   "metadata": {},
   "outputs": [],
   "source": [
    "fig, axes = viz.SetupAxes(ncol = ncols, nax = 3*ncols, proj = ccrs.Orthographic(-60, -10), figsize = [16, 8])\n",
    "for i,d in enumerate(days_back):\n",
    "    selector = lambda ds: ds.isel(time = np.in1d(ds.time, rainy_days + datetime.timedelta(days_back[i]))).mean(dim='time')\n",
    "    #\n",
    "    ax = axes[0, i]\n",
    "    ax.set_title(\"t={} d\".format(d))\n",
    "    C0 = ax.contourf(X, Y, selector(psi200['anomaly']), transform = ccrs.PlateCarree(), \n",
    "                     cmap = cmap['psi_a'], extend=\"both\", \n",
    "                     levels=np.linspace(-9e6, 9e6, 10))\n",
    "    #\n",
    "    ax = axes[1, i]\n",
    "    C1 = ax.contourf(X, Y, selector(psi850['anomaly']), transform = ccrs.PlateCarree(), \n",
    "                     cmap = cmap['psi_a'], extend=\"both\", \n",
    "                     levels=np.linspace(-3.5e6, 3.5e6, 8))\n",
    "    #\n",
    "    ax = axes[2, i]\n",
    "    sub = selector(prcp['raw']).values\n",
    "    sub = np.ma.masked_invalid(sub)\n",
    "    C2 = ax.contourf(Xp, Yp, sub, transform = ccrs.PlateCarree(), \n",
    "                     cmap = cmap['rain'], extend = \"max\",\n",
    "                     levels = np.linspace(0, 28, 8))\n",
    "    ax.add_patch(rpy_rgn())\n",
    "plt.tight_layout()\n",
    "fig.subplots_adjust(right=0.94)\n",
    "cax0 = fig.add_axes([0.97, 0.71, 0.01, 0.2])\n",
    "cax1 = fig.add_axes([0.97, 0.39, 0.01, 0.2])\n",
    "cax2 = fig.add_axes([0.97, 0.05, 0.01, 0.25])\n",
    "cbar0 = fig.colorbar(C0, cax = cax0)\n",
    "cbar0.formatter.set_powerlimits((7, 7))\n",
    "cbar0.update_ticks() \n",
    "cbar0.set_label(r'$\\psi_{200}$ Anomaly [$m^2$/s]', rotation=270)\n",
    "cbar0.ax.get_yaxis().labelpad = 20\n",
    "#\n",
    "cbar1 = fig.colorbar(C1, cax = cax1)\n",
    "cbar1.formatter.set_powerlimits((6, 6))\n",
    "cbar1.update_ticks() \n",
    "cbar1.set_label(r'$\\psi_{850}$ Anomaly [$m^2$/s]', rotation=270)\n",
    "cbar1.ax.get_yaxis().labelpad = 20\n",
    "# \n",
    "cbar2 = fig.colorbar(C2, cax=cax2)\n",
    "cbar2.set_label('Precip. Anomaly [mm/d]', rotation=270)\n",
    "cbar2.ax.get_yaxis().labelpad = 20\n",
    "# \n",
    "viz.FormatAxes(axes[0,:], extent = extent['SH'])\n",
    "viz.FormatAxes(axes[1,:], extent = extent['SH'])\n",
    "viz.FormatAxes(axes[2,:], extent = extent['SAm'])\n",
    "#\n",
    "if savefigs:\n",
    "    fig.savefig(\"../figs/LaggedRain.pdf\", bbox_inches='tight')"
   ]
  }
 ],
 "metadata": {
  "kernelspec": {
   "display_name": "Python 3",
   "language": "python",
   "name": "python3"
  },
  "language_info": {
   "codemirror_mode": {
    "name": "ipython",
    "version": 3
   },
   "file_extension": ".py",
   "mimetype": "text/x-python",
   "name": "python",
   "nbconvert_exporter": "python",
   "pygments_lexer": "ipython3",
   "version": "3.6.2"
  }
 },
 "nbformat": 4,
 "nbformat_minor": 2
}
