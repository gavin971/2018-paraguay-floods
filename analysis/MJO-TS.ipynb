{
 "cells": [
  {
   "cell_type": "code",
   "execution_count": null,
   "metadata": {},
   "outputs": [],
   "source": [
    "import pandas as pd\n",
    "import matplotlib.pyplot as plt\n",
    "import seaborn as sns\n",
    "savefig = True\n",
    "%matplotlib inline"
   ]
  },
  {
   "cell_type": "code",
   "execution_count": null,
   "metadata": {},
   "outputs": [],
   "source": [
    "mjo = pd.read_csv(\"../data/accessed/daily_indices.csv\", parse_dates=True, index_col='time')\n",
    "mjo = mjo['2015-11-01':'2016-02-29']\n",
    "mjo['month'] = mjo.index.month\n",
    "mjo.head()"
   ]
  },
  {
   "cell_type": "code",
   "execution_count": null,
   "metadata": {},
   "outputs": [],
   "source": [
    "plt.figure(figsize=(10,8.5))\n",
    "sns.lmplot('RMM1', 'RMM2', data=mjo, # Data source\n",
    "           fit_reg=False, hue='month', \n",
    "           scatter_kws={\"marker\": \"D\", \"s\": 100},\n",
    "          size = 8)\n",
    "plt.plot(mjo.RMM1, mjo.RMM2, color='gray')\n",
    "plt.axvline(0, color='gray')\n",
    "plt.axhline(0, color='gray')\n",
    "plt.plot((100,-100), (100, -100), color='gray')\n",
    "plt.plot((-100,100), (100, -100), color='gray')\n",
    "plt.ylim(-3,3)\n",
    "plt.xlim(-3,3)\n",
    "plt.xlabel('RMM1')\n",
    "plt.ylabel('RMM2')\n",
    "if savefig:\n",
    "    plt.savefig(\"../figs/MJO_Time_Series.pdf\")"
   ]
  }
 ],
 "metadata": {
  "kernelspec": {
   "display_name": "Python 3",
   "language": "python",
   "name": "python3"
  },
  "language_info": {
   "codemirror_mode": {
    "name": "ipython",
    "version": 3
   },
   "file_extension": ".py",
   "mimetype": "text/x-python",
   "name": "python",
   "nbconvert_exporter": "python",
   "pygments_lexer": "ipython3",
   "version": "3.6.2"
  }
 },
 "nbformat": 4,
 "nbformat_minor": 2
}
