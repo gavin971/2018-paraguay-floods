{
 "cells": [
  {
   "cell_type": "markdown",
   "metadata": {},
   "source": [
    "# Circulations Observed during NDJF 2015-16\n",
    "\n",
    "The purpose of this notebook is to plot the climatology of rainfall and circulation patterns, and to plot the anomalies that occurred during NDJF 2015-16."
   ]
  },
  {
   "cell_type": "code",
   "execution_count": null,
   "metadata": {},
   "outputs": [],
   "source": [
    "import numpy as np\n",
    "import xarray as xr\n",
    "import calendar\n",
    "import matplotlib.pyplot as plt\n",
    "import cartopy.crs as ccrs\n",
    "import paraguayfloodspy.visualize as viz # custom plotting library\n",
    "from paraguayfloodspy.xrutil import *"
   ]
  },
  {
   "cell_type": "markdown",
   "metadata": {},
   "source": [
    "Load up some parameters for plotting"
   ]
  },
  {
   "cell_type": "code",
   "execution_count": null,
   "metadata": {},
   "outputs": [],
   "source": [
    "%run ../config/PlotParameters.py\n",
    "print(extent)\n",
    "print(cmap)"
   ]
  },
  {
   "cell_type": "markdown",
   "metadata": {},
   "source": [
    "Define some additional parameters for plotting"
   ]
  },
  {
   "cell_type": "code",
   "execution_count": null,
   "metadata": {},
   "outputs": [],
   "source": [
    "%matplotlib inline\n",
    "savefigs = True\n",
    "months_plot = [11, 12, 1, 2]\n",
    "years_plot = [2015,2015,2016,2016]"
   ]
  },
  {
   "cell_type": "markdown",
   "metadata": {},
   "source": [
    "Read in the raw data"
   ]
  },
  {
   "cell_type": "code",
   "execution_count": null,
   "metadata": {},
   "outputs": [],
   "source": [
    "psi850 = xr.open_dataset(\"../data/derived/psi_850.nc\")\n",
    "psi200 = xr.open_dataset(\"../data/derived/psi_200.nc\")\n",
    "prcp = xr.open_dataset('../data/derived/precip.nc')"
   ]
  },
  {
   "cell_type": "markdown",
   "metadata": {},
   "source": [
    "Get the X and Y coordinates for plotting"
   ]
  },
  {
   "cell_type": "code",
   "execution_count": null,
   "metadata": {},
   "outputs": [],
   "source": [
    "X, Y = np.meshgrid(psi850.lon, psi850.lat)\n",
    "Xp, Yp = np.meshgrid(prcp.lon, prcp.lat)\n",
    "ncols = len(months_plot)"
   ]
  },
  {
   "cell_type": "markdown",
   "metadata": {},
   "source": [
    "## Plot Anomalies"
   ]
  },
  {
   "cell_type": "code",
   "execution_count": null,
   "metadata": {},
   "outputs": [],
   "source": [
    "fig, axes = viz.SetupAxes(ncol = ncols, nax = 3 * ncols, proj = ccrs.Orthographic(-60, -10), figsize = [17, 9.5])\n",
    "for i,m in enumerate(months_plot):\n",
    "    def selector(ds):\n",
    "        ds = ds.sel(time = slice('2015-11-01', '2016-02-28'))\n",
    "        ds = ds.sel(time = (ds['time.month'] == m)).mean(dim='time')\n",
    "        return(ds)\n",
    "    #\n",
    "    ax = axes[0, i]\n",
    "    ax.set_title('{} {}'.format(calendar.month_name[m], years_plot[i]))\n",
    "    C0 = ax.contourf(X, Y, selector(psi200['anomaly']), transform = ccrs.PlateCarree(), \n",
    "                     cmap = cmap['psi_a'], extend=\"both\", \n",
    "                     levels=np.linspace(-2.5e7, 2.5e7, 11))\n",
    "    #\n",
    "    ax = axes[1, i]\n",
    "    C1 = ax.contourf(X, Y, selector(psi850['anomaly']), transform = ccrs.PlateCarree(), \n",
    "                     cmap = cmap['psi_a'], extend=\"both\", \n",
    "                     levels=np.linspace(-6e6, 6e6, 13))\n",
    "    #\n",
    "    ax = axes[2, i]\n",
    "    sub = selector(prcp['anomaly']).values\n",
    "    sub = np.ma.masked_invalid(sub)\n",
    "    C2 = ax.contourf(Xp, Yp, sub, transform = ccrs.PlateCarree(), \n",
    "                       cmap = cmap['rain_a'], levels = np.linspace(-9, 9, 10),\n",
    "                    extend = 'both')\n",
    "plt.tight_layout()\n",
    "fig.subplots_adjust(right=0.94)\n",
    "cax0 = fig.add_axes([0.97, 0.71, 0.01, 0.2])\n",
    "cax1 = fig.add_axes([0.97, 0.39, 0.01, 0.2])\n",
    "cax2 = fig.add_axes([0.97, 0.05, 0.01, 0.25])\n",
    "cbar0 = fig.colorbar(C0, cax = cax0)\n",
    "cbar0.formatter.set_powerlimits((7, 7))\n",
    "cbar0.update_ticks() \n",
    "cbar0.set_label(r'$\\psi_{200}$ Anomaly [$m^2$/s]', rotation=270)\n",
    "cbar0.ax.get_yaxis().labelpad = 20\n",
    "#\n",
    "cbar1 = fig.colorbar(C1, cax = cax1)\n",
    "cbar1.formatter.set_powerlimits((6, 6))\n",
    "cbar1.update_ticks() \n",
    "cbar1.set_label(r'$\\psi_{850}$ Anomaly [$m^2$/s]', rotation=270)\n",
    "cbar1.ax.get_yaxis().labelpad = 20\n",
    "# \n",
    "cbar2 = fig.colorbar(C2, cax=cax2)\n",
    "cbar2.set_label('Precip. Anomaly [mm/d]', rotation=270)\n",
    "cbar2.ax.get_yaxis().labelpad = 20\n",
    "# \n",
    "viz.FormatAxes(axes[0,:], extent = extent['SH'])\n",
    "viz.FormatAxes(axes[1,:], extent = extent['SH'])\n",
    "viz.FormatAxes(axes[2,:], extent = extent['SAm'])\n",
    "#\n",
    "if savefigs:\n",
    "    fig.savefig(\"../figs/NDJF201516Anomaly.pdf\", bbox_inches='tight')"
   ]
  }
 ],
 "metadata": {
  "kernelspec": {
   "display_name": "Python 3",
   "language": "python",
   "name": "python3"
  },
  "language_info": {
   "codemirror_mode": {
    "name": "ipython",
    "version": 3
   },
   "file_extension": ".py",
   "mimetype": "text/x-python",
   "name": "python",
   "nbconvert_exporter": "python",
   "pygments_lexer": "ipython3",
   "version": "3.6.2"
  }
 },
 "nbformat": 4,
 "nbformat_minor": 2
}
