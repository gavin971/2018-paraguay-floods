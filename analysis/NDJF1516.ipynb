{
 "cells": [
  {
   "cell_type": "markdown",
   "metadata": {},
   "source": [
    "# Circulations Observed during NDJF 2015-16\n",
    "\n",
    "The purpose of this notebook is to plot the climatology of rainfall and circulation patterns, and to plot the anomalies that occurred during NDJF 2015-16."
   ]
  },
  {
   "cell_type": "code",
   "execution_count": null,
   "metadata": {},
   "outputs": [],
   "source": [
    "import numpy as np\n",
    "import xarray as xr\n",
    "import calendar\n",
    "import matplotlib.pyplot as plt\n",
    "import cartopy.crs as ccrs\n",
    "import paraguayfloodspy.visualize as viz # custom plotting library\n",
    "from paraguayfloodspy.xrutil import *\n",
    "%matplotlib inline"
   ]
  },
  {
   "cell_type": "markdown",
   "metadata": {},
   "source": [
    "Define the extents to use for these plots"
   ]
  },
  {
   "cell_type": "code",
   "execution_count": null,
   "metadata": {},
   "outputs": [],
   "source": [
    "rain_extent = [275, 330, 5, -45]\n",
    "my_extent = [-140,10,-60,10]\n",
    "months_plot = [11, 12, 1, 2]\n",
    "years_plot = [2015,2015,2016,2016]\n",
    "savefigs = True"
   ]
  },
  {
   "cell_type": "markdown",
   "metadata": {},
   "source": [
    "Get some consistent color schemes"
   ]
  },
  {
   "cell_type": "code",
   "execution_count": null,
   "metadata": {},
   "outputs": [],
   "source": [
    "cmap_streamfunc = 'PuOr'\n",
    "cmap_streamfunc_a = 'PuOr'\n",
    "cmap_rain = 'Greens'\n",
    "cmap_raina = 'BrBG'"
   ]
  },
  {
   "cell_type": "markdown",
   "metadata": {},
   "source": [
    "Read in the raw data"
   ]
  },
  {
   "cell_type": "code",
   "execution_count": null,
   "metadata": {},
   "outputs": [],
   "source": [
    "psi = xr.open_dataset('../data/derived/psi_850.nc')\n",
    "prcp = xr.open_dataset('../data/derived/precip.nc')"
   ]
  },
  {
   "cell_type": "markdown",
   "metadata": {},
   "source": [
    "Get the X and Y coordinates for plotting"
   ]
  },
  {
   "cell_type": "code",
   "execution_count": null,
   "metadata": {},
   "outputs": [],
   "source": [
    "X, Y = np.meshgrid(psi.lon, psi.lat)\n",
    "Xp, Yp = np.meshgrid(prcp.lon, prcp.lat)\n",
    "ncols = len(months_plot)"
   ]
  },
  {
   "cell_type": "markdown",
   "metadata": {},
   "source": [
    "## Plot Anomalies"
   ]
  },
  {
   "cell_type": "code",
   "execution_count": null,
   "metadata": {},
   "outputs": [],
   "source": [
    "fig, axes = viz.SetupAxes(ncol = ncols, nax = 2 * ncols, proj = ccrs.Orthographic(-60, -10), figsize = [17, 7])\n",
    "fig.subplots_adjust(right=0.95)\n",
    "cax1 = fig.add_axes([0.97, 0.55, 0.0075, 0.3])\n",
    "cax2 = fig.add_axes([0.97, 0.15, 0.0075, 0.3])\n",
    "for i,m in enumerate(months_plot):\n",
    "    def selector(ds):\n",
    "        ds = ds.sel(time = slice('2015-11-01', '2016-02-28'))\n",
    "        ds = ds.sel(time = (ds['time.month'] == m)).mean(dim='time')\n",
    "        return(ds)\n",
    "\n",
    "    # 850 hPa wind\n",
    "    ax = axes[0, i]\n",
    "    ax.set_title('{} {}'.format(calendar.month_name[m], years_plot[i]))\n",
    "    C1 = ax.contourf(X, Y, selector(psi['anomaly']), transform = ccrs.PlateCarree(), \n",
    "                     cmap = cmap_streamfunc_a, levels=np.linspace(-6e6, 6e6, 13), extend='both')\n",
    "\n",
    "    # Row 3: Rainfall\n",
    "    ax = axes[1, i]\n",
    "    sub = selector(prcp['anomaly']).values\n",
    "    sub = np.ma.masked_invalid(sub)\n",
    "    C2 = ax.contourf(Xp, Yp, sub, transform = ccrs.PlateCarree(), cmap = cmap_raina, \n",
    "                     levels = np.linspace(-13.5, 13.5, 10), extend = \"both\")\n",
    "\n",
    "# Colorbars for Reanalysis Data\n",
    "cbar1 = fig.colorbar(C1, cax = cax1)\n",
    "cbar1.formatter.set_powerlimits((6, 6))\n",
    "cbar1.update_ticks() \n",
    "cbar1.set_label(r'Streamfunction at 850 hPa', rotation=270)\n",
    "cbar1.ax.get_yaxis().labelpad = 15\n",
    "# Colorbar for Rainfall\n",
    "cbar2 = fig.colorbar(C2, cax=cax2)\n",
    "cbar2.set_label(r'Rainfall [mm/d]', rotation=270)\n",
    "cbar2.ax.get_yaxis().labelpad = 15\n",
    "# Coasts and Countries\n",
    "viz.FormatAxes(axes[0,:], coast=True, grid=False, border=True, river = False,\n",
    "               feature_list = [], states=False, extent = my_extent, ticks=None)\n",
    "viz.FormatAxes(axes[1,:], coast=True, grid=False, border=True, river = False,\n",
    "               feature_list = [], states=False, extent = rain_extent, ticks=None)\n",
    "# Save to File\n",
    "if savefigs:\n",
    "    fig.savefig(\"../figs/NDJF201516Anomaly.pdf\", bbox_inches='tight')"
   ]
  },
  {
   "cell_type": "markdown",
   "metadata": {},
   "source": [
    "## Plot Full Values"
   ]
  },
  {
   "cell_type": "code",
   "execution_count": null,
   "metadata": {},
   "outputs": [],
   "source": [
    "fig, axes = viz.SetupAxes(ncol = ncols, nax = 2 * ncols, proj = ccrs.Orthographic(-60, -10), figsize = [17, 7])\n",
    "fig.subplots_adjust(right=0.95)\n",
    "cax1 = fig.add_axes([0.97, 0.55, 0.0075, 0.3])\n",
    "cax2 = fig.add_axes([0.97, 0.15, 0.0075, 0.3])\n",
    "for i,m in enumerate(months_plot):\n",
    "    def selector(ds):\n",
    "        ds = ds.sel(time = slice('2015-11-01', '2016-02-28'))\n",
    "        ds = ds.sel(time = (ds['time.month'] == m)).mean(dim='time')\n",
    "        return(ds)\n",
    "\n",
    "    # 850 hPa wind\n",
    "    ax = axes[0, i]\n",
    "    ax.set_title('{} {}'.format(calendar.month_name[m], years_plot[i]))\n",
    "    C1 = ax.contourf(X, Y, selector(psi['raw']), transform = ccrs.PlateCarree(), \n",
    "                     cmap = cmap_streamfunc, \n",
    "                     levels=np.linspace(-2.4e7, 2.4e7, 13), \n",
    "                     extend='both')\n",
    "\n",
    "    # Row 3: Rainfall\n",
    "    ax = axes[1, i]\n",
    "    sub = selector(prcp['raw']).values\n",
    "    sub = np.ma.masked_invalid(sub)\n",
    "    C2 = ax.contourf(Xp, Yp, sub, transform = ccrs.PlateCarree(), cmap = cmap_rain, \n",
    "                     levels = np.linspace(0, 18, 7), \n",
    "                     extend = \"max\")\n",
    "\n",
    "# Colorbars for Reanalysis Data\n",
    "cbar1 = fig.colorbar(C1, cax = cax1)\n",
    "cbar1.formatter.set_powerlimits((7, 7))\n",
    "cbar1.update_ticks() \n",
    "cbar1.set_label(r'Streamfunction at 850 hPa', rotation=270)\n",
    "cbar1.ax.get_yaxis().labelpad = 15\n",
    "# Colorbar for Rainfall\n",
    "cbar2 = fig.colorbar(C2, cax=cax2)\n",
    "cbar2.set_label(r'Rainfall [mm/d]', rotation=270)\n",
    "cbar2.ax.get_yaxis().labelpad = 15\n",
    "# Coasts and Countries\n",
    "viz.FormatAxes(axes[0,:], coast=True, grid=False, border=True, river = False,\n",
    "               feature_list = [], states=False, extent = my_extent, ticks=None)\n",
    "viz.FormatAxes(axes[1,:], coast=True, grid=False, border=True, river = False,\n",
    "               feature_list = [], states=False, extent = rain_extent, ticks=None)\n",
    "# Save to File\n",
    "if savefigs:\n",
    "    fig.savefig(\"../figs/NDJF201516Full.pdf\", bbox_inches='tight')"
   ]
  }
 ],
 "metadata": {
  "kernelspec": {
   "display_name": "Python 3",
   "language": "python",
   "name": "python3"
  },
  "language_info": {
   "codemirror_mode": {
    "name": "ipython",
    "version": 3
   },
   "file_extension": ".py",
   "mimetype": "text/x-python",
   "name": "python",
   "nbconvert_exporter": "python",
   "pygments_lexer": "ipython3",
   "version": "3.6.2"
  }
 },
 "nbformat": 4,
 "nbformat_minor": 2
}
