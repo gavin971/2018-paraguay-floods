{
 "cells": [
  {
   "cell_type": "markdown",
   "metadata": {},
   "source": [
    "# Chiclet Diagram\n",
    "\n",
    "What was the forecast skill of S2S models? \n",
    "Did grid-cell or spatial bias correction schemes improve results?"
   ]
  },
  {
   "cell_type": "code",
   "execution_count": null,
   "metadata": {},
   "outputs": [],
   "source": [
    "import xarray as xr\n",
    "import cartopy.crs as ccrs\n",
    "import matplotlib.pyplot as plt\n",
    "import numpy as np\n",
    "import pandas as pd\n",
    "import datetime\n",
    "import paraguayfloodspy.visualize as viz # custom plotting library"
   ]
  },
  {
   "cell_type": "markdown",
   "metadata": {},
   "source": [
    "Define parameters"
   ]
  },
  {
   "cell_type": "code",
   "execution_count": null,
   "metadata": {},
   "outputs": [],
   "source": [
    "%matplotlib inline\n",
    "savefigs = True"
   ]
  },
  {
   "cell_type": "markdown",
   "metadata": {},
   "source": [
    "Load some plotting parameters from file"
   ]
  },
  {
   "cell_type": "code",
   "execution_count": null,
   "metadata": {},
   "outputs": [],
   "source": [
    "%run ../config/PlotParameters.py\n",
    "print(extent)\n",
    "print(cmap)"
   ]
  },
  {
   "cell_type": "code",
   "execution_count": null,
   "metadata": {},
   "outputs": [],
   "source": [
    "area_avg = xr.open_dataset(\"../data/accessed/AreaAvg.nc\")\n",
    "area_avg['L'] = np.int_(area_avg['L'].astype('timedelta64[D]') / np.timedelta64(1, 'D'))"
   ]
  },
  {
   "cell_type": "code",
   "execution_count": null,
   "metadata": {},
   "outputs": [],
   "source": [
    "df = area_avg.to_dataframe().dropna()\n",
    "df = df.reset_index()\n",
    "df['target_date'] = df['S'] + df['L'].apply(np.ceil).apply(lambda x: pd.Timedelta(x, unit='D'))\n",
    "df = df.loc[np.logical_and(df['target_date'] >= '2015-11-01', df['target_date'] <= '2016-02-29')]\n",
    "df = df.set_index(['target_date', 'L', 'M'])"
   ]
  },
  {
   "cell_type": "code",
   "execution_count": null,
   "metadata": {},
   "outputs": [],
   "source": [
    "prcp_rpy = pd.read_csv(\"../data/derived/rainfall_rpy.csv\", index_col='time', parse_dates=True)[['raw']]\n",
    "climatology = np.mean(prcp_rpy).values"
   ]
  },
  {
   "cell_type": "code",
   "execution_count": null,
   "metadata": {},
   "outputs": [],
   "source": [
    "df['tpa'] = df['tp'] - climatology"
   ]
  },
  {
   "cell_type": "code",
   "execution_count": null,
   "metadata": {},
   "outputs": [],
   "source": [
    "forecast = df.to_xarray()['tpa'].mean(dim='M')\n",
    "ft, fl = np.meshgrid(forecast.target_date, forecast.L)"
   ]
  },
  {
   "cell_type": "code",
   "execution_count": null,
   "metadata": {},
   "outputs": [],
   "source": [
    "fig,axes = plt.subplots(ncols=1, nrows=2, figsize=((15,8)), gridspec_kw = {'height_ratios':[3, 1]})\n",
    "# Chiclet\n",
    "ax=axes[0]\n",
    "C1 = ax.pcolormesh(ft, fl, np.ma.masked_invalid(forecast.transpose().values),\n",
    "                  vmin=-15, vmax=15, cmap = cmap['rain_a'])\n",
    "ax.set_xlabel(\"Target Date\")\n",
    "ax.set_ylabel(\"Lead Time (Days)\")\n",
    "current_x_lim = ax.get_xlim()\n",
    "ax.grid(True)\n",
    "# Observed\n",
    "ax = axes[1]\n",
    "ax.plot(prcp_rpy.index.values, prcp_rpy.raw.values)\n",
    "ax.set_xlim(current_x_lim)\n",
    "ax.grid(True)\n",
    "ax.set_ylim(0, 40)\n",
    "ax.invert_yaxis()\n",
    "ax.set_ylabel(\"Rainfall [mm/day]\")\n",
    "# Colorbars\n",
    "fig.tight_layout()\n",
    "fig.subplots_adjust(right=0.95)\n",
    "cax1 = fig.add_axes([0.97, 0.4, 0.01, 0.55])\n",
    "cbar1 = fig.colorbar(C1, cax = cax1)\n",
    "cbar1.set_label(\"Ensemble-Mean Rainfall Forecast [mm/day]\")\n",
    "if savefigs:\n",
    "    fig.savefig(\"../figs/Chiclet.pdf\", bbox_inches=\"tight\")"
   ]
  }
 ],
 "metadata": {
  "kernelspec": {
   "display_name": "Python 3",
   "language": "python",
   "name": "python3"
  },
  "language_info": {
   "codemirror_mode": {
    "name": "ipython",
    "version": 3
   },
   "file_extension": ".py",
   "mimetype": "text/x-python",
   "name": "python",
   "nbconvert_exporter": "python",
   "pygments_lexer": "ipython3",
   "version": "3.6.3"
  }
 },
 "nbformat": 4,
 "nbformat_minor": 2
}
