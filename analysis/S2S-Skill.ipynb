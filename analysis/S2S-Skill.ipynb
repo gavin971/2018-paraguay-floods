{
 "cells": [
  {
   "cell_type": "markdown",
   "metadata": {},
   "source": [
    "# S2S Skill\n",
    "\n",
    "What was the forecast skill of S2S models? \n",
    "Did grid-cell or spatial bias correction schemes improve results?"
   ]
  },
  {
   "cell_type": "code",
   "execution_count": null,
   "metadata": {},
   "outputs": [],
   "source": [
    "import xarray as xr\n",
    "import cartopy.crs as ccrs\n",
    "import matplotlib.pyplot as plt\n",
    "import numpy as np\n",
    "import pandas as pd\n",
    "import datetime\n",
    "import paraguayfloodspy.visualize as viz # custom plotting library"
   ]
  },
  {
   "cell_type": "markdown",
   "metadata": {},
   "source": [
    "Define parameters"
   ]
  },
  {
   "cell_type": "code",
   "execution_count": null,
   "metadata": {},
   "outputs": [],
   "source": [
    "%matplotlib inline\n",
    "savefigs = True"
   ]
  },
  {
   "cell_type": "markdown",
   "metadata": {},
   "source": [
    "Load some plotting parameters from file"
   ]
  },
  {
   "cell_type": "code",
   "execution_count": null,
   "metadata": {},
   "outputs": [],
   "source": [
    "%run ../config/PlotParameters.py\n",
    "print(extent)\n",
    "print(cmap)"
   ]
  },
  {
   "cell_type": "code",
   "execution_count": null,
   "metadata": {},
   "outputs": [],
   "source": [
    "forecasts = ['Raw', 'XLR', 'PCR', 'CCA']"
   ]
  },
  {
   "cell_type": "code",
   "execution_count": null,
   "metadata": {},
   "outputs": [],
   "source": [
    "obs_url = 'http://iridl.ldeo.columbia.edu/home/.agmunoz/.Paraguay/.Obs/.Obsrain_90thpctl/dods'\n",
    "obs_exceed = xr.open_dataarray(obs_url)\n",
    "obs_exceed = obs_exceed.isel(T=(obs_exceed['T'].size - 1))\n",
    "hatch0 = np.ma.masked_invalid(obs_exceed.values)\n",
    "hatch = np.ma.masked_less(hatch0, 0.9)\n",
    "Xh, Yh = np.meshgrid(obs_exceed.X, obs_exceed.Y)"
   ]
  },
  {
   "cell_type": "code",
   "execution_count": null,
   "metadata": {},
   "outputs": [],
   "source": [
    "ncols = len(forecasts)\n",
    "fig, axes = viz.SetupAxes(ncol = ncols, nax = 2*len(forecasts), proj = ccrs.PlateCarree(), figsize = [12, 8])\n",
    "fig.subplots_adjust(right=0.95)\n",
    "cax1 = fig.add_axes([0.97, 0.55, 0.01, 0.3])\n",
    "cax2 = fig.add_axes([0.97, 0.15, 0.01, 0.3])\n",
    "for i,m in enumerate(forecasts):\n",
    "    # Forecast for December 1-7 2015\n",
    "    ax = axes[0, i]\n",
    "    ax.set_title(m)\n",
    "    url = 'http://iridl.ldeo.columbia.edu/ds%3A/home/.agmunoz/.Paraguay/.{}/.Odds_1-7Dec2015/dods'.format(m)\n",
    "    ds = xr.open_dataarray(url)\n",
    "    X,Y = np.meshgrid(ds.X, ds.Y)\n",
    "    sub = ds.values\n",
    "    sub = np.ma.masked_invalid(sub)\n",
    "    sub = np.ma.masked_less(sub, 0)\n",
    "    if len(sub.shape) == 3:\n",
    "        sub = sub[0,:,:]\n",
    "    C1 = ax.pcolormesh(X, Y, sub, cmap=\"Greens\", transform=ccrs.PlateCarree(), vmin=0, vmax=7)\n",
    "    ax.contour(Xh, Yh, hatch0, levels = [-100, 0, 100], colors='black', size=1.5)\n",
    "    \n",
    "    # 2AFC Skill Score\n",
    "    ax = axes[1, i]\n",
    "    url = 'http://iridl.ldeo.columbia.edu/home/.agmunoz/.Paraguay/.{}/.2AFCProbFcsts/dods'.format(m)\n",
    "    ds = xr.open_dataarray(url)\n",
    "    X,Y = np.meshgrid(ds.X, ds.Y)\n",
    "    sub = ds.values\n",
    "    sub = np.ma.masked_invalid(sub)\n",
    "    sub = np.ma.masked_greater(sub, 100)\n",
    "    sub = np.ma.masked_less(sub, 0)\n",
    "    if len(sub.shape) == 3:\n",
    "        sub = sub[0,:,:]\n",
    "    C2 = ax.pcolormesh(X, Y, sub, transform=ccrs.PlateCarree(), \n",
    "                       cmap=\"PuOr\", vmin=0, vmax=100)\n",
    "\n",
    "# Color bar for Odds Ratio\n",
    "cbar1 = fig.colorbar(C1, cax = cax1)\n",
    "cbar1.update_ticks()\n",
    "cbar1.set_label(r'Odds Ratio', rotation=270)\n",
    "cbar1.ax.get_yaxis().labelpad = 15\n",
    "# Color bar for 2AFC\n",
    "cbar2 = fig.colorbar(C2, cax=cax2)\n",
    "cbar2.set_label(r'2AFC Skill Score', rotation=270)\n",
    "cbar2.ax.get_yaxis().labelpad = 15\n",
    "viz.FormatAxes(axes)\n",
    "if savefigs:\n",
    "    fig.savefig(\"../figs/ForecastSkill.pdf\", bbox_inches=\"tight\")"
   ]
  },
  {
   "cell_type": "code",
   "execution_count": null,
   "metadata": {},
   "outputs": [],
   "source": [
    "area_avg = xr.open_dataset(\"../data/accessed/s2s/AreaAvg.nc\")\n",
    "area_avg['L'] = np.int_(area_avg['L'].astype('timedelta64[D]') / np.timedelta64(1, 'D'))"
   ]
  },
  {
   "cell_type": "code",
   "execution_count": null,
   "metadata": {},
   "outputs": [],
   "source": [
    "prcp_rpy = pd.read_csv(\"../data/derived/rainfall_rpy.csv\", index_col='time')[['raw']]\n",
    "climatology = np.mean(prcp_rpy).values"
   ]
  },
  {
   "cell_type": "code",
   "execution_count": null,
   "metadata": {},
   "outputs": [],
   "source": [
    "prcp_rpy = prcp_rpy.rolling(3).mean().dropna()\n",
    "prcp_rpy = prcp_rpy['2015-11-01':'2016-02-29']"
   ]
  },
  {
   "cell_type": "code",
   "execution_count": null,
   "metadata": {},
   "outputs": [],
   "source": [
    "L_plt = [5,14,19, 30]"
   ]
  },
  {
   "cell_type": "code",
   "execution_count": null,
   "metadata": {},
   "outputs": [],
   "source": [
    "fig,axes=plt.subplots(figsize=(17,7), nrows=2, ncols=2)\n",
    "for i,L in enumerate(L_plt):\n",
    "    ax=viz.GetRowCol(i, axes)\n",
    "    ensemble_mean = area_avg.sel(L=L).mean(dim='M').to_dataframe().dropna()\n",
    "    ensemble_mean['target_date'] = ensemble_mean['date_target'] = ensemble_mean.index + datetime.timedelta(L)\n",
    "    ax.plot(ensemble_mean['target_date'], ensemble_mean['tp'], label='Ensemble Mean', color='black', linewidth=2)\n",
    "    ax.plot(prcp_rpy.index, prcp_rpy['raw'], label='Observed', color='blue', linewidth=2)\n",
    "    ax.axhline(climatology, color='green', label='Climatology', linewidth=2)\n",
    "    for M in area_avg['M']:\n",
    "        sub = area_avg.sel(M = M, L=L)\n",
    "        sub = sub.to_dataframe().dropna()\n",
    "        sub['date_target'] = sub.index + datetime.timedelta(L)\n",
    "        ax.scatter(sub['date_target'].values, sub['tp'].values, \n",
    "                   color='gray', alpha=.2, marker = 'o')\n",
    "    ax.set_title(\"Lead Time {} Days\".format(L))\n",
    "    ax.grid(True)\n",
    "    ax.set_xlim(('2015-11-01', '2016-02-29'))\n",
    "    ax.set_ylim((0, 40))\n",
    "    ax.set_xlabel(\"Model Target Date\")\n",
    "    ax.set_ylabel(\"Rainfall [mm/d]\")\n",
    "    if i == (len(L_plt)-1):\n",
    "        ax.legend()\n",
    "plt.tight_layout()\n",
    "if savefigs:\n",
    "    fig.savefig(\"../figs/Chiclet.pdf\", bbox_inches=\"tight\")"
   ]
  }
 ],
 "metadata": {
  "kernelspec": {
   "display_name": "Python 3",
   "language": "python",
   "name": "python3"
  },
  "language_info": {
   "codemirror_mode": {
    "name": "ipython",
    "version": 3
   },
   "file_extension": ".py",
   "mimetype": "text/x-python",
   "name": "python",
   "nbconvert_exporter": "python",
   "pygments_lexer": "ipython3",
   "version": "3.6.2"
  }
 },
 "nbformat": 4,
 "nbformat_minor": 2
}
