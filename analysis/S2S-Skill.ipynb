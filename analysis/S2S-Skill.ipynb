{
 "cells": [
  {
   "cell_type": "markdown",
   "metadata": {},
   "source": [
    "# S2S Skill\n",
    "\n",
    "What was the forecast skill of S2S models? \n",
    "Did grid-cell or spatial bias correction schemes improve results?"
   ]
  },
  {
   "cell_type": "code",
   "execution_count": null,
   "metadata": {},
   "outputs": [],
   "source": [
    "import xarray as xr\n",
    "import cartopy.crs as ccrs\n",
    "import matplotlib.pyplot as plt\n",
    "import numpy as np\n",
    "import pandas as pd\n",
    "import datetime\n",
    "import paraguayfloodspy.visualize as viz # custom plotting library"
   ]
  },
  {
   "cell_type": "markdown",
   "metadata": {},
   "source": [
    "Define parameters"
   ]
  },
  {
   "cell_type": "code",
   "execution_count": null,
   "metadata": {},
   "outputs": [],
   "source": [
    "%matplotlib inline\n",
    "savefigs = True"
   ]
  },
  {
   "cell_type": "markdown",
   "metadata": {},
   "source": [
    "Load some plotting parameters from file"
   ]
  },
  {
   "cell_type": "code",
   "execution_count": null,
   "metadata": {},
   "outputs": [],
   "source": [
    "%run ../config/PlotParameters.py\n",
    "print(extent)\n",
    "print(cmap)"
   ]
  },
  {
   "cell_type": "code",
   "execution_count": null,
   "metadata": {},
   "outputs": [],
   "source": [
    "obs_url = 'http://iridl.ldeo.columbia.edu/home/.agmunoz/.Paraguay/.Obs/.Obsrain_90thpctl/dods'\n",
    "obs_exceed = xr.open_dataarray(obs_url)\n",
    "obs_exceed = obs_exceed.isel(T=(obs_exceed['T'].size - 1))\n",
    "hatch0 = np.ma.masked_invalid(obs_exceed.values)\n",
    "hatch = np.ma.masked_less(hatch0, 0.9)\n",
    "Xh, Yh = np.meshgrid(obs_exceed.X, obs_exceed.Y)"
   ]
  },
  {
   "cell_type": "code",
   "execution_count": null,
   "metadata": {},
   "outputs": [],
   "source": [
    "forecast = xr.open_dataset('../data/accessed/s2s_forecast.nc')\n",
    "skill = xr.open_dataset('../data/accessed/s2s_skill.nc')\n",
    "ignorance = xr.open_dataset('../data/accessed/s2s_ignorance.nc')"
   ]
  },
  {
   "cell_type": "code",
   "execution_count": null,
   "metadata": {},
   "outputs": [],
   "source": [
    "model_names = forecast.model.values.tolist()"
   ]
  },
  {
   "cell_type": "code",
   "execution_count": null,
   "metadata": {},
   "outputs": [],
   "source": [
    "def get_forecast(model, type):\n",
    "    base_url = 'http://iridl.ldeo.columbia.edu/ds%3A/home/.agmunoz/.Paraguay/'\n",
    "    url = base_url + '{}/'.format(model)\n",
    "    if type == 'forecast':\n",
    "        url += '.Odds_1-7Dec2015/dods'\n",
    "    elif type == 'skill':\n",
    "        url += '.2AFCProbFcsts/dods'\n",
    "    elif type == 'ignorance':\n",
    "        url += '.IGNProbFcsts/dods'\n",
    "    else:\n",
    "        raise ValueError('type is not valid')\n",
    "\n",
    "    ds = xr.open_dataarray(url)\n",
    "    ds = ds.sortby(['X', 'Y']) # be more consistent\n",
    "    if ds.ndim > 2:\n",
    "        ds = ds.isel(time=0).drop('time')\n",
    "\n",
    "    ds.coords['model'] = model\n",
    "\n",
    "    return(ds)"
   ]
  },
  {
   "cell_type": "code",
   "execution_count": null,
   "metadata": {},
   "outputs": [],
   "source": [
    "ncols = len(model_names)\n",
    "fig, axes = plt.subplots(\n",
    "    ncols=len(model_names), nrows=3,\n",
    "    subplot_kw={'projection': ccrs.PlateCarree()},\n",
    "    figsize=(14,10), sharex=True, sharey=True\n",
    ")\n",
    "for i,m in enumerate(model_names):\n",
    "    # Forecast for December 1-7 2015\n",
    "    ax = axes[0, i]\n",
    "    ax.set_title(m)\n",
    "    ds = get_forecast(model=m, type='forecast')\n",
    "    X,Y = np.meshgrid(ds.X, ds.Y)\n",
    "    sub = ds.values\n",
    "    sub = np.ma.masked_invalid(sub)\n",
    "    sub = np.ma.masked_less(sub, 0)\n",
    "    C1 = ax.pcolormesh(X, Y, sub, cmap=\"gist_rainbow\", transform=ccrs.PlateCarree(), vmin=0, vmax=8)\n",
    "    ax.pcolor(Xh, Yh, hatch, facecolor='none', edgecolors='k')\n",
    "    # Ignorance Score\n",
    "    ax = axes[1, i]\n",
    "    ds = get_forecast(model=m, type='ignorance')\n",
    "    X,Y = np.meshgrid(ds.X, ds.Y)\n",
    "    sub = ds.values\n",
    "    sub = np.ma.masked_invalid(sub)\n",
    "    sub = np.ma.masked_less(sub, 0)\n",
    "    C2 = ax.pcolormesh(X, Y, sub, transform=ccrs.PlateCarree(), cmap=\"gist_rainbow\", vmin=0, vmax=2.5)\n",
    "    ax.pcolor(Xh, Yh, hatch, facecolor='none', edgecolors='k')\n",
    "    # 2AFC Skill Score\n",
    "    ax = axes[2, i]\n",
    "    ds = get_forecast(model=m, type='skill')\n",
    "    X,Y = np.meshgrid(ds.X, ds.Y)\n",
    "    sub = ds.values\n",
    "    sub = np.ma.masked_invalid(sub)\n",
    "    sub = np.ma.masked_less(sub, 0)\n",
    "    C3 = ax.pcolormesh(X, Y, sub, transform=ccrs.PlateCarree(), cmap=\"PuOr\", vmin=0, vmax=100)\n",
    "    ax.pcolor(Xh, Yh, hatch, facecolor='none', edgecolors='k')\n",
    "\n",
    "viz.FormatAxes(axes, ticks=[np.linspace(-180, 180, 73), np.linspace(-90, 90, 37)], \n",
    "               extent = [np.min(X), np.max(X), np.min(Y), np.max(Y)])\n",
    "fig.tight_layout()\n",
    "fig.subplots_adjust(right=0.94)\n",
    "cax1 = fig.add_axes([0.97, 0.7, 0.015, 0.25])\n",
    "cax2 = fig.add_axes([0.97, 0.38, 0.015, 0.25])\n",
    "cax3 = fig.add_axes([0.97, 0.05, 0.015, 0.25])\n",
    "# Color bar for Odds Ratio\n",
    "cbar1 = fig.colorbar(C1, cax = cax1)\n",
    "cbar1.update_ticks()\n",
    "cbar1.set_label(r'Odds Ratio', rotation=270)\n",
    "cbar1.ax.get_yaxis().labelpad = 15\n",
    "# Color bar for 2AFC\n",
    "cbar2 = fig.colorbar(C2, cax=cax2)\n",
    "cbar2.set_label(r'Ignorance Score', rotation=270)\n",
    "cbar2.ax.get_yaxis().labelpad = 15\n",
    "# Color bar for Ignorance\n",
    "cbar3 = fig.colorbar(C3, cax=cax3)\n",
    "cbar3.set_label(r'2AFC Skill Score', rotation=270)\n",
    "cbar3.ax.get_yaxis().labelpad = 15\n",
    "if savefigs:\n",
    "    fig.savefig(\"../figs/ForecastSkill.pdf\", bbox_inches=\"tight\")"
   ]
  }
 ],
 "metadata": {
  "kernelspec": {
   "display_name": "Python 3",
   "language": "python",
   "name": "python3"
  },
  "language_info": {
   "codemirror_mode": {
    "name": "ipython",
    "version": 3
   },
   "file_extension": ".py",
   "mimetype": "text/x-python",
   "name": "python",
   "nbconvert_exporter": "python",
   "pygments_lexer": "ipython3",
   "version": "3.6.3"
  }
 },
 "nbformat": 4,
 "nbformat_minor": 2
}
