{
 "cells": [
  {
   "cell_type": "markdown",
   "metadata": {},
   "source": [
    "# S2S Skill\n",
    "\n",
    "What was the forecast skill of S2S models? \n",
    "Did grid-cell or spatial bias correction schemes improve results?"
   ]
  },
  {
   "cell_type": "code",
   "execution_count": null,
   "metadata": {},
   "outputs": [],
   "source": [
    "import xarray as xr\n",
    "import cartopy.crs as ccrs\n",
    "import matplotlib.pyplot as plt\n",
    "import numpy as np\n",
    "import pandas as pd\n",
    "import datetime\n",
    "import paraguayfloodspy.visualize as viz # custom plotting library"
   ]
  },
  {
   "cell_type": "markdown",
   "metadata": {},
   "source": [
    "Define parameters"
   ]
  },
  {
   "cell_type": "code",
   "execution_count": null,
   "metadata": {},
   "outputs": [],
   "source": [
    "%matplotlib inline\n",
    "savefigs = True"
   ]
  },
  {
   "cell_type": "markdown",
   "metadata": {},
   "source": [
    "Load some plotting parameters from file"
   ]
  },
  {
   "cell_type": "code",
   "execution_count": null,
   "metadata": {},
   "outputs": [],
   "source": [
    "%run ../config/PlotParameters.py\n",
    "print(extent)\n",
    "print(cmap)"
   ]
  },
  {
   "cell_type": "code",
   "execution_count": null,
   "metadata": {},
   "outputs": [],
   "source": [
    "forecasts = ['Raw', 'XLR', 'HXLR', 'PCR', 'CCA']"
   ]
  },
  {
   "cell_type": "code",
   "execution_count": null,
   "metadata": {},
   "outputs": [],
   "source": [
    "obs_url = 'http://iridl.ldeo.columbia.edu/home/.agmunoz/.Paraguay/.Obs/.Obsrain_90thpctl/dods'\n",
    "obs_exceed = xr.open_dataarray(obs_url)\n",
    "obs_exceed = obs_exceed.isel(T=(obs_exceed['T'].size - 1))\n",
    "hatch0 = np.ma.masked_invalid(obs_exceed.values)\n",
    "hatch = np.ma.masked_less(hatch0, 0.9)\n",
    "Xh, Yh = np.meshgrid(obs_exceed.X, obs_exceed.Y)"
   ]
  },
  {
   "cell_type": "code",
   "execution_count": null,
   "metadata": {},
   "outputs": [],
   "source": [
    "ncols = len(forecasts)\n",
    "fig, axes = viz.SetupAxes(ncol = ncols, nax = 2*len(forecasts), proj = ccrs.PlateCarree(), figsize = [16, 8])\n",
    "for i,m in enumerate(forecasts):\n",
    "    # Forecast for December 1-7 2015\n",
    "    ax = axes[0, i]\n",
    "    ax.set_title(m)\n",
    "    url = 'http://iridl.ldeo.columbia.edu/ds%3A/home/.agmunoz/.Paraguay/.{}/.Odds_1-7Dec2015/dods'.format(m)\n",
    "    ds = xr.open_dataarray(url)\n",
    "    X,Y = np.meshgrid(ds.X, ds.Y)\n",
    "    sub = ds.values\n",
    "    sub = np.ma.masked_invalid(sub)\n",
    "    sub = np.ma.masked_less(sub, 0)\n",
    "    if len(sub.shape) == 3:\n",
    "        sub = sub[0,:,:]\n",
    "    C1 = ax.pcolormesh(X, Y, sub, cmap=\"Greens\", transform=ccrs.PlateCarree(), vmin=0, vmax=7)\n",
    "    ax.pcolor(Xh, Yh, hatch, facecolor='none', edgecolors='k')\n",
    "    # 2AFC Skill Score\n",
    "    ax = axes[1, i]\n",
    "    url = 'http://iridl.ldeo.columbia.edu/home/.agmunoz/.Paraguay/.{}/.2AFCProbFcsts/dods'.format(m)\n",
    "    ds = xr.open_dataarray(url)\n",
    "    X,Y = np.meshgrid(ds.X, ds.Y)\n",
    "    sub = ds.values\n",
    "    sub = np.ma.masked_invalid(sub)\n",
    "    sub = np.ma.masked_greater(sub, 100)\n",
    "    sub = np.ma.masked_less(sub, 0)\n",
    "    if len(sub.shape) == 3:\n",
    "        sub = sub[0,:,:]\n",
    "    C2 = ax.pcolormesh(X, Y, sub, transform=ccrs.PlateCarree(), \n",
    "                       cmap=\"PuOr\", vmin=0, vmax=100)\n",
    "    ax.pcolor(Xh, Yh, hatch, facecolor='none', edgecolors='k')\n",
    "\n",
    "viz.FormatAxes(axes, ticks=[np.linspace(-180, 180, 73), np.linspace(-90, 90, 37)], \n",
    "               extent = [np.min(X), np.max(X), np.min(Y), np.max(Y)])\n",
    "fig.tight_layout()\n",
    "fig.subplots_adjust(right=0.95)\n",
    "cax1 = fig.add_axes([0.97, 0.55, 0.01, 0.3])\n",
    "cax2 = fig.add_axes([0.97, 0.15, 0.01, 0.3])\n",
    "# Color bar for Odds Ratio\n",
    "cbar1 = fig.colorbar(C1, cax = cax1)\n",
    "cbar1.update_ticks()\n",
    "cbar1.set_label(r'Odds Ratio', rotation=270)\n",
    "cbar1.ax.get_yaxis().labelpad = 15\n",
    "# Color bar for 2AFC\n",
    "cbar2 = fig.colorbar(C2, cax=cax2)\n",
    "cbar2.set_label(r'2AFC Skill Score', rotation=270)\n",
    "cbar2.ax.get_yaxis().labelpad = 15\n",
    "if savefigs:\n",
    "    fig.savefig(\"../figs/ForecastSkill.pdf\", bbox_inches=\"tight\")"
   ]
  }
 ],
 "metadata": {
  "kernelspec": {
   "display_name": "Python 3",
   "language": "python",
   "name": "python3"
  },
  "language_info": {
   "codemirror_mode": {
    "name": "ipython",
    "version": 3
   },
   "file_extension": ".py",
   "mimetype": "text/x-python",
   "name": "python",
   "nbconvert_exporter": "python",
   "pygments_lexer": "ipython3",
   "version": "3.6.3"
  }
 },
 "nbformat": 4,
 "nbformat_minor": 2
}
