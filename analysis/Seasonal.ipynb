{
 "cells": [
  {
   "cell_type": "code",
   "execution_count": null,
   "metadata": {},
   "outputs": [],
   "source": [
    "import xarray as xr\n",
    "import pandas as pd\n",
    "import paraguayfloodspy.visualize as viz\n",
    "import cartopy.crs as ccrs\n",
    "import matplotlib.pyplot as plt\n",
    "import numpy as np\n",
    "%matplotlib inline"
   ]
  },
  {
   "cell_type": "markdown",
   "metadata": {},
   "source": [
    "The seasonal forecasts were downloaded from the IRI data library to speed computation"
   ]
  },
  {
   "cell_type": "code",
   "execution_count": null,
   "metadata": {},
   "outputs": [],
   "source": [
    "url = '(https://iridl.ldeo.columbia.edu/expert/90.0//percentile/parameter/SOURCES/.IRI/.FD/.Flexible_Forecast/.precipitation/exch/100.0/div/2/mul/1/sub/erfinv/clim_stddev/mul/2/sqrt/mul/clim_mean/add/X/-66.25/-48.75/RANGE/Y/-39.25/-16.75/RANGE/dup/fcst_mean/sub/fcst_stddev/div/2/sqrt/div/erf/-1/mul/1/add/2/div/(exceeding)//proba/parameter/(exceeding)/ne/%7B-1/mul/1/add%7Dif/S//fullname/(Month%20Forecast%20Issued)/def/pop/(long_name)/(Probability%20of%20)//proba/get_parameter/append/(%20)/append//percentile/get_parameter/s==/append/(th%20%25-ile)/append/def/L/2.5/VALUE/S/670.0/VALUE/gridtable.tsv'\n",
    "print(url)"
   ]
  },
  {
   "cell_type": "code",
   "execution_count": null,
   "metadata": {},
   "outputs": [],
   "source": [
    "savefigs=True"
   ]
  },
  {
   "cell_type": "code",
   "execution_count": null,
   "metadata": {},
   "outputs": [],
   "source": [
    "df = pd.read_csv(\"../data/given/SeasonalForecast.tsv\", skiprows=2, \n",
    "                 delim_whitespace=True, names=['lon', 'lat', 'prob_exceed'],\n",
    "                index_col=['lat', 'lon'])\n",
    "df = df['prob_exceed'].to_xarray()\n",
    "df"
   ]
  },
  {
   "cell_type": "code",
   "execution_count": null,
   "metadata": {},
   "outputs": [],
   "source": [
    "fig, ax = viz.SetupAxes(figsize=(7,8), ncol=1, nax=1,proj=ccrs.PlateCarree())\n",
    "fig.subplots_adjust(right=0.925)\n",
    "cax1 = fig.add_axes([0.95, 0.15, 0.035, 0.7])\n",
    "X,Y = np.meshgrid(df.lon, df.lat)\n",
    "sub = np.ma.masked_invalid((df/(1-df)) / (.1/(1-.1)))\n",
    "C = ax.pcolormesh(X,Y, sub, transform=ccrs.PlateCarree(), \n",
    "                  cmap=\"Greens\", vmin=0, vmax=7)\n",
    "cb = plt.colorbar(C, cax=cax1)\n",
    "cb.set_label(\"Odds Ratio\", rotation=270)\n",
    "cb.ax.get_yaxis().labelpad = 15\n",
    "viz.FormatAxes(ax)\n",
    "if savefigs:\n",
    "    fig.savefig(\"../figs/SeasonalForecast.pdf\", bbox_inches='tight')"
   ]
  }
 ],
 "metadata": {
  "kernelspec": {
   "display_name": "Python 3",
   "language": "python",
   "name": "python3"
  },
  "language_info": {
   "codemirror_mode": {
    "name": "ipython",
    "version": 3
   },
   "file_extension": ".py",
   "mimetype": "text/x-python",
   "name": "python",
   "nbconvert_exporter": "python",
   "pygments_lexer": "ipython3",
   "version": "3.6.2"
  }
 },
 "nbformat": 4,
 "nbformat_minor": 2
}
