{
 "cells": [
  {
   "cell_type": "code",
   "execution_count": null,
   "metadata": {},
   "outputs": [],
   "source": [
    "import xarray as xr\n",
    "import numpy as np\n",
    "import matplotlib.pyplot as plt\n",
    "import cartopy.crs as ccrs\n",
    "import cartopy.feature\n",
    "import pandas as pd\n",
    "from cartopy.io import shapereader\n",
    "import pandas as pd\n",
    "import matplotlib.patches as patches\n",
    "import paraguayfloodspy.visualize as viz"
   ]
  },
  {
   "cell_type": "code",
   "execution_count": null,
   "metadata": {},
   "outputs": [],
   "source": [
    "%matplotlib inline"
   ]
  },
  {
   "cell_type": "markdown",
   "metadata": {},
   "source": [
    "Load in relevant parameters from the `config` directory, then print them to ensure we've gotten them right"
   ]
  },
  {
   "cell_type": "code",
   "execution_count": null,
   "metadata": {},
   "outputs": [],
   "source": [
    "%run ../config/RioParaguay.mk\n",
    "%run ../config/WeatherTypes.mk\n",
    "print(RPEAST, RPWEST, RPSOUTH, RPNORTH)\n",
    "print(WTEAST, WTWEST, WTSOUTH, WTNORTH)"
   ]
  },
  {
   "cell_type": "markdown",
   "metadata": {},
   "source": [
    "Save figures?"
   ]
  },
  {
   "cell_type": "code",
   "execution_count": null,
   "metadata": {},
   "outputs": [],
   "source": [
    "savefigs = True"
   ]
  },
  {
   "cell_type": "markdown",
   "metadata": {},
   "source": [
    "Rivers to plot"
   ]
  },
  {
   "cell_type": "code",
   "execution_count": null,
   "metadata": {},
   "outputs": [],
   "source": [
    "rivers = shapereader.natural_earth(\n",
    "    category='physical',\n",
    "    name='rivers_lake_centerlines',\n",
    "    resolution='10m'\n",
    ")\n",
    "rivers = shapereader.Reader(rivers)"
   ]
  },
  {
   "cell_type": "markdown",
   "metadata": {},
   "source": [
    "Get the streamflow gauge station descriptions"
   ]
  },
  {
   "cell_type": "code",
   "execution_count": null,
   "metadata": {},
   "outputs": [],
   "source": [
    "desc = pd.read_csv('../data/given/station_description.csv')"
   ]
  },
  {
   "cell_type": "markdown",
   "metadata": {},
   "source": [
    "Define a couple of boxes that we'll show on the map"
   ]
  },
  {
   "cell_type": "code",
   "execution_count": null,
   "metadata": {},
   "outputs": [],
   "source": [
    "def wt_region():\n",
    "    rec = patches.Rectangle(\n",
    "        (WTWEST-360, WTSOUTH),\n",
    "        WTEAST - WTWEST,\n",
    "        WTNORTH - WTSOUTH,\n",
    "        color = 'red', label = 'Weather Typing Region',\n",
    "        fill = None, linewidth=2\n",
    "    )\n",
    "    return(rec)"
   ]
  },
  {
   "cell_type": "code",
   "execution_count": null,
   "metadata": {},
   "outputs": [],
   "source": [
    "def rpy_rgn():\n",
    "    rec = patches.Rectangle(\n",
    "        (RPWEST-360, RPSOUTH),\n",
    "        RPEAST - RPWEST,\n",
    "        RPNORTH - RPSOUTH,\n",
    "        color = 'black', label = 'Lower PY River Basin',\n",
    "        fill = None, linewidth=2\n",
    "        )\n",
    "    return(rec)"
   ]
  },
  {
   "cell_type": "markdown",
   "metadata": {},
   "source": [
    "Get elevation data"
   ]
  },
  {
   "cell_type": "code",
   "execution_count": null,
   "metadata": {},
   "outputs": [],
   "source": [
    "elev = xr.open_dataarray('../data/accessed/elevation.nc').sel(X=slice(-85, -32.5), Y=slice(-50,15))\n",
    "Xe, Ye = np.meshgrid(elev.X, elev.Y)\n",
    "log_elev = np.log10(elev)\n",
    "log_elev = np.ma.masked_invalid(log_elev)\n",
    "elev = np.ma.masked_invalid(elev)"
   ]
  },
  {
   "cell_type": "markdown",
   "metadata": {},
   "source": [
    "Code to create the axes"
   ]
  },
  {
   "cell_type": "code",
   "execution_count": null,
   "metadata": {},
   "outputs": [],
   "source": [
    "fig, axes = viz.SetupAxes(ncol = 2, nax = 1, proj = ccrs.PlateCarree(), figsize = [10,7.5])\n",
    "# LEFT PLOT: Show Study area in context of South America\n",
    "ax = axes[0]\n",
    "C = ax.pcolormesh(Xe, Ye, log_elev, vmin=-0.5, vmax=4, cmap='terrain')\n",
    "ax.add_patch(wt_region())\n",
    "ax.add_patch(rpy_rgn())\n",
    "ax.legend(loc='lower right')\n",
    "\n",
    "# RIGHT PLOT: Lower Paraguay River\n",
    "ax = axes[1]\n",
    "C = ax.pcolormesh(Xe, Ye, log_elev, vmin=-0.5, vmax=4, cmap='terrain')\n",
    "ax.add_patch(rpy_rgn())\n",
    "rivernum_plot = [36, 1032, 1125, 294]\n",
    "for rec in rivers.records():\n",
    "    name = rec.attributes['name']\n",
    "    num = rec.attributes['rivernum']\n",
    "    if np.in1d(num, rivernum_plot):\n",
    "        ax.add_geometries( [rec.geometry], ccrs.PlateCarree(), edgecolor='blue', facecolor='none')\n",
    "    pass\n",
    "for i in range(desc.shape[0]):\n",
    "    ax.scatter(x=desc['lon'][i], y = desc['lat'][i], color='k')\n",
    "    ax.text(x=desc['lon'][i] + 0.25, y = desc['lat'][i] - 0.1, s = desc['short_name'][i], color='black')\n",
    "\n",
    "ax.legend(loc = 'upper left')\n",
    "\n",
    "# Countries, extents, ticks\n",
    "viz.FormatAxes(axes[0], coast=True, grid=True, border=True, river = False, feature_list = [], states=False,\n",
    "           extent = [-85, -32.5, -50, 15], ticks=[np.linspace(-180, 180, 37), np.linspace(-90, 90, 19)])\n",
    "viz.FormatAxes(axes[1], coast=True, grid=True, border=True, river = False, feature_list = [], states=False,\n",
    "           extent = [-67.5, -52.5, -30, -12.5], ticks=[np.linspace(-180, 180, 73), np.linspace(-90, 90, 37)])\n",
    "plt.tight_layout()\n",
    "fig.subplots_adjust(right=0.9)\n",
    "cax1 = fig.add_axes([0.92, 0.2, 0.02, 0.6])\n",
    "cb = plt.colorbar(C, cax=cax1)\n",
    "cb.set_label(r\"$\\log_{10}$ Elevation [m]\", rotation=270)\n",
    "cb.ax.get_yaxis().labelpad = 20\n",
    "\n",
    "if savefigs:\n",
    "    fig.savefig(\"../figs/StudyArea.jpg\", bbox_inches='tight', dpi=500)"
   ]
  }
 ],
 "metadata": {
  "kernelspec": {
   "display_name": "Python 3",
   "language": "python",
   "name": "python3"
  },
  "language_info": {
   "codemirror_mode": {
    "name": "ipython",
    "version": 3
   },
   "file_extension": ".py",
   "mimetype": "text/x-python",
   "name": "python",
   "nbconvert_exporter": "python",
   "pygments_lexer": "ipython3",
   "version": "3.6.3"
  }
 },
 "nbformat": 4,
 "nbformat_minor": 2
}
