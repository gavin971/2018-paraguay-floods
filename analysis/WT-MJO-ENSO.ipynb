{
 "cells": [
  {
   "cell_type": "code",
   "execution_count": null,
   "metadata": {},
   "outputs": [],
   "source": [
    "import xarray as xr\n",
    "import matplotlib.pyplot as plt\n",
    "import numpy as np\n",
    "import pandas as pd\n",
    "import paraguayfloodspy.visualize as viz # custom plotting library"
   ]
  },
  {
   "cell_type": "markdown",
   "metadata": {},
   "source": [
    "Define parameters"
   ]
  },
  {
   "cell_type": "code",
   "execution_count": null,
   "metadata": {},
   "outputs": [],
   "source": [
    "%matplotlib inline\n",
    "savefig = False"
   ]
  },
  {
   "cell_type": "markdown",
   "metadata": {},
   "source": [
    "Read in data"
   ]
  },
  {
   "cell_type": "code",
   "execution_count": null,
   "metadata": {},
   "outputs": [],
   "source": [
    "wt = pd.read_csv('../data/derived/WeatherTypes.csv', parse_dates=True, index_col='time')\n",
    "mjo = pd.read_csv('../data/accessed/daily_indices.csv', parse_dates=True, index_col='time')\n",
    "enso = pd.read_csv('../data/accessed/monthly_indices.csv', parse_dates=True, index_col='time')\n",
    "enso = enso.resample('1D').ffill()\n",
    "mrg = wt.join(mjo).join(enso)\n",
    "mrg.loc[mrg['amplitude'] < 1, 'phase'] =  0\n",
    "mrg.head()"
   ]
  },
  {
   "cell_type": "markdown",
   "metadata": {},
   "source": [
    "Fit a multinomial regression"
   ]
  },
  {
   "cell_type": "code",
   "execution_count": null,
   "metadata": {},
   "outputs": [],
   "source": [
    "from sklearn.linear_model import LogisticRegression\n",
    "y_train = mrg[['wtype']].values.ravel()"
   ]
  },
  {
   "cell_type": "code",
   "execution_count": null,
   "metadata": {},
   "outputs": [],
   "source": [
    "from sklearn.preprocessing import OneHotEncoder\n",
    "enc = OneHotEncoder().fit_transform(mrg['phase'].values[:, np.newaxis]).toarray()\n",
    "X_train = np.append(enc, mrg['nino_34'].values[:, np.newaxis], axis=1)\n",
    "fit = LogisticRegression(\n",
    "    fit_intercept=False, \n",
    "    multi_class='multinomial', \n",
    "    solver ='saga'\n",
    ").fit(X_train,y_train)\n",
    "predictors = ['Neutral', 'Phase1', 'Phase2', 'Phase3', 'Phase4', 'Phase5', 'Phase6', 'Phase7', 'Phase8', 'NINO_34']\n",
    "WT = [1, 2, 3, 4, 5, 6]\n",
    "coefficients = xr.DataArray(\n",
    "    data = fit.coef_,\n",
    "    coords = {'Predictor': predictors, 'WT': WT},\n",
    "    dims = ('WT', \"Predictor\")\n",
    ")\n",
    "coefficients.to_pandas()"
   ]
  },
  {
   "cell_type": "code",
   "execution_count": null,
   "metadata": {},
   "outputs": [],
   "source": [
    "X_train = mrg[['nino_34', 'RMM1', 'RMM2']].values\n",
    "fit = LogisticRegression(\n",
    "    fit_intercept=True, \n",
    "    multi_class='multinomial', \n",
    "    solver ='saga'\n",
    ").fit(X_train,y_train)\n",
    "predictors = ['Intercept', 'NINO_34', 'RMM1', 'RMM2']\n",
    "WT = [1, 2, 3, 4, 5, 6]\n",
    "coefficients = xr.DataArray(\n",
    "    data = np.append(fit.intercept_[:, np.newaxis], fit.coef_, axis=1),\n",
    "    coords = {'Predictor': predictors, 'WT': WT},\n",
    "    dims = ('WT', \"Predictor\")\n",
    ")\n",
    "coefficients.to_pandas()"
   ]
  }
 ],
 "metadata": {
  "kernelspec": {
   "display_name": "Python 3",
   "language": "python",
   "name": "python3"
  },
  "language_info": {
   "codemirror_mode": {
    "name": "ipython",
    "version": 3
   },
   "file_extension": ".py",
   "mimetype": "text/x-python",
   "name": "python",
   "nbconvert_exporter": "python",
   "pygments_lexer": "ipython3",
   "version": "3.6.3"
  }
 },
 "nbformat": 4,
 "nbformat_minor": 2
}
