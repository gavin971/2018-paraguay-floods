{
 "cells": [
  {
   "cell_type": "code",
   "execution_count": null,
   "metadata": {},
   "outputs": [],
   "source": [
    "import xarray as xr\n",
    "import matplotlib.pyplot as plt\n",
    "import numpy as np\n",
    "import pandas as pd\n",
    "import paraguayfloodspy.visualize as viz # custom plotting library"
   ]
  },
  {
   "cell_type": "markdown",
   "metadata": {},
   "source": [
    "Define parameters"
   ]
  },
  {
   "cell_type": "code",
   "execution_count": null,
   "metadata": {},
   "outputs": [],
   "source": [
    "%matplotlib inline\n",
    "savefig = True"
   ]
  },
  {
   "cell_type": "markdown",
   "metadata": {},
   "source": [
    "Read in data"
   ]
  },
  {
   "cell_type": "code",
   "execution_count": null,
   "metadata": {},
   "outputs": [],
   "source": [
    "wt = pd.read_csv('../data/derived/WeatherTypes.csv', parse_dates=True, index_col='time')\n",
    "mjo = pd.read_csv('../data/accessed/daily_indices.csv', parse_dates=True, index_col='time')\n",
    "enso = pd.read_csv('../data/accessed/monthly_indices.csv', parse_dates=True, index_col='time')\n",
    "enso = enso.resample('1D').ffill()\n",
    "mrg = wt.join(mjo).join(enso)\n",
    "mrg.loc[mrg['amplitude'] < 1, 'phase'] =  0\n",
    "mrg['enso_state'] = 0\n",
    "mrg.loc[mrg['nino_34'] < -1, 'enso_state'] = -1\n",
    "mrg.loc[mrg['nino_34'] > 1, 'enso_state'] = 1\n",
    "mrg.head()"
   ]
  },
  {
   "cell_type": "code",
   "execution_count": null,
   "metadata": {},
   "outputs": [],
   "source": [
    "conditional = mrg.groupby(['phase', 'enso_state'])['wtype'].apply(lambda g: g.value_counts() / g.size)\n",
    "conditional = conditional.to_xarray()\n",
    "anomaly = conditional - conditional.mean(dim=['level_2'])"
   ]
  },
  {
   "cell_type": "code",
   "execution_count": null,
   "metadata": {},
   "outputs": [],
   "source": [
    "n_sim = 3000\n",
    "anomalies = []\n",
    "for i in np.arange(n_sim):\n",
    "    wt_seq = np.random.choice(mrg['wtype'], size=mrg.shape[0], replace=True)\n",
    "    simulated = pd.DataFrame({'wtype': wt_seq, 'phase': mrg['phase'], 'enso_state': mrg['enso_state']})\n",
    "    conditional = simulated.groupby(['phase', 'enso_state'])['wtype'].apply(lambda g: g.value_counts() / g.size)\n",
    "    conditional = conditional.to_xarray()\n",
    "    anomalies.append(conditional - conditional.mean(dim=['level_2']))\n",
    "anomalies = xr.concat(anomalies, dim='temp')"
   ]
  },
  {
   "cell_type": "markdown",
   "metadata": {},
   "source": [
    "Select significant values"
   ]
  },
  {
   "cell_type": "code",
   "execution_count": null,
   "metadata": {},
   "outputs": [],
   "source": [
    "alpha = 0.10\n",
    "upper = anomalies.quantile(1-alpha/2, dim='temp')\n",
    "lower = anomalies.quantile(alpha/2, dim='temp')\n",
    "significant = np.logical_or((anomaly >= upper), (anomaly <= lower))"
   ]
  },
  {
   "cell_type": "markdown",
   "metadata": {},
   "source": [
    "Plot"
   ]
  },
  {
   "cell_type": "code",
   "execution_count": null,
   "metadata": {},
   "outputs": [],
   "source": [
    "enso_states = {-1: 'La Niña', 0: 'Neutral', 1: 'El Niño'}"
   ]
  },
  {
   "cell_type": "code",
   "execution_count": null,
   "metadata": {},
   "outputs": [],
   "source": [
    "p = anomaly.where(significant).plot(\n",
    "    x='level_2', y='phase', col='enso_state', \n",
    "    cmap='PuOr',\n",
    "    figsize=(12, 5)\n",
    ")\n",
    "for i,es in enumerate(enso_states):\n",
    "    ax = p.axes.flat[i]\n",
    "    ax.set_title(enso_states.get(i-1, ''))\n",
    "    ax.set_xlabel('Weather Type')\n",
    "p.axes[0,0].set_ylabel('MJO Phase')\n",
    "p.cbar.set_label('Anomalous Probability of Occurrence', rotation=270)\n",
    "if savefig:\n",
    "    plt.savefig('../figs/WT_MJO_ENSO.pdf', bbox_inches='tight')"
   ]
  }
 ],
 "metadata": {
  "kernelspec": {
   "display_name": "Python 3",
   "language": "python",
   "name": "python3"
  },
  "language_info": {
   "codemirror_mode": {
    "name": "ipython",
    "version": 3
   },
   "file_extension": ".py",
   "mimetype": "text/x-python",
   "name": "python",
   "nbconvert_exporter": "python",
   "pygments_lexer": "ipython3",
   "version": "3.6.3"
  }
 },
 "nbformat": 4,
 "nbformat_minor": 2
}
