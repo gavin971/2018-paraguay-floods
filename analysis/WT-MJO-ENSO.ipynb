{
 "cells": [
  {
   "cell_type": "code",
   "execution_count": null,
   "metadata": {},
   "outputs": [],
   "source": [
    "import xarray as xr\n",
    "import matplotlib.pyplot as plt\n",
    "import numpy as np\n",
    "import pandas as pd\n",
    "import paraguayfloodspy.visualize as viz # custom plotting library"
   ]
  },
  {
   "cell_type": "markdown",
   "metadata": {},
   "source": [
    "Define parameters"
   ]
  },
  {
   "cell_type": "code",
   "execution_count": null,
   "metadata": {},
   "outputs": [],
   "source": [
    "%matplotlib inline\n",
    "savefig = False"
   ]
  },
  {
   "cell_type": "markdown",
   "metadata": {},
   "source": [
    "Read in data"
   ]
  },
  {
   "cell_type": "code",
   "execution_count": null,
   "metadata": {},
   "outputs": [],
   "source": [
    "wt = pd.read_csv('../data/derived/WeatherTypes.csv', parse_dates=True, index_col='time')\n",
    "mjo = pd.read_csv('../data/accessed/daily_indices.csv', parse_dates=True, index_col='time')\n",
    "enso = pd.read_csv('../data/accessed/monthly_indices.csv', parse_dates=True, index_col='time')\n",
    "enso = enso.resample('1D').ffill()\n",
    "mrg = wt.join(mjo).join(enso)\n",
    "mrg.loc[mrg['amplitude'] < 1, 'phase'] =  0\n",
    "mrg.head()"
   ]
  },
  {
   "cell_type": "code",
   "execution_count": null,
   "metadata": {},
   "outputs": [],
   "source": [
    "mrg['enso_state'] = 'Neutral'\n",
    "mrg.loc[mrg['nino_34'] < -1, 'enso_state'] = 'NINA'\n",
    "mrg.loc[mrg['nino_34'] > 1, 'enso_state'] = 'NINO'"
   ]
  },
  {
   "cell_type": "code",
   "execution_count": null,
   "metadata": {},
   "outputs": [],
   "source": [
    "conditional = mrg.groupby(['phase', 'enso_state'])['wtype'].apply(lambda g: g.value_counts()/len(g))\n",
    "conditional = conditional.to_xarray()"
   ]
  },
  {
   "cell_type": "code",
   "execution_count": null,
   "metadata": {},
   "outputs": [],
   "source": [
    "anomaly = conditional - conditional.mean(dim=['level_2'])"
   ]
  },
  {
   "cell_type": "code",
   "execution_count": null,
   "metadata": {},
   "outputs": [],
   "source": [
    "p = anomaly.plot(col='enso_state', figsize=(15,5), cmap='PuOr')\n",
    "plt.xticks([1,2,3,4,5,6])\n",
    "for ax in p.axes.flat:\n",
    "    ax.set_xlabel('Weather Type')\n",
    "plt.show()"
   ]
  }
 ],
 "metadata": {
  "kernelspec": {
   "display_name": "Python 3",
   "language": "python",
   "name": "python3"
  },
  "language_info": {
   "codemirror_mode": {
    "name": "ipython",
    "version": 3
   },
   "file_extension": ".py",
   "mimetype": "text/x-python",
   "name": "python",
   "nbconvert_exporter": "python",
   "pygments_lexer": "ipython3",
   "version": "3.6.3"
  }
 },
 "nbformat": 4,
 "nbformat_minor": 2
}
