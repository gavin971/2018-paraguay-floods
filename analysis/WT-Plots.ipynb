{
 "cells": [
  {
   "cell_type": "markdown",
   "metadata": {},
   "source": [
    "# Weather Type\n",
    "\n",
    "The purpose of this notebook is to plot the circulation patterns associated with the various weather types and the time series of weather types"
   ]
  },
  {
   "cell_type": "code",
   "execution_count": null,
   "metadata": {},
   "outputs": [],
   "source": [
    "import numpy as np\n",
    "import pandas as pd\n",
    "import xarray as xr\n",
    "import calendar\n",
    "import matplotlib.pyplot as plt\n",
    "import matplotlib.cm as cm\n",
    "import cartopy.crs as ccrs\n",
    "import cartopy.feature\n",
    "import paraguayfloodspy.visualize as viz # custom plotting library\n",
    "import matplotlib.patches as patches\n",
    "%matplotlib inline"
   ]
  },
  {
   "cell_type": "markdown",
   "metadata": {},
   "source": [
    "Load in configuration parameters from file"
   ]
  },
  {
   "cell_type": "code",
   "execution_count": null,
   "metadata": {},
   "outputs": [],
   "source": [
    "%run ../config/WeatherTypes.mk\n",
    "print(WTEAST, WTWEST, WTSOUTH, WTNORTH)"
   ]
  },
  {
   "cell_type": "markdown",
   "metadata": {},
   "source": [
    "Load in plotting options from file"
   ]
  },
  {
   "cell_type": "code",
   "execution_count": null,
   "metadata": {},
   "outputs": [],
   "source": [
    "savefigs = True\n",
    "%run ../config/PlotParameters.py\n",
    "print(extent)\n",
    "print(cmap)"
   ]
  },
  {
   "cell_type": "markdown",
   "metadata": {},
   "source": [
    "Read in raw data"
   ]
  },
  {
   "cell_type": "code",
   "execution_count": null,
   "metadata": {},
   "outputs": [],
   "source": [
    "psi850 = xr.open_dataset(\"../data/derived/psi_850.nc\")\n",
    "psi200 = xr.open_dataset(\"../data/derived/psi_200.nc\")\n",
    "prcp = xr.open_dataset('../data/derived/precip.nc')\n",
    "wtypes = pd.read_csv(\"../data/derived/WeatherTypes.csv\", index_col='time', parse_dates=True)"
   ]
  },
  {
   "cell_type": "markdown",
   "metadata": {},
   "source": [
    "Get the X and Y coordinates for plotting"
   ]
  },
  {
   "cell_type": "code",
   "execution_count": null,
   "metadata": {},
   "outputs": [],
   "source": [
    "X, Y = np.meshgrid(psi850.lon, psi850.lat)\n",
    "Xp, Yp = np.meshgrid(prcp.lon, prcp.lat)"
   ]
  },
  {
   "cell_type": "markdown",
   "metadata": {},
   "source": [
    "Print out the climatological probability of each weather type"
   ]
  },
  {
   "cell_type": "code",
   "execution_count": null,
   "metadata": {},
   "outputs": [],
   "source": [
    "wt_counts = wtypes.groupby('wtype').size()\n",
    "wt_counts2 = wtypes['2015-11-01':'2016-02-29'].groupby('wtype').size()\n",
    "wt_prop = pd.DataFrame({'climatology': wt_counts / np.sum(wt_counts), \n",
    "              'NDJF1516': wt_counts2 / np.sum(wt_counts2)})"
   ]
  },
  {
   "cell_type": "code",
   "execution_count": null,
   "metadata": {},
   "outputs": [],
   "source": [
    "plt.figure(figsize=(8.5, 4.5))\n",
    "plt.plot(wt_prop['climatology'], label = \"Climatology\")\n",
    "plt.plot(wt_prop['NDJF1516'], label = \"2015-16\")\n",
    "plt.xlabel(\"Weather Type\")\n",
    "plt.ylabel(\"Proportion of Total Days\")\n",
    "plt.legend()\n",
    "plt.grid()\n",
    "if savefigs:\n",
    "    plt.savefig(\"../figs/WT_Occurrence_Proportion.pdf\")"
   ]
  },
  {
   "cell_type": "code",
   "execution_count": null,
   "metadata": {},
   "outputs": [],
   "source": [
    "wt_prop.to_latex(\"../writeup/WeatherTypeProp.tex\")\n",
    "wt_prop"
   ]
  },
  {
   "cell_type": "markdown",
   "metadata": {},
   "source": [
    "Repeat for NDJF 2015-16"
   ]
  },
  {
   "cell_type": "markdown",
   "metadata": {},
   "source": [
    "## Composites"
   ]
  },
  {
   "cell_type": "code",
   "execution_count": null,
   "metadata": {},
   "outputs": [],
   "source": [
    "wt_all = np.unique(wtypes['wtype'])\n",
    "ncols = len(wt_all)"
   ]
  },
  {
   "cell_type": "markdown",
   "metadata": {},
   "source": [
    "Give us a box to indicate the weather typing region"
   ]
  },
  {
   "cell_type": "code",
   "execution_count": null,
   "metadata": {},
   "outputs": [],
   "source": [
    "def wt_region():\n",
    "    rec = patches.Rectangle(\n",
    "        (WTWEST-360, WTSOUTH),\n",
    "        WTEAST - WTWEST,\n",
    "        WTNORTH - WTSOUTH,\n",
    "        color = 'blue', label = 'Weather Typing Region',\n",
    "        fill = None, linewidth=2,\n",
    "        transform = ccrs.PlateCarree()\n",
    "    )\n",
    "    return(rec)"
   ]
  },
  {
   "cell_type": "markdown",
   "metadata": {},
   "source": [
    "Create the plot"
   ]
  },
  {
   "cell_type": "code",
   "execution_count": null,
   "metadata": {},
   "outputs": [],
   "source": [
    "fig, axes = viz.SetupAxes(ncol = ncols, nax = 3 * ncols, proj = ccrs.Orthographic(-60, -10), figsize = [18, 7])\n",
    "for i,wt in enumerate(wt_all):\n",
    "    def selector(ds):\n",
    "        times = wtypes.loc[wtypes['wtype'] == wt].index\n",
    "        ds = ds.sel(time = np.in1d(ds.time, times))\n",
    "        ds = ds.mean(dim = 'time')\n",
    "        return(ds)\n",
    "\n",
    "    # Row 1: 850 hPa wind\n",
    "    ax = axes[0, i]\n",
    "    ax.set_title('WT {}: {:.1%} of days'.format(wt, wt_prop['climatology'].values[i]))\n",
    "    C0 = ax.contourf(X, Y, selector(psi200['anomaly']), transform = ccrs.PlateCarree(), \n",
    "                     cmap = cmap['psi_a'], extend=\"both\", \n",
    "                     levels=np.linspace(-9e6, 9e6, 10))\n",
    "    #\n",
    "    ax = axes[1, i]\n",
    "    C1 = ax.contourf(X, Y, selector(psi850['anomaly']), transform = ccrs.PlateCarree(), \n",
    "                     cmap = cmap['psi_a'], extend=\"both\", \n",
    "                     levels=np.linspace(-4.5e6, 4.5e6, 10))\n",
    "    #\n",
    "    ax = axes[2, i]\n",
    "    sub = selector(prcp['anomaly']).values\n",
    "    sub = np.ma.masked_invalid(sub)\n",
    "    C2 = ax.contourf(Xp, Yp, sub, transform = ccrs.PlateCarree(), \n",
    "                     cmap = cmap['rain_a'], extend='both', \n",
    "                     levels=np.linspace(-6, 6, 13))\n",
    "plt.tight_layout()\n",
    "fig.subplots_adjust(right=0.94)\n",
    "cax0 = fig.add_axes([0.96, 0.7, 0.007, 0.25])\n",
    "cax1 = fig.add_axes([0.96, 0.375, 0.007, 0.25])\n",
    "cax2 = fig.add_axes([0.96, 0.05, 0.007, 0.25])\n",
    "cbar0 = fig.colorbar(C0, cax = cax0)\n",
    "cbar0.formatter.set_powerlimits((7, 7))\n",
    "cbar0.update_ticks() \n",
    "cbar0.set_label(r'$\\psi_{200}$ Anomaly [$m^2$/s]', rotation=270)\n",
    "cbar0.ax.get_yaxis().labelpad = 20\n",
    "#\n",
    "cbar1 = fig.colorbar(C1, cax = cax1)\n",
    "cbar1.formatter.set_powerlimits((6, 6))\n",
    "cbar1.update_ticks() \n",
    "cbar1.set_label(r'$\\psi_{850}$ Anomaly [$m^2$/s]', rotation=270)\n",
    "cbar1.ax.get_yaxis().labelpad = 20\n",
    "# \n",
    "cbar2 = fig.colorbar(C2, cax=cax2)\n",
    "cbar2.set_label('Precip. Anomaly [mm/d]', rotation=270)\n",
    "cbar2.ax.get_yaxis().labelpad = 20\n",
    "# \n",
    "viz.FormatAxes(axes, extent = extent['SAm'])\n",
    "#\n",
    "if savefigs:\n",
    "    fig.savefig(\"../figs/WTComposite.pdf\", bbox_inches='tight')"
   ]
  },
  {
   "cell_type": "markdown",
   "metadata": {},
   "source": [
    "## Time Series"
   ]
  },
  {
   "cell_type": "code",
   "execution_count": null,
   "metadata": {},
   "outputs": [],
   "source": [
    "prcp_rpy = pd.read_csv(\"../data/derived/rainfall_rpy.csv\", index_col='time')[['raw']]\n",
    "prcp_rpy_sub = prcp_rpy['2015-11-01':'2016-02-29']"
   ]
  },
  {
   "cell_type": "code",
   "execution_count": null,
   "metadata": {},
   "outputs": [],
   "source": [
    "wtypes_sub = wtypes['2015-11-01':'2016-02-29']\n",
    "wt_prcp = prcp_rpy_sub.join(wtypes_sub)\n",
    "wt_prcp.head()"
   ]
  },
  {
   "cell_type": "code",
   "execution_count": null,
   "metadata": {},
   "outputs": [],
   "source": [
    "fig = plt.figure(figsize=(14,4))\n",
    "plt.plot(wt_prcp.index, wt_prcp['raw'], color='gray', linewidth=1)\n",
    "plt.axhline(np.nanpercentile(prcp_rpy['raw'], 50), label=\"p50\", color='blue', linestyle='--', linewidth=0.75)\n",
    "plt.axhline(np.nanpercentile(prcp_rpy['raw'], 90), label=\"p90\", color='blue', linestyle='--', linewidth=0.75)\n",
    "plt.axhline(np.nanpercentile(prcp_rpy['raw'], 99), label=\"p99\", color='blue', linestyle='--', linewidth=0.75)\n",
    "plt.scatter(wt_prcp.index, wt_prcp['raw'], c=wt_prcp['wtype'], cmap=plt.get_cmap('Accent', 6), s=65)\n",
    "plt.ylabel('Area-Averaged Rainfall [mm/d]')\n",
    "plt.grid(True)\n",
    "for i,t in enumerate(wt_prcp.index):\n",
    "    plt.text(t, wt_prcp.iloc[i]['raw'], '{:d}'.format(np.int(wt_prcp.iloc[i]['wtype'])))\n",
    "if savefigs:\n",
    "    fig.savefig(\"../figs/RainfallWeatherType.pdf\", bbox_inches='tight')"
   ]
  }
 ],
 "metadata": {
  "kernelspec": {
   "display_name": "Python 3",
   "language": "python",
   "name": "python3"
  },
  "language_info": {
   "codemirror_mode": {
    "name": "ipython",
    "version": 3
   },
   "file_extension": ".py",
   "mimetype": "text/x-python",
   "name": "python",
   "nbconvert_exporter": "python",
   "pygments_lexer": "ipython3",
   "version": "3.6.2"
  }
 },
 "nbformat": 4,
 "nbformat_minor": 2
}
