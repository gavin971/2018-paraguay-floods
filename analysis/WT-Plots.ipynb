{
 "cells": [
  {
   "cell_type": "markdown",
   "metadata": {},
   "source": [
    "# Weather Type\n",
    "\n",
    "The purpose of this notebook is to plot the circulation patterns associated with the various weather types and the time series of weather types"
   ]
  },
  {
   "cell_type": "code",
   "execution_count": null,
   "metadata": {},
   "outputs": [],
   "source": [
    "import numpy as np\n",
    "import pandas as pd\n",
    "import xarray as xr\n",
    "import calendar\n",
    "import matplotlib.pyplot as plt\n",
    "import matplotlib.cm as cm\n",
    "import cartopy.crs as ccrs\n",
    "import cartopy.feature\n",
    "import paraguayfloodspy.visualize as viz # custom plotting library\n",
    "import matplotlib.patches as patches\n",
    "%matplotlib inline"
   ]
  },
  {
   "cell_type": "markdown",
   "metadata": {},
   "source": [
    "Load in configuration parameters from file"
   ]
  },
  {
   "cell_type": "code",
   "execution_count": null,
   "metadata": {},
   "outputs": [],
   "source": [
    "%run ../config/WeatherTypes.mk\n",
    "print(WTEAST, WTWEST, WTSOUTH, WTNORTH)"
   ]
  },
  {
   "cell_type": "markdown",
   "metadata": {},
   "source": [
    "Define the extents to use for these plots and get some consistent color schemes"
   ]
  },
  {
   "cell_type": "code",
   "execution_count": null,
   "metadata": {},
   "outputs": [],
   "source": [
    "savefigs = True\n",
    "rain_extent = [275, 330, 5, -45]\n",
    "my_extent = [-110,-20,-60,10]\n",
    "cmap_streamfunc = 'PuOr'\n",
    "cmap_streamfunc_a = 'PuOr'\n",
    "cmap_rain = 'Greens'\n",
    "cmap_raina = 'BrBG'"
   ]
  },
  {
   "cell_type": "markdown",
   "metadata": {},
   "source": [
    "Read in raw data"
   ]
  },
  {
   "cell_type": "code",
   "execution_count": null,
   "metadata": {},
   "outputs": [],
   "source": [
    "psi = xr.open_dataset('../data/derived/psi_850.nc')\n",
    "prcp = xr.open_dataset('../data/derived/precip.nc')\n",
    "wtypes = pd.read_csv(\"../data/derived/WeatherTypes.csv\", index_col='time', parse_dates=True)"
   ]
  },
  {
   "cell_type": "markdown",
   "metadata": {},
   "source": [
    "Get the X and Y coordinates for plotting"
   ]
  },
  {
   "cell_type": "code",
   "execution_count": null,
   "metadata": {},
   "outputs": [],
   "source": [
    "X, Y = np.meshgrid(psi.lon, psi.lat)\n",
    "Xp, Yp = np.meshgrid(prcp.lon, prcp.lat)"
   ]
  },
  {
   "cell_type": "markdown",
   "metadata": {},
   "source": [
    "Print out the climatological probability of each weather type"
   ]
  },
  {
   "cell_type": "code",
   "execution_count": null,
   "metadata": {},
   "outputs": [],
   "source": [
    "wt_counts = wtypes.groupby('wtype').size()\n",
    "wt_counts2 = wtypes['2015-11-01':'2016-02-29'].groupby('wtype').size()\n",
    "wt_prop = pd.DataFrame({'climatology': wt_counts / np.sum(wt_counts), \n",
    "              'NDJF1516': wt_counts2 / np.sum(wt_counts2)})"
   ]
  },
  {
   "cell_type": "code",
   "execution_count": null,
   "metadata": {},
   "outputs": [],
   "source": [
    "plt.figure(figsize=(6.5, 4.5))\n",
    "plt.plot(wt_prop['climatology'], label = \"Climatology\")\n",
    "plt.plot(wt_prop['NDJF1516'], label = \"2015-16\")\n",
    "plt.xlabel(\"Weather Type\")\n",
    "plt.ylabel(\"Proportion of Total Days\")\n",
    "plt.legend()\n",
    "plt.grid()\n",
    "if savefigs:\n",
    "    plt.savefig(\"../figs/WT_Occurrence_Proportion.pdf\")"
   ]
  },
  {
   "cell_type": "code",
   "execution_count": null,
   "metadata": {},
   "outputs": [],
   "source": [
    "wt_prop"
   ]
  },
  {
   "cell_type": "markdown",
   "metadata": {},
   "source": [
    "Repeat for NDJF 2015-16"
   ]
  },
  {
   "cell_type": "markdown",
   "metadata": {},
   "source": [
    "## Composites"
   ]
  },
  {
   "cell_type": "code",
   "execution_count": null,
   "metadata": {},
   "outputs": [],
   "source": [
    "wt_all = np.unique(wtypes['wtype'])\n",
    "ncols = len(wt_all)"
   ]
  },
  {
   "cell_type": "code",
   "execution_count": null,
   "metadata": {},
   "outputs": [],
   "source": [
    "fig, axes = viz.SetupAxes(ncol = ncols, nax = 2 * ncols, proj = ccrs.Orthographic(-60, -10), figsize = [18, 6])\n",
    "fig.subplots_adjust(right=0.95)\n",
    "cax1 = fig.add_axes([0.97, 0.55, 0.0075, 0.3])\n",
    "cax2 = fig.add_axes([0.97, 0.15, 0.0075, 0.3])\n",
    "for i,wt in enumerate(wt_all):\n",
    "    def selector(ds, wt):\n",
    "        times = wtypes.loc[wtypes['wtype'] == wt].index\n",
    "        ds = ds.sel(time = np.in1d(ds.time, times))\n",
    "        ds = ds.mean(dim = 'time')\n",
    "        return(ds)\n",
    "\n",
    "    # Row 1: 850 hPa wind\n",
    "    ax = axes[0, i]\n",
    "    ax.set_title('WT {}: {:.1%} of days'.format(wt, wt_prop['climatology'].values[i]))\n",
    "    C1 = ax.contourf(X, Y, selector(psi['anomaly'], wt=wt), transform = ccrs.PlateCarree(), \n",
    "                     cmap = cmap_streamfunc_a, extend=\"both\", levels=np.linspace(-7e6, 7e6, 15))\n",
    "    # Indicate WT Region\n",
    "    ax.add_patch(\n",
    "            patches.Rectangle((-65, -30), 20,15, #X,Y,dX,dY\n",
    "                color = 'black', fill = None, linewidth=2, alpha=1))\n",
    "    \n",
    "    # Row 2: Rainfall\n",
    "    ax = axes[1, i]\n",
    "    sub = selector(prcp['anomaly'], wt=wt).values\n",
    "    sub = np.ma.masked_invalid(sub)\n",
    "    C2 = ax.contourf(Xp, Yp, sub, transform = ccrs.PlateCarree(), \n",
    "                     cmap = cmap_raina, levels=np.linspace(-6, 6, 13), extend='both')\n",
    "\n",
    "# Colorbars for Reanalysis Data\n",
    "cbar1 = fig.colorbar(C1, cax = cax1)\n",
    "cbar1.formatter.set_powerlimits((7, 7))\n",
    "cbar1.update_ticks()\n",
    "cbar1.set_label(r'Streamfunction at 850 hPa', rotation=270)\n",
    "cbar1.ax.get_yaxis().labelpad = 15\n",
    "\n",
    "# Colorbar for Rainfall\n",
    "cbar2 = fig.colorbar(C2, cax=cax2)\n",
    "cbar2.set_label(r'Rainfall [mm/d]', rotation=270)\n",
    "cbar2.ax.get_yaxis().labelpad = 15\n",
    "\n",
    "# Coasts and Countries\n",
    "viz.FormatAxes(axes[0,:], coast=True, grid=False, border=True, river = False,\n",
    "               feature_list = [], states=False, extent = rain_extent, ticks=None)\n",
    "viz.FormatAxes(axes[1,:], coast=True, grid=False, border=True, river = False,\n",
    "               feature_list = [], states=False, extent = rain_extent, ticks=None)\n",
    "\n",
    "if savefigs:\n",
    "    fig.savefig(\"../figs/WTComposite.pdf\", bbox_inches='tight')"
   ]
  },
  {
   "cell_type": "markdown",
   "metadata": {},
   "source": [
    "## Time Series"
   ]
  },
  {
   "cell_type": "code",
   "execution_count": null,
   "metadata": {},
   "outputs": [],
   "source": [
    "prcp_rpy = pd.read_csv(\"../data/derived/rainfall_rpy.csv\", index_col='time')[['raw']]\n",
    "prcp_rpy_sub = prcp_rpy['2015-11-01':'2016-02-29']"
   ]
  },
  {
   "cell_type": "code",
   "execution_count": null,
   "metadata": {},
   "outputs": [],
   "source": [
    "wtypes_sub = wtypes['2015-11-01':'2016-02-29']\n",
    "wt_prcp = prcp_rpy_sub.join(wtypes_sub)\n",
    "wt_prcp.head()"
   ]
  },
  {
   "cell_type": "code",
   "execution_count": null,
   "metadata": {},
   "outputs": [],
   "source": [
    "plt.style.use('ggplot')"
   ]
  },
  {
   "cell_type": "code",
   "execution_count": null,
   "metadata": {},
   "outputs": [],
   "source": [
    "cmap = plt.get_cmap('Accent', 6)\n",
    "fig = plt.figure(figsize=(14,4))\n",
    "plt.plot(wt_prcp.index, wt_prcp['raw'], color='gray', linewidth=1)\n",
    "plt.axhline(np.percentile(prcp_rpy, 50), label=\"p50\", color='blue', linestyle='--', linewidth=0.75)\n",
    "plt.axhline(np.percentile(prcp_rpy, 90), label=\"p90\", color='blue', linestyle='--', linewidth=0.75)\n",
    "plt.axhline(np.percentile(prcp_rpy, 99), label=\"p99\", color='blue', linestyle='--', linewidth=0.75)\n",
    "plt.scatter(wt_prcp.index, wt_prcp['raw'], c=wt_prcp['wtype'], cmap=cmap, s=65)\n",
    "plt.ylabel('Area-Averaged Rainfall [mm/d]')\n",
    "for i,t in enumerate(wt_prcp.index):\n",
    "    plt.text(t, wt_prcp.iloc[i]['raw'], '{:d}'.format(np.int(wt_prcp.iloc[i]['wtype'])))\n",
    "if savefigs:\n",
    "    fig.savefig(\"../figs/RainfallWeatherType.pdf\", bbox_inches='tight')"
   ]
  }
 ],
 "metadata": {
  "kernelspec": {
   "display_name": "Python 3",
   "language": "python",
   "name": "python3"
  },
  "language_info": {
   "codemirror_mode": {
    "name": "ipython",
    "version": 3
   },
   "file_extension": ".py",
   "mimetype": "text/x-python",
   "name": "python",
   "nbconvert_exporter": "python",
   "pygments_lexer": "ipython3",
   "version": "3.6.2"
  }
 },
 "nbformat": 4,
 "nbformat_minor": 2
}
