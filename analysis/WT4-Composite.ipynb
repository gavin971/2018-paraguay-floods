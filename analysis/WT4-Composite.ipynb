{
 "cells": [
  {
   "cell_type": "code",
   "execution_count": null,
   "metadata": {},
   "outputs": [],
   "source": [
    "import numpy as np\n",
    "import pandas as pd\n",
    "import xarray as xr\n",
    "import matplotlib.pyplot as plt\n",
    "from matplotlib import patches\n",
    "import cartopy.crs as ccrs\n",
    "import cartopy.feature\n",
    "import paraguayfloodspy.visualize as viz\n",
    "%matplotlib inline"
   ]
  },
  {
   "cell_type": "markdown",
   "metadata": {},
   "source": [
    "## Setup\n",
    "\n",
    "Load the parameters of the data"
   ]
  },
  {
   "cell_type": "code",
   "execution_count": null,
   "metadata": {},
   "outputs": [],
   "source": [
    "wt = pd.read_csv('../data/derived/WeatherTypes.csv', index_col='time', parse_dates=True)\n",
    "wt['T'] = wt.index.to_period(\"M\")\n",
    "wt = wt.groupby(['T', 'wtype']).size().unstack()\n",
    "wt.sort_values(4, ascending=False).head()"
   ]
  },
  {
   "cell_type": "code",
   "execution_count": null,
   "metadata": {},
   "outputs": [],
   "source": [
    "def lon_360to180(longitude):\n",
    "    x = longitude.copy()\n",
    "    x[np.where(x > 180)] = x[np.where(x > 180)] - 360\n",
    "    return(x)"
   ]
  },
  {
   "cell_type": "code",
   "execution_count": null,
   "metadata": {},
   "outputs": [],
   "source": [
    "sst = xr.open_dataarray('../data/accessed/sst.nc', decode_times=False).sel(Y = slice(-70, 15))\n",
    "sst['T'] = pd.PeriodIndex(freq='m', start='1981-11', periods=sst['T'].size).to_timestamp()"
   ]
  },
  {
   "cell_type": "markdown",
   "metadata": {},
   "source": [
    "# Months with Most WT 4"
   ]
  },
  {
   "cell_type": "code",
   "execution_count": null,
   "metadata": {},
   "outputs": [],
   "source": [
    "n_months = 15\n",
    "times = wt.sort_values(4, ascending=False).head(n_months).index.to_timestamp()"
   ]
  },
  {
   "cell_type": "code",
   "execution_count": null,
   "metadata": {},
   "outputs": [],
   "source": [
    "composite_wt4 = sst.sel(T = np.in1d(sst['T'], times)).mean(dim='T')"
   ]
  },
  {
   "cell_type": "code",
   "execution_count": null,
   "metadata": {},
   "outputs": [],
   "source": [
    "def dipole_box():\n",
    "    rec = patches.Rectangle(\n",
    "        (360-30, -50), 20, 30,\n",
    "        color = 'black', label = 'Box',\n",
    "        fill = None, linewidth=2,\n",
    "        transform = ccrs.PlateCarree()\n",
    "    )\n",
    "    return(rec)"
   ]
  },
  {
   "cell_type": "code",
   "execution_count": null,
   "metadata": {},
   "outputs": [],
   "source": [
    "fig, ax = viz.SetupAxes(ncol = 1, nax = 1, proj = ccrs.PlateCarree(-100), figsize = [16, 5])\n",
    "composite_wt4.plot.contourf(\n",
    "    ax=ax, transform=ccrs.PlateCarree(), levels=np.linspace(-0.6, 0.6, 13), \n",
    "    cmap='PuOr_r', cbar_kwargs={'label': 'SST Anomaly [Degrees C]'}, extend='both'\n",
    ")\n",
    "ax.add_patch(dipole_box())\n",
    "viz.FormatAxes(\n",
    "    ax, coast=True, grid=False, border=True, river = False, feature_list = [], states=False, \n",
    "    ticks=[np.linspace(0, 360, 19), np.linspace(-90, 90, 19)]\n",
    ")\n",
    "ax.set_xlim([-120, 120])\n",
    "ax.set_ylim([-70, 15])\n",
    "fig.savefig('../figs/WT4_Monthly_Composite.pdf'.format(n_months), bbox_inches='tight')"
   ]
  }
 ],
 "metadata": {
  "kernelspec": {
   "display_name": "Python 3",
   "language": "python",
   "name": "python3"
  },
  "language_info": {
   "codemirror_mode": {
    "name": "ipython",
    "version": 3
   },
   "file_extension": ".py",
   "mimetype": "text/x-python",
   "name": "python",
   "nbconvert_exporter": "python",
   "pygments_lexer": "ipython3",
   "version": "3.6.3"
  }
 },
 "nbformat": 4,
 "nbformat_minor": 2
}
