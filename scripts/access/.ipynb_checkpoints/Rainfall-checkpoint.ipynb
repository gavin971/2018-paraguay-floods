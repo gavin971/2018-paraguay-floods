{
 "cells": [
  {
   "cell_type": "markdown",
   "metadata": {},
   "source": [
    "Here we download Get the CPC data from the IRI Data Library.\n",
    "We only get rainfall estimate -- neglects information on number of stations used in analysis.\n",
    "Please see caveats and documentation on IRI Server at http://iridl.ldeo.columbia.edu/SOURCES/.NOAA/.NCEP/.CPC/.UNIFIED_PRCP/.GAUGE_BASED/.GLOBAL/.v1p0/"
   ]
  },
  {
   "cell_type": "code",
   "execution_count": 1,
   "metadata": {
    "collapsed": true
   },
   "outputs": [],
   "source": [
    "import pandas as pd\n",
    "import numpy as np\n",
    "import datetime\n",
    "import os\n",
    "import xarray as xr\n",
    "from paraguayfloodspy.xrutil import *\n",
    "from paraguayfloodspy.pars  import GetPars"
   ]
  },
  {
   "cell_type": "markdown",
   "metadata": {},
   "source": [
    "Get the parameters we need"
   ]
  },
  {
   "cell_type": "code",
   "execution_count": 2,
   "metadata": {
    "collapsed": true
   },
   "outputs": [],
   "source": [
    "pars = GetPars('time')\n",
    "syear, eyear = pars['syear'], pars['eyear']\n",
    "overwrite = False"
   ]
  },
  {
   "cell_type": "markdown",
   "metadata": {},
   "source": [
    "Define a function to do the heavy lifting.\n",
    "Essentially, the function, for each year:\n",
    "\n",
    "1. Sets the URL for \"retro\" data if the year is 2005 or earlier, or the \"realtime\" data for after 2005\n",
    "2. Converts the IRI Data Library values of T to a more standard format\n",
    "3. Reads a year of data\n",
    "\n",
    "This data is then saved to file"
   ]
  },
  {
   "cell_type": "code",
   "execution_count": 3,
   "metadata": {
    "collapsed": true
   },
   "outputs": [],
   "source": [
    "# IRI Has strange time conventions\n",
    "def convert_t_to_time(Tvec):\n",
    "    times = np.array([datetime.date(1960, 1, 1) + datetime.timedelta(np.int(ti)) for ti in Tvec])\n",
    "    return(np.array(times))\n",
    "def convert_time_to_t(date):\n",
    "    date_diff = date - datetime.date(1960,1,1)\n",
    "    T = date_diff.days\n",
    "    return(T)"
   ]
  },
  {
   "cell_type": "code",
   "execution_count": 4,
   "metadata": {
    "collapsed": true
   },
   "outputs": [],
   "source": [
    "def IRICPCYear(year, verbose=True):\n",
    "        if verbose:\n",
    "            print('Downloading data for {}...'.format(year))\n",
    "        # realtime or retro?\n",
    "        if year >= 1979 and year <= 2005:\n",
    "            url = 'http://iridl.ldeo.columbia.edu/SOURCES/.NOAA/.NCEP/.CPC/.UNIFIED_PRCP/.GAUGE_BASED/.GLOBAL/.v1p0/.RETRO/.rain/dods'\n",
    "        elif year >= 2006 and year <= 2016:\n",
    "            url = 'http://iridl.ldeo.columbia.edu/SOURCES/.NOAA/.NCEP/.CPC/.UNIFIED_PRCP/.GAUGE_BASED/.GLOBAL/.v1p0/.REALTIME/.rain/dods'\n",
    "        else:\n",
    "            raise ValueError('You have entered an invalid year. {} is outside range [1979, 2016]'.format(year))\n",
    "\n",
    "        # get the data\n",
    "        Tstart = convert_time_to_t(datetime.date(year, 1, 1))\n",
    "        Tend = convert_time_to_t(datetime.date(year, 12, 31))\n",
    "        ds = xr.open_dataarray(url, decode_times=False)\n",
    "        ds = ds.sel(T = slice(Tstart, Tend))\n",
    "        ds.load() # force it to download\n",
    "\n",
    "        # convert to more standard format\n",
    "        ds = ds.rename({'X': 'lon', 'Y': 'lat', 'T': 'time'})\n",
    "        ds['time'] = convert_t_to_time(ds['time'])\n",
    "        ds['time'] = ds['time'].astype('datetime64')\n",
    "        return(ds)"
   ]
  },
  {
   "cell_type": "markdown",
   "metadata": {},
   "source": [
    "For each year of data that we download, we need a filename for it"
   ]
  },
  {
   "cell_type": "code",
   "execution_count": 5,
   "metadata": {
    "collapsed": true
   },
   "outputs": [],
   "source": [
    "def GetFileName(year):\n",
    "    fn = \"../_data/rainfall/raw/cpc_{}.nc\".format(year)\n",
    "    return(fn)"
   ]
  },
  {
   "cell_type": "markdown",
   "metadata": {},
   "source": [
    "Now loop through the years and download data to file"
   ]
  },
  {
   "cell_type": "code",
   "execution_count": 6,
   "metadata": {
    "scrolled": false
   },
   "outputs": [
    {
     "name": "stdout",
     "output_type": "stream",
     "text": [
      "\tData for 1979 already exists -- not re-downloading\n",
      "\tData for 1980 already exists -- not re-downloading\n",
      "\tData for 1981 already exists -- not re-downloading\n",
      "\tData for 1982 already exists -- not re-downloading\n",
      "\tData for 1983 already exists -- not re-downloading\n",
      "\tData for 1984 already exists -- not re-downloading\n",
      "\tData for 1985 already exists -- not re-downloading\n",
      "\tData for 1986 already exists -- not re-downloading\n",
      "\tData for 1987 already exists -- not re-downloading\n",
      "\tData for 1988 already exists -- not re-downloading\n",
      "\tData for 1989 already exists -- not re-downloading\n",
      "\tData for 1990 already exists -- not re-downloading\n",
      "\tData for 1991 already exists -- not re-downloading\n",
      "\tData for 1992 already exists -- not re-downloading\n",
      "\tData for 1993 already exists -- not re-downloading\n",
      "\tData for 1994 already exists -- not re-downloading\n",
      "\tData for 1995 already exists -- not re-downloading\n",
      "\tData for 1996 already exists -- not re-downloading\n",
      "\tData for 1997 already exists -- not re-downloading\n",
      "\tData for 1998 already exists -- not re-downloading\n",
      "\tData for 1999 already exists -- not re-downloading\n",
      "\tData for 2000 already exists -- not re-downloading\n",
      "\tData for 2001 already exists -- not re-downloading\n",
      "\tData for 2002 already exists -- not re-downloading\n",
      "\tData for 2003 already exists -- not re-downloading\n",
      "\tData for 2004 already exists -- not re-downloading\n",
      "\tData for 2005 already exists -- not re-downloading\n",
      "\tData for 2006 already exists -- not re-downloading\n",
      "\tData for 2007 already exists -- not re-downloading\n",
      "\tData for 2008 already exists -- not re-downloading\n",
      "\tData for 2009 already exists -- not re-downloading\n",
      "\tData for 2010 already exists -- not re-downloading\n",
      "\tData for 2011 already exists -- not re-downloading\n",
      "\tData for 2012 already exists -- not re-downloading\n",
      "\tData for 2013 already exists -- not re-downloading\n",
      "\tData for 2014 already exists -- not re-downloading\n",
      "\tData for 2015 already exists -- not re-downloading\n",
      "\tData for 2016 already exists -- not re-downloading\n"
     ]
    }
   ],
   "source": [
    "for year_i in np.arange(syear, eyear+1):\n",
    "    fn = GetFileName(year=year_i)\n",
    "    if os.path.isfile(fn) and not overwrite:\n",
    "        print(\"\\tData for {} already exists -- not re-downloading\".format(year_i))\n",
    "    else:\n",
    "        ds = IRICPCYear(year=year_i, verbose=True)\n",
    "        ds.to_netcdf(fn, format='NETCDF4')"
   ]
  }
 ],
 "metadata": {
  "kernelspec": {
   "display_name": "Python 3",
   "language": "python",
   "name": "python3"
  },
  "language_info": {
   "codemirror_mode": {
    "name": "ipython",
    "version": 3
   },
   "file_extension": ".py",
   "mimetype": "text/x-python",
   "name": "python",
   "nbconvert_exporter": "python",
   "pygments_lexer": "ipython3",
   "version": "3.6.2"
  }
 },
 "nbformat": 4,
 "nbformat_minor": 2
}
