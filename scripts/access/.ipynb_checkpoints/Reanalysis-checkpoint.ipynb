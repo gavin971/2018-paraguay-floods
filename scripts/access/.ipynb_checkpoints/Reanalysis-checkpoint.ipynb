{
 "cells": [
  {
   "cell_type": "markdown",
   "metadata": {},
   "source": [
    "Read in reanalysis data from NCEP-NCAR Reanalysis I data set."
   ]
  },
  {
   "cell_type": "code",
   "execution_count": 2,
   "metadata": {},
   "outputs": [
    {
     "ename": "ImportError",
     "evalue": "dlopen(/usr/local/miniconda3/envs/pyfloods/lib/python3.6/site-packages/_spherepack.cpython-36m-darwin.so, 2): Library not loaded: @rpath/libgfortran.3.dylib\n  Referenced from: /usr/local/miniconda3/envs/pyfloods/lib/python3.6/site-packages/_spherepack.cpython-36m-darwin.so\n  Reason: image not found",
     "output_type": "error",
     "traceback": [
      "\u001b[0;31m---------------------------------------------------------------------------\u001b[0m",
      "\u001b[0;31mImportError\u001b[0m                               Traceback (most recent call last)",
      "\u001b[0;32m<ipython-input-2-0f0ee0ac3059>\u001b[0m in \u001b[0;36m<module>\u001b[0;34m()\u001b[0m\n\u001b[1;32m      3\u001b[0m \u001b[0;32mimport\u001b[0m \u001b[0mos\u001b[0m\u001b[0;34m\u001b[0m\u001b[0m\n\u001b[1;32m      4\u001b[0m \u001b[0;32mfrom\u001b[0m \u001b[0mparaguayfloodspy\u001b[0m\u001b[0;34m.\u001b[0m\u001b[0mpars\u001b[0m  \u001b[0;32mimport\u001b[0m \u001b[0mGetPars\u001b[0m\u001b[0;34m\u001b[0m\u001b[0m\n\u001b[0;32m----> 5\u001b[0;31m \u001b[0;32mfrom\u001b[0m \u001b[0mwindspharm\u001b[0m\u001b[0;34m.\u001b[0m\u001b[0mxarray\u001b[0m \u001b[0;32mimport\u001b[0m \u001b[0mVectorWind\u001b[0m\u001b[0;34m\u001b[0m\u001b[0m\n\u001b[0m",
      "\u001b[0;32m/usr/local/miniconda3/envs/pyfloods/lib/python3.6/site-packages/windspharm/__init__.py\u001b[0m in \u001b[0;36m<module>\u001b[0;34m()\u001b[0m\n\u001b[1;32m     21\u001b[0m \u001b[0;32mfrom\u001b[0m \u001b[0m__future__\u001b[0m \u001b[0;32mimport\u001b[0m \u001b[0mabsolute_import\u001b[0m\u001b[0;34m\u001b[0m\u001b[0m\n\u001b[1;32m     22\u001b[0m \u001b[0;34m\u001b[0m\u001b[0m\n\u001b[0;32m---> 23\u001b[0;31m \u001b[0;32mfrom\u001b[0m \u001b[0;34m.\u001b[0m \u001b[0;32mimport\u001b[0m \u001b[0mstandard\u001b[0m\u001b[0;34m\u001b[0m\u001b[0m\n\u001b[0m\u001b[1;32m     24\u001b[0m \u001b[0;32mfrom\u001b[0m \u001b[0;34m.\u001b[0m \u001b[0;32mimport\u001b[0m \u001b[0mtools\u001b[0m\u001b[0;34m\u001b[0m\u001b[0m\n\u001b[1;32m     25\u001b[0m \u001b[0;34m\u001b[0m\u001b[0m\n",
      "\u001b[0;32m/usr/local/miniconda3/envs/pyfloods/lib/python3.6/site-packages/windspharm/standard.py\u001b[0m in \u001b[0;36m<module>\u001b[0;34m()\u001b[0m\n\u001b[1;32m     20\u001b[0m \u001b[0;31m# THE SOFTWARE.\u001b[0m\u001b[0;34m\u001b[0m\u001b[0;34m\u001b[0m\u001b[0m\n\u001b[1;32m     21\u001b[0m \u001b[0;32mimport\u001b[0m \u001b[0mnumpy\u001b[0m \u001b[0;32mas\u001b[0m \u001b[0mnp\u001b[0m\u001b[0;34m\u001b[0m\u001b[0m\n\u001b[0;32m---> 22\u001b[0;31m \u001b[0;32mfrom\u001b[0m \u001b[0mspharm\u001b[0m \u001b[0;32mimport\u001b[0m \u001b[0mSpharmt\u001b[0m\u001b[0;34m,\u001b[0m \u001b[0mgaussian_lats_wts\u001b[0m\u001b[0;34m\u001b[0m\u001b[0m\n\u001b[0m\u001b[1;32m     23\u001b[0m \u001b[0;34m\u001b[0m\u001b[0m\n\u001b[1;32m     24\u001b[0m \u001b[0;34m\u001b[0m\u001b[0m\n",
      "\u001b[0;32m/usr/local/miniconda3/envs/pyfloods/lib/python3.6/site-packages/spharm/__init__.py\u001b[0m in \u001b[0;36m<module>\u001b[0;34m()\u001b[0m\n\u001b[0;32m----> 1\u001b[0;31m \u001b[0;32mfrom\u001b[0m \u001b[0;34m.\u001b[0m\u001b[0mspharm\u001b[0m \u001b[0;32mimport\u001b[0m \u001b[0m__doc__\u001b[0m\u001b[0;34m\u001b[0m\u001b[0m\n\u001b[0m\u001b[1;32m      2\u001b[0m \u001b[0;32mfrom\u001b[0m \u001b[0;34m.\u001b[0m\u001b[0mspharm\u001b[0m \u001b[0;32mimport\u001b[0m \u001b[0m__version__\u001b[0m\u001b[0;34m\u001b[0m\u001b[0m\n\u001b[1;32m      3\u001b[0m \u001b[0;32mfrom\u001b[0m \u001b[0;34m.\u001b[0m\u001b[0mspharm\u001b[0m \u001b[0;32mimport\u001b[0m \u001b[0;34m*\u001b[0m\u001b[0;34m\u001b[0m\u001b[0m\n",
      "\u001b[0;32m/usr/local/miniconda3/envs/pyfloods/lib/python3.6/site-packages/spharm/spharm.py\u001b[0m in \u001b[0;36m<module>\u001b[0;34m()\u001b[0m\n\u001b[1;32m    121\u001b[0m \u001b[0mPERFORMANCE\u001b[0m \u001b[0mOF\u001b[0m \u001b[0mTHIS\u001b[0m \u001b[0mSOFTWARE\u001b[0m\u001b[0;34m.\u001b[0m\u001b[0;34m\u001b[0m\u001b[0m\n\u001b[1;32m    122\u001b[0m \"\"\"\n\u001b[0;32m--> 123\u001b[0;31m \u001b[0;32mimport\u001b[0m \u001b[0m_spherepack\u001b[0m\u001b[0;34m,\u001b[0m \u001b[0mnumpy\u001b[0m\u001b[0;34m,\u001b[0m \u001b[0mmath\u001b[0m\u001b[0;34m,\u001b[0m \u001b[0msys\u001b[0m\u001b[0;34m\u001b[0m\u001b[0m\n\u001b[0m\u001b[1;32m    124\u001b[0m \u001b[0;34m\u001b[0m\u001b[0m\n\u001b[1;32m    125\u001b[0m \u001b[0;31m# define a list of instance variables that cannot be rebound\u001b[0m\u001b[0;34m\u001b[0m\u001b[0;34m\u001b[0m\u001b[0m\n",
      "\u001b[0;31mImportError\u001b[0m: dlopen(/usr/local/miniconda3/envs/pyfloods/lib/python3.6/site-packages/_spherepack.cpython-36m-darwin.so, 2): Library not loaded: @rpath/libgfortran.3.dylib\n  Referenced from: /usr/local/miniconda3/envs/pyfloods/lib/python3.6/site-packages/_spherepack.cpython-36m-darwin.so\n  Reason: image not found"
     ]
    }
   ],
   "source": [
    "import numpy as np\n",
    "import xarray as xr\n",
    "import os\n",
    "from paraguayfloodspy.pars  import GetPars\n",
    "from windspharm.xarray import VectorWind"
   ]
  },
  {
   "cell_type": "markdown",
   "metadata": {},
   "source": [
    "Define the boundaries of the data to retrieve in space and time.\n",
    "Note that in order to calculate the streamfunction, which we will plot later, we need to have a global domain.\n",
    "See [package `windspharm` documentation](http://ajdawson.github.io/windspharm/userguide/) for more details."
   ]
  },
  {
   "cell_type": "code",
   "execution_count": null,
   "metadata": {
    "collapsed": true
   },
   "outputs": [],
   "source": [
    "time_pars = GetPars('time')\n",
    "syear,eyear = time_pars['syear'], time_pars['eyear']"
   ]
  },
  {
   "cell_type": "markdown",
   "metadata": {},
   "source": [
    "Define the levels we want"
   ]
  },
  {
   "cell_type": "code",
   "execution_count": null,
   "metadata": {
    "collapsed": true
   },
   "outputs": [],
   "source": [
    "levels = [200, 850]\n",
    "years = np.arange(syear, eyear+1)\n",
    "overwrite = False # overwrite existing data?"
   ]
  },
  {
   "cell_type": "markdown",
   "metadata": {},
   "source": [
    "The approach to data management here is to try to minimize the number of times data needs to be re-downloaded (trial and error is a tough teacher...).\n",
    "Consequently, we first download a relatively complete data set (all years in our range, and all levels in our range).\n",
    "That is implemented in this notebook.\n",
    "Later, we calculate anomalies and climatologies for a subset of the data -- this is very quick and if we change our spatial or temporal domain, we don't need to re-download anything.\n",
    "\n",
    "Now, for each level, we will run through each year from `syear` to `eyear`.\n",
    "Then, for each year, we will:\n",
    "\n",
    "1. Download the six-hour zonal ($u$) wind for that level and year and save to file\n",
    "2. Download the six-hour meridional ($v$) wind for that level ande year and save to file\n",
    "3. Calculate the six-hour streamfunction ($\\psi$) for that year and save to file\n",
    "\n",
    "The `overwrite` parameter specified above determines whether the data is downloaded even if the file is already on disk -- this can be useful for downloading a bit at a time."
   ]
  },
  {
   "cell_type": "code",
   "execution_count": null,
   "metadata": {
    "scrolled": false
   },
   "outputs": [],
   "source": [
    "for level_i in levels:\n",
    "    print(\"Now working on {}hPa data\".format(level_i))\n",
    "    for year_i in years:\n",
    "        # Define URL and Output File Names\n",
    "        url_u = 'https://www.esrl.noaa.gov/psd/thredds/dodsC/Datasets/ncep.reanalysis/pressure/uwnd.{}.nc'.format(year_i)\n",
    "        url_v = 'https://www.esrl.noaa.gov/psd/thredds/dodsC/Datasets/ncep.reanalysis/pressure/vwnd.{}.nc'.format(year_i)\n",
    "        fname_u = '../_data/reanalysis/raw/uwnd_{}_{}.nc'.format(level_i, year_i)\n",
    "        fname_v = '../_data/reanalysis/raw/vwnd_{}_{}.nc'.format(level_i, year_i)\n",
    "        fname_streamfunc = '../_data/reanalysis/raw/streamfunc_{}_{}.nc'.format(level_i, year_i)\n",
    "        if (os.path.isfile(fname_u) and os.path.isfile(fname_v) and os.path.isfile(fname_streamfunc)) and not overwrite:\n",
    "            print(\"\\tData for {} already exists -- not re-downloading\".format(year_i))\n",
    "        else:\n",
    "            print(\"\\tDownloading data for {}\".format(year_i))\n",
    "            # Get the raw wind\n",
    "            U = xr.open_dataarray(url_u).sel(level=level_i).load()\n",
    "            V = xr.open_dataarray(url_v).sel(level=level_i).load()\n",
    "            # Get streamfunction\n",
    "            W = VectorWind(U, V)\n",
    "            streamfunc = W.streamfunction()\n",
    "            # Save to file\n",
    "            U.to_netcdf(fname_u)\n",
    "            V.to_netcdf(fname_v)\n",
    "            streamfunc.to_netcdf(fname_streamfunc)"
   ]
  }
 ],
 "metadata": {
  "kernelspec": {
   "display_name": "Python 3",
   "language": "python",
   "name": "python3"
  },
  "language_info": {
   "codemirror_mode": {
    "name": "ipython",
    "version": 3
   },
   "file_extension": ".py",
   "mimetype": "text/x-python",
   "name": "python",
   "nbconvert_exporter": "python",
   "pygments_lexer": "ipython3",
   "version": "3.6.2"
  }
 },
 "nbformat": 4,
 "nbformat_minor": 2
}
