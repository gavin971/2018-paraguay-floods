{
 "cells": [
  {
   "cell_type": "code",
   "execution_count": 1,
   "metadata": {
    "collapsed": true
   },
   "outputs": [],
   "source": [
    "import xarray as xr\n",
    "import numpy as np\n",
    "import pandas as pd\n",
    "import datetime\n",
    "from paraguayfloodspy.pars import GetPars"
   ]
  },
  {
   "cell_type": "markdown",
   "metadata": {},
   "source": [
    "## Data from IRI DL Angel"
   ]
  },
  {
   "cell_type": "code",
   "execution_count": 2,
   "metadata": {
    "collapsed": true
   },
   "outputs": [],
   "source": [
    "forecasts = ['Raw', 'XLR', 'PCR', 'CCA']\n",
    "models = forecasts.copy(); models.remove('Raw')"
   ]
  },
  {
   "cell_type": "code",
   "execution_count": 3,
   "metadata": {
    "collapsed": true
   },
   "outputs": [],
   "source": [
    "obs_url = 'http://iridl.ldeo.columbia.edu/home/.agmunoz/.Paraguay/.Obs/.Obsrain_90thpctl/dods'\n",
    "obs_exceed = xr.open_dataarray(obs_url)\n",
    "obs_exceed = obs_exceed.isel(T=(obs_exceed['T'].size - 1))\n",
    "hatch0 = np.ma.masked_invalid(obs_exceed.values)\n",
    "hatch = np.ma.masked_less(hatch0, 0.9)\n",
    "Xh, Yh = np.meshgrid(obs_exceed.X, obs_exceed.Y)"
   ]
  },
  {
   "cell_type": "code",
   "execution_count": 4,
   "metadata": {
    "scrolled": true
   },
   "outputs": [],
   "source": [
    "for i,m in enumerate(forecasts):\n",
    "    url = 'http://iridl.ldeo.columbia.edu/ds%3A/home/.agmunoz/.Paraguay/.{}/.Odds_1-7Dec2015/dods'.format(m)\n",
    "    ds = xr.open_dataarray(url)\n",
    "    if len(ds.shape) > 2:\n",
    "        ds = ds.isel(time = 0)\n",
    "    if i == 0:\n",
    "        odds = xr.Dataset({'{}'.format(m): ds})\n",
    "    else:\n",
    "        odds = odds.merge(xr.Dataset({'{}'.format(m): ds}))\n",
    "    url = 'http://iridl.ldeo.columbia.edu/home/.agmunoz/.Paraguay/.{}/.2AFCProbFcsts/dods'.format(m)\n",
    "    ds = xr.open_dataarray(url)\n",
    "    if len(ds.shape) > 2:\n",
    "        ds = ds.isel(time = 0)\n",
    "    if i == 0:\n",
    "        skill = xr.Dataset({'{}'.format(m): ds})\n",
    "    else:\n",
    "        skill = skill.merge(xr.Dataset({'{}'.format(m): ds}))"
   ]
  },
  {
   "cell_type": "code",
   "execution_count": 5,
   "metadata": {
    "collapsed": true
   },
   "outputs": [],
   "source": [
    "odds.to_netcdf(\"../_data/s2s/Forecast_Dec1_7.nc\")\n",
    "skill.to_netcdf(\"../_data/s2s/Skill_Dec1_7.nc\")"
   ]
  },
  {
   "cell_type": "markdown",
   "metadata": {},
   "source": [
    "## Box Forecasts"
   ]
  },
  {
   "cell_type": "code",
   "execution_count": 6,
   "metadata": {},
   "outputs": [
    {
     "data": {
      "text/plain": [
       "{'clim_plot': {'latmax': 10, 'latmin': -55, 'lonmax': 360, 'lonmin': 240},\n",
       " 'months': [11, 12, 1, 2],\n",
       " 'rain': {'latmax': 10, 'latmin': -55, 'lonmax': 330, 'lonmin': 270},\n",
       " 'rpy_rain': {'latmax': -22.75,\n",
       "  'latmin': -26.75,\n",
       "  'lonmax': 304.75,\n",
       "  'lonmin': 301.25},\n",
       " 'time': {'eyear': 2016, 'syear': 1979},\n",
       " 'wt_rgn': {'latmax': -15, 'latmin': -30, 'lonmax': 315, 'lonmin': 295}}"
      ]
     },
     "execution_count": 6,
     "metadata": {},
     "output_type": "execute_result"
    }
   ],
   "source": [
    "pars = GetPars('all')\n",
    "pars"
   ]
  },
  {
   "cell_type": "code",
   "execution_count": 7,
   "metadata": {},
   "outputs": [],
   "source": [
    "def GetURL(x0, x1, y0, y1):\n",
    "    url = 'http://iridl.ldeo.columbia.edu/home/.mbell/.ECMWF/.S2Stest/.S2S/.ECMF_ph2/.forecast/.perturbed/.sfc_precip/.tp/'\n",
    "    url += 'X/{}/{}/RANGEEDGES/'.format(x0, x1)\n",
    "    url += 'Y/{}/{}/RANGEEDGES/'.format(y0, y1)\n",
    "    url += '[X+Y]average/'\n",
    "    url += 'L+differences/'\n",
    "    url += 'dods'\n",
    "    return(url)"
   ]
  },
  {
   "cell_type": "code",
   "execution_count": 8,
   "metadata": {},
   "outputs": [
    {
     "name": "stdout",
     "output_type": "stream",
     "text": [
      "http://iridl.ldeo.columbia.edu/home/.mbell/.ECMWF/.S2Stest/.S2S/.ECMF_ph2/.forecast/.perturbed/.sfc_precip/.tp/X/301.25/304.75/RANGEEDGES/Y/-26.75/-22.75/RANGEEDGES/[X+Y]average/L+differences/dods\n"
     ]
    }
   ],
   "source": [
    "url = GetURL(x0=pars['rpy_rain']['lonmin'],\n",
    "             x1=pars['rpy_rain']['lonmax'],\n",
    "             y0=pars['rpy_rain']['latmin'],\n",
    "             y1=pars['rpy_rain']['latmax'])\n",
    "print(url)"
   ]
  },
  {
   "cell_type": "code",
   "execution_count": 9,
   "metadata": {},
   "outputs": [],
   "source": [
    "ds = xr.open_dataarray(url)\n",
    "ds = ds.sel(S = slice('2015-09-01', '2016-02-29'))\n",
    "ds['L'] = ds['L']\n",
    "ds.to_netcdf(\"../_data/s2s/AreaAvg.nc\")"
   ]
  }
 ],
 "metadata": {
  "kernelspec": {
   "display_name": "Python 3",
   "language": "python",
   "name": "python3"
  },
  "language_info": {
   "codemirror_mode": {
    "name": "ipython",
    "version": 3
   },
   "file_extension": ".py",
   "mimetype": "text/x-python",
   "name": "python",
   "nbconvert_exporter": "python",
   "pygments_lexer": "ipython3",
   "version": "3.6.2"
  }
 },
 "nbformat": 4,
 "nbformat_minor": 2
}
