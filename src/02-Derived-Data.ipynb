version https://git-lfs.github.com/spec/v1
oid sha256:013d15a2963f15d26a9c0d44512548d2cb935a0a6430c8139d3c4cd04413a604
size 4675
