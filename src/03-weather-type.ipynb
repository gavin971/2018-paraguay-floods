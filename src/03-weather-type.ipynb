version https://git-lfs.github.com/spec/v1
oid sha256:11f0f3fa77b4ddb00f5e3ce1958ca063a0c302de98455b49fcfe9f80379840c4
size 3356
