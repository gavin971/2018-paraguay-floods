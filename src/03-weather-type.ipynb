version https://git-lfs.github.com/spec/v1
oid sha256:3ab82d66e7cd1e793edbd5143098f3aca642042abf1023a8f05187139243b041
size 360122
