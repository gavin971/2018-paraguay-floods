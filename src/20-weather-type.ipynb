version https://git-lfs.github.com/spec/v1
oid sha256:f6df2451532d0ab4b4db331649b96ea7bb7ae4931f0ad6cec8579678047db29c
size 3087
