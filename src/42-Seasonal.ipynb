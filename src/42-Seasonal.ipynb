version https://git-lfs.github.com/spec/v1
oid sha256:3b1a7992a2216a7454cf42d97a402f04d7954cb7f134ec86fef5dc2b0d3261e1
size 48516
