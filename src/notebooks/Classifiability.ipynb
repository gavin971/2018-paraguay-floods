version https://git-lfs.github.com/spec/v1
oid sha256:ecc6137868075852b46d22c988be82afcd1e9d889d14b5a79127e547d0d277d9
size 23324
