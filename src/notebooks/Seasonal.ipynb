version https://git-lfs.github.com/spec/v1
oid sha256:25e1511651d1f8c297fc85f00d4e7e21c2e90670df283ba6b2c9d9fe71f20e83
size 48858
